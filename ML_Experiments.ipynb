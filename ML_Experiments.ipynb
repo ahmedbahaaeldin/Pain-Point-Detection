{
 "cells": [
  {
   "cell_type": "markdown",
   "metadata": {},
   "source": [
    "# ML Experiments Notebook\n",
    "This notebook is designated for predicting the Pain point given a tweet text. "
   ]
  },
  {
   "cell_type": "code",
   "execution_count": 1,
   "metadata": {
    "id": "YiRYNbIXKJX1"
   },
   "outputs": [
    {
     "name": "stderr",
     "output_type": "stream",
     "text": [
      "C:\\Users\\ahmed\\anaconda3\\lib\\site-packages\\torchaudio\\extension\\extension.py:14: UserWarning: torchaudio C++ extension is not available.\n",
      "  warnings.warn('torchaudio C++ extension is not available.')\n",
      "C:\\Users\\ahmed\\anaconda3\\lib\\site-packages\\torchaudio\\backend\\utils.py:88: UserWarning: No audio backend is available.\n",
      "  warnings.warn('No audio backend is available.')\n"
     ]
    }
   ],
   "source": [
    "from utils import *\n",
    "import pandas as pd\n",
    "import numpy as np\n",
    "import torch"
   ]
  },
  {
   "cell_type": "code",
   "execution_count": 2,
   "metadata": {
    "id": "KpkJnHlHKUE7"
   },
   "outputs": [],
   "source": [
    "dataset = pd.read_excel('REVISION DATASET_b.xlsx')"
   ]
  },
  {
   "cell_type": "markdown",
   "metadata": {},
   "source": [
    "## Filter the dataset which only represent a Pain Point"
   ]
  },
  {
   "cell_type": "code",
   "execution_count": 3,
   "metadata": {
    "id": "BtRuZY1KKcET"
   },
   "outputs": [],
   "source": [
    "dataset = dataset[dataset['expresses a pain point'] == 'y']"
   ]
  },
  {
   "cell_type": "code",
   "execution_count": 4,
   "metadata": {
    "colab": {
     "base_uri": "https://localhost:8080/",
     "height": 428
    },
    "id": "ytyvx3okK6LO",
    "outputId": "263078fb-d7d6-4dd4-dbfb-c66d3b84ae58"
   },
   "outputs": [
    {
     "data": {
      "text/html": [
       "<div>\n",
       "<style scoped>\n",
       "    .dataframe tbody tr th:only-of-type {\n",
       "        vertical-align: middle;\n",
       "    }\n",
       "\n",
       "    .dataframe tbody tr th {\n",
       "        vertical-align: top;\n",
       "    }\n",
       "\n",
       "    .dataframe thead th {\n",
       "        text-align: right;\n",
       "    }\n",
       "</style>\n",
       "<table border=\"1\" class=\"dataframe\">\n",
       "  <thead>\n",
       "    <tr style=\"text-align: right;\">\n",
       "      <th></th>\n",
       "      <th>fullname</th>\n",
       "      <th>is_retweet</th>\n",
       "      <th>likes</th>\n",
       "      <th>replies</th>\n",
       "      <th>retweets</th>\n",
       "      <th>text</th>\n",
       "      <th>expresses a pain point</th>\n",
       "      <th>timestamp</th>\n",
       "      <th>timestamp_epochs</th>\n",
       "      <th>tweet_id</th>\n",
       "      <th>tweet_url</th>\n",
       "      <th>user_id</th>\n",
       "      <th>username</th>\n",
       "      <th>BRAND</th>\n",
       "      <th>Type of Pain</th>\n",
       "      <th>Subjectivity</th>\n",
       "      <th>Second category</th>\n",
       "      <th>Third category</th>\n",
       "      <th>Fourth category</th>\n",
       "      <th>Dataset</th>\n",
       "    </tr>\n",
       "  </thead>\n",
       "  <tbody>\n",
       "    <tr>\n",
       "      <th>0</th>\n",
       "      <td>Emmanuel Olabode</td>\n",
       "      <td>0</td>\n",
       "      <td>1</td>\n",
       "      <td>1</td>\n",
       "      <td>1</td>\n",
       "      <td>@ifemeetstech your pr team can help bridge the...</td>\n",
       "      <td>y</td>\n",
       "      <td>42175.965706</td>\n",
       "      <td>1434841837</td>\n",
       "      <td>6.123972e+17</td>\n",
       "      <td>/olabodeEO/status/612397168788406272</td>\n",
       "      <td>1955234486</td>\n",
       "      <td>olabodeEO</td>\n",
       "      <td>gap</td>\n",
       "      <td>Operational issues</td>\n",
       "      <td>NaN</td>\n",
       "      <td>NaN</td>\n",
       "      <td>NaN</td>\n",
       "      <td>NaN</td>\n",
       "      <td>Original</td>\n",
       "    </tr>\n",
       "    <tr>\n",
       "      <th>1</th>\n",
       "      <td>Alviniecððâ¨</td>\n",
       "      <td>0</td>\n",
       "      <td>0</td>\n",
       "      <td>0</td>\n",
       "      <td>0</td>\n",
       "      <td>mcdonalds really bein missing uhp people food ...</td>\n",
       "      <td>y</td>\n",
       "      <td>2014-09-01 23:25:17</td>\n",
       "      <td>1409613917</td>\n",
       "      <td>5.065836e+17</td>\n",
       "      <td>/ohhamazing/status/506583600599662592</td>\n",
       "      <td>2723652417</td>\n",
       "      <td>ohhamazing</td>\n",
       "      <td>mcdonalds</td>\n",
       "      <td>Product feature or quality</td>\n",
       "      <td>NaN</td>\n",
       "      <td>NaN</td>\n",
       "      <td>NaN</td>\n",
       "      <td>NaN</td>\n",
       "      <td>Original</td>\n",
       "    </tr>\n",
       "    <tr>\n",
       "      <th>2</th>\n",
       "      <td>Bobby</td>\n",
       "      <td>0</td>\n",
       "      <td>0</td>\n",
       "      <td>0</td>\n",
       "      <td>0</td>\n",
       "      <td>if they thought that little of him, why was he...</td>\n",
       "      <td>y</td>\n",
       "      <td>43719.958704</td>\n",
       "      <td>1568242832</td>\n",
       "      <td>1.171921e+18</td>\n",
       "      <td>/Bobbythegreat/status/1171921495309914112</td>\n",
       "      <td>33740752</td>\n",
       "      <td>Bobbythegreat</td>\n",
       "      <td>gap</td>\n",
       "      <td>Product feature or quality</td>\n",
       "      <td>NaN</td>\n",
       "      <td>NaN</td>\n",
       "      <td>NaN</td>\n",
       "      <td>NaN</td>\n",
       "      <td>Original</td>\n",
       "    </tr>\n",
       "    <tr>\n",
       "      <th>3</th>\n",
       "      <td>Elgen Bodenstien</td>\n",
       "      <td>0</td>\n",
       "      <td>0</td>\n",
       "      <td>0</td>\n",
       "      <td>0</td>\n",
       "      <td>when towns have locally owned  business capita...</td>\n",
       "      <td>y</td>\n",
       "      <td>2019-09-05 23:34:22</td>\n",
       "      <td>1567726462</td>\n",
       "      <td>1.169756e+18</td>\n",
       "      <td>/bodenstien/status/1169755684122087424</td>\n",
       "      <td>1167585352464424960</td>\n",
       "      <td>bodenstien</td>\n",
       "      <td>walmart</td>\n",
       "      <td>Company's image</td>\n",
       "      <td>NaN</td>\n",
       "      <td>NaN</td>\n",
       "      <td>NaN</td>\n",
       "      <td>NaN</td>\n",
       "      <td>Original</td>\n",
       "    </tr>\n",
       "    <tr>\n",
       "      <th>4</th>\n",
       "      <td>Robyn</td>\n",
       "      <td>0</td>\n",
       "      <td>3</td>\n",
       "      <td>1</td>\n",
       "      <td>1</td>\n",
       "      <td>@arma_vancouver health information in records ...</td>\n",
       "      <td>y</td>\n",
       "      <td>2019-01-23 22:43:08</td>\n",
       "      <td>1548283388</td>\n",
       "      <td>1.088206e+18</td>\n",
       "      <td>/RobynCBird/status/1088205518886191104</td>\n",
       "      <td>2206030555</td>\n",
       "      <td>RobynCBird</td>\n",
       "      <td>fitbit</td>\n",
       "      <td>Company's image</td>\n",
       "      <td>NaN</td>\n",
       "      <td>NaN</td>\n",
       "      <td>NaN</td>\n",
       "      <td>NaN</td>\n",
       "      <td>Original</td>\n",
       "    </tr>\n",
       "  </tbody>\n",
       "</table>\n",
       "</div>"
      ],
      "text/plain": [
       "              fullname  is_retweet  likes  replies  retweets  \\\n",
       "0     Emmanuel Olabode           0      1        1         1   \n",
       "1  Alviniecððâ¨           0      0        0         0   \n",
       "2                Bobby           0      0        0         0   \n",
       "3     Elgen Bodenstien           0      0        0         0   \n",
       "4                Robyn           0      3        1         1   \n",
       "\n",
       "                                                text expresses a pain point  \\\n",
       "0  @ifemeetstech your pr team can help bridge the...                      y   \n",
       "1  mcdonalds really bein missing uhp people food ...                      y   \n",
       "2  if they thought that little of him, why was he...                      y   \n",
       "3  when towns have locally owned  business capita...                      y   \n",
       "4  @arma_vancouver health information in records ...                      y   \n",
       "\n",
       "             timestamp  timestamp_epochs      tweet_id  \\\n",
       "0         42175.965706        1434841837  6.123972e+17   \n",
       "1  2014-09-01 23:25:17        1409613917  5.065836e+17   \n",
       "2         43719.958704        1568242832  1.171921e+18   \n",
       "3  2019-09-05 23:34:22        1567726462  1.169756e+18   \n",
       "4  2019-01-23 22:43:08        1548283388  1.088206e+18   \n",
       "\n",
       "                                   tweet_url              user_id  \\\n",
       "0       /olabodeEO/status/612397168788406272           1955234486   \n",
       "1      /ohhamazing/status/506583600599662592           2723652417   \n",
       "2  /Bobbythegreat/status/1171921495309914112             33740752   \n",
       "3     /bodenstien/status/1169755684122087424  1167585352464424960   \n",
       "4     /RobynCBird/status/1088205518886191104           2206030555   \n",
       "\n",
       "        username      BRAND                Type of Pain Subjectivity  \\\n",
       "0      olabodeEO        gap          Operational issues          NaN   \n",
       "1     ohhamazing  mcdonalds  Product feature or quality          NaN   \n",
       "2  Bobbythegreat        gap  Product feature or quality          NaN   \n",
       "3     bodenstien    walmart             Company's image          NaN   \n",
       "4     RobynCBird     fitbit             Company's image          NaN   \n",
       "\n",
       "  Second category Third category Fourth category   Dataset  \n",
       "0             NaN            NaN             NaN  Original  \n",
       "1             NaN            NaN             NaN  Original  \n",
       "2             NaN            NaN             NaN  Original  \n",
       "3             NaN            NaN             NaN  Original  \n",
       "4             NaN            NaN             NaN  Original  "
      ]
     },
     "execution_count": 4,
     "metadata": {},
     "output_type": "execute_result"
    }
   ],
   "source": [
    "dataset.head()"
   ]
  },
  {
   "cell_type": "markdown",
   "metadata": {},
   "source": [
    "## Remove the un-necessary columns and keep the text and its label only"
   ]
  },
  {
   "cell_type": "code",
   "execution_count": 5,
   "metadata": {},
   "outputs": [],
   "source": [
    "dataset = dataset[['text','Type of Pain']]"
   ]
  },
  {
   "cell_type": "markdown",
   "metadata": {},
   "source": [
    "## Visualize the distrubtion of different pain point categories."
   ]
  },
  {
   "cell_type": "code",
   "execution_count": 6,
   "metadata": {
    "colab": {
     "base_uri": "https://localhost:8080/"
    },
    "id": "zOiPxf-PKnzy",
    "outputId": "819e3838-c6e1-4023-9d27-fc500f73d741"
   },
   "outputs": [],
   "source": [
    "pain_point_categories = dataset['Type of Pain'].value_counts().index.tolist()\n",
    "pain_point_count = dataset['Type of Pain'].value_counts().to_list()"
   ]
  },
  {
   "cell_type": "code",
   "execution_count": 7,
   "metadata": {},
   "outputs": [
    {
     "data": {
      "image/png": "[encoded data removed]",
      "text/plain": [
       "<Figure size 432x288 with 1 Axes>"
      ]
     },
     "metadata": {},
     "output_type": "display_data"
    }
   ],
   "source": [
    "from matplotlib import pyplot as plt\n",
    "fig = plt.figure()\n",
    "ax = fig.add_axes([0,0,1,1])\n",
    "ax.axis('equal')\n",
    "langs = pain_point_categories\n",
    "students = pain_point_count\n",
    "ax.pie(students, labels = langs,autopct='%1.2f%%')\n",
    "plt.show()"
   ]
  },
  {
   "cell_type": "markdown",
   "metadata": {},
   "source": [
    "# Dataset text analysis\n",
    "The dataset consists of 1252 tweets which are divided into 5 main Pain-Point categories. The dataset is highly biased with about 44.65% of the data being only 1 category and 73% of the dataset is 2 categories. We are going to take a sub-sample from each large category such as the \"Prodcut feature or quality\" and \"Operational issues\" to be able to balance the dataset. However we would like to maintain the richness of our dataset by maintaining the same number of unique words. So in the next steps, We are checking the top frequent words and the total size of unique vocabulary."
   ]
  },
  {
   "cell_type": "code",
   "execution_count": 8,
   "metadata": {},
   "outputs": [],
   "source": [
    "vocab = {}\n",
    "for sent in dataset['text']:\n",
    "    tokens = sent.split(' ')\n",
    "    for token in tokens:\n",
    "        if token in vocab.keys():\n",
    "            vocab[token] += 1\n",
    "        else:\n",
    "            vocab[token] = 1"
   ]
  },
  {
   "cell_type": "code",
   "execution_count": 9,
   "metadata": {},
   "outputs": [
    {
     "data": {
      "text/plain": [
       "7205"
      ]
     },
     "execution_count": 9,
     "metadata": {},
     "output_type": "execute_result"
    }
   ],
   "source": [
    "len(vocab)"
   ]
  },
  {
   "cell_type": "markdown",
   "metadata": {},
   "source": [
    "## Sample from each different category with a specific value, if the sample size is bigger than the label count, it will take the whole column occurences"
   ]
  },
  {
   "cell_type": "markdown",
   "metadata": {},
   "source": [
    " \n",
    "Analysis of the vocabulary size after sampling"
   ]
  },
  {
   "cell_type": "code",
   "execution_count": 10,
   "metadata": {},
   "outputs": [
    {
     "data": {
      "text/plain": [
       "4868"
      ]
     },
     "execution_count": 10,
     "metadata": {},
     "output_type": "execute_result"
    }
   ],
   "source": [
    "sampled_dataset_200 = dataset_sampling(dataset,sample_size=200,random_state=1)\n",
    "vocab = {}\n",
    "for sent in sampled_dataset_200['text']:\n",
    "    tokens = sent.split(' ')\n",
    "    for token in tokens:\n",
    "        if token in vocab.keys():\n",
    "            vocab[token] += 1\n",
    "        else:\n",
    "            vocab[token] = 1\n",
    "len(vocab)"
   ]
  },
  {
   "cell_type": "code",
   "execution_count": 11,
   "metadata": {},
   "outputs": [
    {
     "data": {
      "text/plain": [
       "3666"
      ]
     },
     "execution_count": 11,
     "metadata": {},
     "output_type": "execute_result"
    }
   ],
   "source": [
    "sampled_dataset_100 = dataset_sampling(dataset,sample_size=100,random_state=1)\n",
    "vocab = {}\n",
    "for sent in sampled_dataset_100['text']:\n",
    "    tokens = sent.split(' ')\n",
    "    for token in tokens:\n",
    "        if token in vocab.keys():\n",
    "            vocab[token] += 1\n",
    "        else:\n",
    "            vocab[token] = 1\n",
    "len(vocab)"
   ]
  },
  {
   "cell_type": "code",
   "execution_count": 12,
   "metadata": {},
   "outputs": [
    {
     "data": {
      "text/plain": [
       "2241"
      ]
     },
     "execution_count": 12,
     "metadata": {},
     "output_type": "execute_result"
    }
   ],
   "source": [
    "sampled_dataset_50 = dataset_sampling(dataset,sample_size=50,random_state=1)\n",
    "vocab = {}\n",
    "for sent in sampled_dataset_50['text']:\n",
    "    tokens = sent.split(' ')\n",
    "    for token in tokens:\n",
    "        if token in vocab.keys():\n",
    "            vocab[token] += 1\n",
    "        else:\n",
    "            vocab[token] = 1\n",
    "len(vocab)"
   ]
  },
  {
   "cell_type": "markdown",
   "metadata": {},
   "source": [
    "### Different Sample size findings:\n",
    "Different Sample size alternate greatly in the vocabulary size as previously mentioned , 73% of the dataset is only 2 categories. So sampling from these categories with 50,100 sample size mean we are taking approximatley 12.5% and 25% from both these categories which why the vocabulary drop dramatically. We will conduct different initial experimentations with different sample sizes to compare its effect on training."
   ]
  },
  {
   "cell_type": "markdown",
   "metadata": {},
   "source": [
    "# Experimentation\n",
    "We are going to examine the effect of the vocabulary size, the Hyperparameters of the Classification layers, different Transformer models and augmentation techniques on the general performance of our solution. Our hypothesis for vocabulary size is that the vocabulary size should affect the performance by degrading it but however the dataset will be highly imbalanced and we believe the results will be highly skewed. We will change one parameter and change the others to check how this specific parameter change the overall performance."
   ]
  },
  {
   "cell_type": "markdown",
   "metadata": {},
   "source": [
    "# BERT No Data Augmentation Trial Sample size = 50"
   ]
  },
  {
   "cell_type": "markdown",
   "metadata": {},
   "source": [
    "### Initialize the BERT model specifing whether to use GPU or not.\n",
    "\n",
    "### \"\"\"Highly recommend to use GPU because it will crash the session\"\"\""
   ]
  },
  {
   "cell_type": "code",
   "execution_count": 13,
   "metadata": {
    "colab": {
     "base_uri": "https://localhost:8080/",
     "height": 571,
     "referenced_widgets": [
      "1fa777e5621646c1afd2b10e9bb13413",
      "721e337c025b47198484c11e206c489b",
      "7634ec0cbb3f419bbfa5c3b8d55d7524",
      "2f1480a1842c4fac9bb93127a7e56e3e",
      "27e3eede45bb4ed093f945f902d1d018",
      "14c57611201e47e896211b4aac2561b0",
      "3f927d8db29c4c3aa39b85cf594e4700",
      "e950cd0aa35d499896b12fecd39cb585",
      "c46b9cd0c9ee4b019dfa0c3d52754bbb",
      "0edf3d1e9dc04cbfacd94d40c808d9ed",
      "fd80a0f9f21249d5a6754163fd8b66ed",
      "69284abd51944470be2791c3278d9bae",
      "bfef281cb4894695a22e3c56b28acaeb",
      "79f5649084c4468a95fe1c8e746a0949",
      "5ad32c47f64b4fb1b0fa46d1b1f0cb79",
      "5c4c808b850c4afb86fb800becbc9a19",
      "fc069e5049644e1f86636a6bc00687d5",
      "f9b76fd89483478cb69e3a54548d7bdd",
      "ae3f2129f9f64127964be054722fcc2d",
      "29f4b1dd936b48b0a38e41676b3386d0",
      "23adc9eb13aa4d59972bea2c8aa08f7c",
      "8dd35f743b8e4bb588618c9463cbcae8",
      "88a88988d1474883b364f32fd508b829",
      "0fde03dca587450eb530167935e8128c",
      "7dee89e15af540998c763ecdad0a8e4a",
      "d733b75731134224b46d730b1ee667e5",
      "0bcdd45106df46c08d8f37b0b48a2060",
      "329d5470bc10479fa21246e609bf8fa5",
      "562415ce997e4826b2db05d8051341d1",
      "93dba83af3504ffba18949a20f5aa08c",
      "43a99d95b1a849a493c363db6e2e3cef",
      "1a8c5ef53ac04b3b8e4d6dc10533ee76",
      "c6496aeb50954571a06ed9f8a35221d7",
      "f2dbf734312c4eaba01f5af03b41bfd8",
      "3d32696ce33440439a07e191b4659825",
      "12a469e0af4e4b4d8d8adce41abd3a32",
      "d16b2438ca0843eb8753e03d6ce32d7d",
      "57a7d177446b4ace94f32feb55b5852c",
      "0a331514ed3b438a83ca376fb4c8a864",
      "0c380fc689e141f8a3c59814d864b195",
      "f7ffd514652248849a14eaf150b85572",
      "d7d1b763e70d4caeb808a9c23c9101f7",
      "6d0b15eea8e74fd0bb2f0976bfde590c",
      "7d91348e72a7441386424846ec427ea4",
      "6cf98a6dc09845879759deab80d47096",
      "bf8f2d978f434c4b9a78de86caea9305",
      "ed37b6eb86ab4c42a08ab0749332cc7c",
      "0c36c37ce1ad4dbf8438c5169407295c",
      "f5ff34b262374950a8e055e1ccf74a6a",
      "6aa4dee4902e408f99bebc2c6df3704f",
      "dcd87f4e87f94d3a9bf402f62252696b",
      "7ff8229a7ced4008b0fbdab448d84dbe",
      "faaf50ca4d9d43ae800dffa103b07875",
      "944f3eeffffd4813bb2e393311790a1f",
      "1d554a72d0474a2fa5a446e24afde28c"
     ]
    },
    "id": "HzRq1ifjURTQ",
    "outputId": "98854fe5-7fa0-4f0e-d985-3b1d66771ece"
   },
   "outputs": [
    {
     "name": "stderr",
     "output_type": "stream",
     "text": [
      "Some weights of the model checkpoint at bert-base-uncased were not used when initializing BertModel: ['cls.predictions.bias', 'cls.predictions.transform.LayerNorm.bias', 'cls.predictions.transform.dense.weight', 'cls.predictions.transform.LayerNorm.weight', 'cls.seq_relationship.bias', 'cls.predictions.transform.dense.bias', 'cls.seq_relationship.weight', 'cls.predictions.decoder.weight']\n",
      "- This IS expected if you are initializing BertModel from the checkpoint of a model trained on another task or with another architecture (e.g. initializing a BertForSequenceClassification model from a BertForPreTraining model).\n",
      "- This IS NOT expected if you are initializing BertModel from the checkpoint of a model that you expect to be exactly identical (initializing a BertForSequenceClassification model from a BertForSequenceClassification model).\n"
     ]
    }
   ],
   "source": [
    "bert_tokenizer,bert_model = init_bert_model(gpu_usage=True)"
   ]
  },
  {
   "cell_type": "markdown",
   "metadata": {},
   "source": [
    "### Clean the dataset from hashtags and any un-necessary non-alphanumeric characters\n",
    "The reason we are removing these characters and hashtags is that we dont want our model predictions to be corrupted by any external sources as our main basic block is a Transformer based model which its learning procedure is based on attention so we dont want the model to attend to less informative pieces."
   ]
  },
  {
   "cell_type": "code",
   "execution_count": 14,
   "metadata": {},
   "outputs": [],
   "source": [
    "processed_dataset = preprocess_text(sampled_dataset_50,text_column_name='text')"
   ]
  },
  {
   "cell_type": "markdown",
   "metadata": {},
   "source": [
    "### Size of the 50 Sample Dataset."
   ]
  },
  {
   "cell_type": "code",
   "execution_count": 15,
   "metadata": {},
   "outputs": [
    {
     "data": {
      "text/plain": [
       "250"
      ]
     },
     "execution_count": 15,
     "metadata": {},
     "output_type": "execute_result"
    }
   ],
   "source": [
    "len(processed_dataset)"
   ]
  },
  {
   "cell_type": "markdown",
   "metadata": {},
   "source": [
    "### Analyzing the length of the vocabulary of removing all non-alphanumeric characters and Hashtags from the sampled dataset\n",
    "It is expected that the length of the vocabulary should drop and this should reflect the percentage of hashtags and non-alphanumeric characters in the original dataset."
   ]
  },
  {
   "cell_type": "code",
   "execution_count": 16,
   "metadata": {},
   "outputs": [
    {
     "data": {
      "text/plain": [
       "2010"
      ]
     },
     "execution_count": 16,
     "metadata": {},
     "output_type": "execute_result"
    }
   ],
   "source": [
    "vocab = {}\n",
    "for sent in processed_dataset:\n",
    "    tokens = sent.split(' ')\n",
    "    for token in tokens:\n",
    "        if token in vocab.keys():\n",
    "            vocab[token] += 1\n",
    "        else:\n",
    "            vocab[token] = 1\n",
    "len(vocab)"
   ]
  },
  {
   "cell_type": "markdown",
   "metadata": {},
   "source": [
    "## Finding\n",
    "As observed the percentage of vocabulary dropped about 9% which is reasonable as most tweets contain hashtags and other people mention. "
   ]
  },
  {
   "cell_type": "markdown",
   "metadata": {},
   "source": [
    "### Use BERT model to forward pass the data through it and store the output vectors with shape (number_of_sentences,max_length,bert_embedding_size)"
   ]
  },
  {
   "cell_type": "code",
   "execution_count": 17,
   "metadata": {
    "id": "Opr0EDBjURV_"
   },
   "outputs": [],
   "source": [
    "bert_processed_text = transformer_model_dataset_preparation(processed_dataset,bert_model,bert_tokenizer,max_length=60)"
   ]
  },
  {
   "cell_type": "markdown",
   "metadata": {},
   "source": [
    "### Create one hot encoding of the labels for the training process"
   ]
  },
  {
   "cell_type": "code",
   "execution_count": 18,
   "metadata": {},
   "outputs": [],
   "source": [
    "processed_labels,dummies_names = labels_preprocessing(sampled_dataset_50,label_column_name='Type of Pain')"
   ]
  },
  {
   "cell_type": "markdown",
   "metadata": {},
   "source": [
    "### Creating the classification layer as a 2 layered FFN\n",
    "We are creating a classification layer over the output of the Transformer model output (BERT/RoBERTa) so we can leverage the pre-trained Transformer model without retraining or training from scratch. We are using the pretrained models to perform a down-stream task which text classification of 5 different categories. The output of the Transformer model dimension is 768 long vector so we first project his vector in smaller linear space so that our first layer will output [batch_size,sequence_size,hidden_size] then the final classification layer with input [batch_size,sequence_size * hidden_size]"
   ]
  },
  {
   "cell_type": "code",
   "execution_count": 19,
   "metadata": {
    "id": "zUWpPeCiEcsX"
   },
   "outputs": [
    {
     "data": {
      "text/plain": [
       "Classification_Model(\n",
       "  (ff): Linear(in_features=768, out_features=16, bias=True)\n",
       "  (out): Linear(in_features=960, out_features=5, bias=True)\n",
       "  (selu): SELU()\n",
       "  (soft): Softmax(dim=-1)\n",
       ")"
      ]
     },
     "execution_count": 19,
     "metadata": {},
     "output_type": "execute_result"
    }
   ],
   "source": [
    "import torch.nn as nn\n",
    "class Classification_Model(nn.Module):\n",
    "    def __init__(self,sequence_length,hidden_size):\n",
    "        super(Classification_Model,self).__init__()\n",
    "        self.ff = nn.Linear(768,hidden_size)\n",
    "        self.out = nn.Linear(sequence_length * hidden_size,5)\n",
    "        self.selu = nn.SELU()\n",
    "        self.soft = nn.Softmax(dim=-1)\n",
    "    def forward(self,x,batch_size):\n",
    "        x = self.selu(self.ff(x))\n",
    "        x = x.reshape(batch_size,-1)\n",
    "        x = self.out(x)\n",
    "        return x\n",
    "class_model = Classification_Model(sequence_length = 60,hidden_size=16)\n",
    "class_model.to('cuda')"
   ]
  },
  {
   "cell_type": "markdown",
   "metadata": {},
   "source": [
    "### Spliting the dataset into train and test partitions.\n",
    "We will use 75%/25% train-test split for all our experimentations."
   ]
  },
  {
   "cell_type": "code",
   "execution_count": 20,
   "metadata": {},
   "outputs": [],
   "source": [
    "train_dataset,train_labels,test_dataset,test_labels = train_test_split(bert_processed_text,processed_labels,test_size=60)"
   ]
  },
  {
   "cell_type": "markdown",
   "metadata": {},
   "source": [
    "### The training loop which output the precision,recall,f1 for each label. "
   ]
  },
  {
   "cell_type": "code",
   "execution_count": 21,
   "metadata": {},
   "outputs": [
    {
     "name": "stdout",
     "output_type": "stream",
     "text": [
      "Loss value:1.5856971740722656\n",
      "Test Results Epoch 0 :\n",
      "                            precision    recall  f1-score   support\n",
      "\n",
      "           Company's image       0.22      0.29      0.25         7\n",
      "          Customer service       0.40      0.13      0.20        15\n",
      "        Operational issues       0.20      0.18      0.19        11\n",
      "Product feature or quality       0.18      0.36      0.24        11\n",
      "Service quality or failure       0.50      0.44      0.47        16\n",
      "\n",
      "                  accuracy                           0.28        60\n",
      "                 macro avg       0.30      0.28      0.27        60\n",
      "              weighted avg       0.33      0.28      0.28        60\n",
      "\n",
      "------------------------------------------------------------------------------------------\n",
      "Loss value:0.9562175818111586\n",
      "Test Results Epoch 1 :\n",
      "                            precision    recall  f1-score   support\n",
      "\n",
      "           Company's image       0.38      0.43      0.40         7\n",
      "          Customer service       0.27      0.20      0.23        15\n",
      "        Operational issues       0.25      0.36      0.30        11\n",
      "Product feature or quality       0.31      0.36      0.33        11\n",
      "Service quality or failure       0.50      0.38      0.43        16\n",
      "\n",
      "                  accuracy                           0.33        60\n",
      "                 macro avg       0.34      0.35      0.34        60\n",
      "              weighted avg       0.35      0.33      0.33        60\n",
      "\n",
      "------------------------------------------------------------------------------------------\n",
      "Loss value:0.5522430370683256\n",
      "Test Results Epoch 2 :\n",
      "                            precision    recall  f1-score   support\n",
      "\n",
      "           Company's image       0.43      0.43      0.43         7\n",
      "          Customer service       0.36      0.33      0.34        15\n",
      "        Operational issues       0.20      0.27      0.23        11\n",
      "Product feature or quality       0.40      0.36      0.38        11\n",
      "Service quality or failure       0.43      0.38      0.40        16\n",
      "\n",
      "                  accuracy                           0.35        60\n",
      "                 macro avg       0.36      0.35      0.36        60\n",
      "              weighted avg       0.36      0.35      0.36        60\n",
      "\n",
      "------------------------------------------------------------------------------------------\n",
      "Loss value:0.30522566126740497\n",
      "Test Results Epoch 3 :\n",
      "                            precision    recall  f1-score   support\n",
      "\n",
      "           Company's image       0.50      0.43      0.46         7\n",
      "          Customer service       0.47      0.47      0.47        15\n",
      "        Operational issues       0.20      0.27      0.23        11\n",
      "Product feature or quality       0.45      0.45      0.45        11\n",
      "Service quality or failure       0.54      0.44      0.48        16\n",
      "\n",
      "                  accuracy                           0.42        60\n",
      "                 macro avg       0.43      0.41      0.42        60\n",
      "              weighted avg       0.44      0.42      0.42        60\n",
      "\n",
      "------------------------------------------------------------------------------------------\n",
      "Loss value:0.1593223713014437\n",
      "Test Results Epoch 4 :\n",
      "                            precision    recall  f1-score   support\n",
      "\n",
      "           Company's image       0.50      0.29      0.36         7\n",
      "          Customer service       0.50      0.27      0.35        15\n",
      "        Operational issues       0.29      0.45      0.36        11\n",
      "Product feature or quality       0.50      0.45      0.48        11\n",
      "Service quality or failure       0.48      0.62      0.54        16\n",
      "\n",
      "                  accuracy                           0.43        60\n",
      "                 macro avg       0.45      0.42      0.42        60\n",
      "              weighted avg       0.46      0.43      0.43        60\n",
      "\n",
      "------------------------------------------------------------------------------------------\n",
      "Loss value:0.09566371272439542\n",
      "Test Results Epoch 5 :\n",
      "                            precision    recall  f1-score   support\n",
      "\n",
      "           Company's image       0.43      0.43      0.43         7\n",
      "          Customer service       0.50      0.20      0.29        15\n",
      "        Operational issues       0.31      0.45      0.37        11\n",
      "Product feature or quality       0.71      0.45      0.56        11\n",
      "Service quality or failure       0.46      0.69      0.55        16\n",
      "\n",
      "                  accuracy                           0.45        60\n",
      "                 macro avg       0.48      0.45      0.44        60\n",
      "              weighted avg       0.49      0.45      0.44        60\n",
      "\n",
      "------------------------------------------------------------------------------------------\n",
      "Loss value:0.0650361143052578\n",
      "Test Results Epoch 6 :\n",
      "                            precision    recall  f1-score   support\n",
      "\n",
      "           Company's image       0.27      0.43      0.33         7\n",
      "          Customer service       0.44      0.27      0.33        15\n",
      "        Operational issues       0.20      0.36      0.26        11\n",
      "Product feature or quality       0.62      0.45      0.53        11\n",
      "Service quality or failure       0.50      0.38      0.43        16\n",
      "\n",
      "                  accuracy                           0.37        60\n",
      "                 macro avg       0.41      0.38      0.38        60\n",
      "              weighted avg       0.43      0.37      0.38        60\n",
      "\n",
      "------------------------------------------------------------------------------------------\n",
      "Loss value:0.03870789253193399\n",
      "Test Results Epoch 7 :\n",
      "                            precision    recall  f1-score   support\n",
      "\n",
      "           Company's image       0.40      0.57      0.47         7\n",
      "          Customer service       0.42      0.53      0.47        15\n",
      "        Operational issues       0.15      0.18      0.17        11\n",
      "Product feature or quality       0.38      0.45      0.42        11\n",
      "Service quality or failure       0.40      0.12      0.19        16\n",
      "\n",
      "                  accuracy                           0.35        60\n",
      "                 macro avg       0.35      0.37      0.34        60\n",
      "              weighted avg       0.36      0.35      0.33        60\n",
      "\n",
      "------------------------------------------------------------------------------------------\n",
      "Loss value:0.027688644745427628\n",
      "Test Results Epoch 8 :\n",
      "                            precision    recall  f1-score   support\n",
      "\n",
      "           Company's image       0.36      0.57      0.44         7\n",
      "          Customer service       0.42      0.33      0.37        15\n",
      "        Operational issues       0.27      0.27      0.27        11\n",
      "Product feature or quality       0.45      0.45      0.45        11\n",
      "Service quality or failure       0.40      0.38      0.39        16\n",
      "\n",
      "                  accuracy                           0.38        60\n",
      "                 macro avg       0.38      0.40      0.39        60\n",
      "              weighted avg       0.39      0.38      0.38        60\n",
      "\n",
      "------------------------------------------------------------------------------------------\n",
      "Loss value:0.018527217614262\n",
      "Test Results Epoch 9 :\n",
      "                            precision    recall  f1-score   support\n",
      "\n",
      "           Company's image       0.33      0.43      0.38         7\n",
      "          Customer service       0.56      0.33      0.42        15\n",
      "        Operational issues       0.29      0.36      0.32        11\n",
      "Product feature or quality       0.50      0.45      0.48        11\n",
      "Service quality or failure       0.50      0.56      0.53        16\n",
      "\n",
      "                  accuracy                           0.43        60\n",
      "                 macro avg       0.43      0.43      0.42        60\n",
      "              weighted avg       0.46      0.43      0.44        60\n",
      "\n",
      "------------------------------------------------------------------------------------------\n",
      "Best Model Performance :\n",
      "Weighted F1-Score:0.4378483245149912\n",
      "Company's image F1-Score:0.42857142857142855\n",
      "Customer service F1-Score:0.28571428571428575\n",
      "Operational issues F1-Score:0.3703703703703703\n",
      "Product feature or quality F1-Score:0.5555555555555556\n",
      "Service quality or failure F1-Score:0.5499999999999999\n"
     ]
    }
   ],
   "source": [
    "training_loop(class_model,train_dataset,train_labels,test_dataset,test_labels,batch_size=8,epochs=10,learning_rate=1e-3,dummies_names=dummies_names.to_list())"
   ]
  },
  {
   "cell_type": "markdown",
   "metadata": {},
   "source": [
    "# BERT No Data Augmentation Trial Sample size = 100"
   ]
  },
  {
   "cell_type": "markdown",
   "metadata": {},
   "source": [
    "We will repeat the same exact steps for Sample size = 100 and Sample size = 200 to check the effect of the size of vocabulary on the overall performance of our solution."
   ]
  },
  {
   "cell_type": "code",
   "execution_count": 22,
   "metadata": {},
   "outputs": [],
   "source": [
    "processed_dataset = preprocess_text(sampled_dataset_100,text_column_name='text')"
   ]
  },
  {
   "cell_type": "code",
   "execution_count": 23,
   "metadata": {
    "scrolled": true
   },
   "outputs": [
    {
     "data": {
      "text/plain": [
       "485"
      ]
     },
     "execution_count": 23,
     "metadata": {},
     "output_type": "execute_result"
    }
   ],
   "source": [
    "len(processed_dataset)"
   ]
  },
  {
   "cell_type": "code",
   "execution_count": 24,
   "metadata": {},
   "outputs": [
    {
     "data": {
      "text/plain": [
       "3207"
      ]
     },
     "execution_count": 24,
     "metadata": {},
     "output_type": "execute_result"
    }
   ],
   "source": [
    "vocab = {}\n",
    "for sent in processed_dataset:\n",
    "    tokens = sent.split(' ')\n",
    "    for token in tokens:\n",
    "        if token in vocab.keys():\n",
    "            vocab[token] += 1\n",
    "        else:\n",
    "            vocab[token] = 1\n",
    "len(vocab)"
   ]
  },
  {
   "cell_type": "code",
   "execution_count": 25,
   "metadata": {
    "id": "Opr0EDBjURV_"
   },
   "outputs": [],
   "source": [
    "bert_processed_text = transformer_model_dataset_preparation(processed_dataset,bert_model,bert_tokenizer,max_length=60)"
   ]
  },
  {
   "cell_type": "code",
   "execution_count": 26,
   "metadata": {},
   "outputs": [],
   "source": [
    "processed_labels,dummies_names = labels_preprocessing(sampled_dataset_100,label_column_name='Type of Pain')"
   ]
  },
  {
   "cell_type": "code",
   "execution_count": 27,
   "metadata": {
    "id": "zUWpPeCiEcsX"
   },
   "outputs": [
    {
     "data": {
      "text/plain": [
       "Classification_Model(\n",
       "  (ff): Linear(in_features=768, out_features=16, bias=True)\n",
       "  (out): Linear(in_features=960, out_features=5, bias=True)\n",
       "  (selu): SELU()\n",
       "  (soft): Softmax(dim=-1)\n",
       ")"
      ]
     },
     "execution_count": 27,
     "metadata": {},
     "output_type": "execute_result"
    }
   ],
   "source": [
    "class_model = Classification_Model(sequence_length = 60,hidden_size=16)\n",
    "class_model.to('cuda')"
   ]
  },
  {
   "cell_type": "code",
   "execution_count": 28,
   "metadata": {},
   "outputs": [],
   "source": [
    "train_dataset,train_labels,test_dataset,test_labels = train_test_split(bert_processed_text,processed_labels,test_size=120)"
   ]
  },
  {
   "cell_type": "markdown",
   "metadata": {},
   "source": [
    "### Spliting the dataset into train and test partitions.\n",
    "We will use 75%/25% train-test split for all our experimentations."
   ]
  },
  {
   "cell_type": "code",
   "execution_count": 29,
   "metadata": {},
   "outputs": [
    {
     "name": "stdout",
     "output_type": "stream",
     "text": [
      "Loss value:1.5315236462487114\n",
      "Test Results Epoch 0 :\n",
      "                            precision    recall  f1-score   support\n",
      "\n",
      "           Company's image       0.40      0.95      0.56        20\n",
      "          Customer service       0.50      0.33      0.40        27\n",
      "        Operational issues       0.00      0.00      0.00        22\n",
      "Product feature or quality       0.82      0.31      0.45        29\n",
      "Service quality or failure       0.35      0.64      0.45        22\n",
      "\n",
      "                  accuracy                           0.42       120\n",
      "                 macro avg       0.41      0.45      0.37       120\n",
      "              weighted avg       0.44      0.42      0.37       120\n",
      "\n",
      "------------------------------------------------------------------------------------------\n",
      "Loss value:0.9098071091704898\n",
      "Test Results Epoch 1 :\n",
      "                            precision    recall  f1-score   support\n",
      "\n",
      "           Company's image       0.38      0.90      0.54        20\n",
      "          Customer service       0.67      0.30      0.41        27\n",
      "        Operational issues       0.29      0.09      0.14        22\n",
      "Product feature or quality       0.77      0.59      0.67        29\n",
      "Service quality or failure       0.41      0.59      0.48        22\n",
      "\n",
      "                  accuracy                           0.48       120\n",
      "                 macro avg       0.50      0.49      0.45       120\n",
      "              weighted avg       0.53      0.48      0.46       120\n",
      "\n",
      "------------------------------------------------------------------------------------------\n",
      "Loss value:0.5668466183874342\n",
      "Test Results Epoch 2 :\n",
      "                            precision    recall  f1-score   support\n",
      "\n",
      "           Company's image       0.44      0.85      0.58        20\n",
      "          Customer service       0.70      0.26      0.38        27\n",
      "        Operational issues       0.32      0.27      0.29        22\n",
      "Product feature or quality       0.83      0.52      0.64        29\n",
      "Service quality or failure       0.44      0.68      0.54        22\n",
      "\n",
      "                  accuracy                           0.50       120\n",
      "                 macro avg       0.55      0.52      0.48       120\n",
      "              weighted avg       0.57      0.50      0.49       120\n",
      "\n",
      "------------------------------------------------------------------------------------------\n",
      "Loss value:0.3282816744512982\n",
      "Test Results Epoch 3 :\n",
      "                            precision    recall  f1-score   support\n",
      "\n",
      "           Company's image       0.52      0.75      0.61        20\n",
      "          Customer service       0.69      0.33      0.45        27\n",
      "        Operational issues       0.33      0.36      0.35        22\n",
      "Product feature or quality       0.85      0.59      0.69        29\n",
      "Service quality or failure       0.47      0.73      0.57        22\n",
      "\n",
      "                  accuracy                           0.54       120\n",
      "                 macro avg       0.57      0.55      0.54       120\n",
      "              weighted avg       0.59      0.54      0.54       120\n",
      "\n",
      "------------------------------------------------------------------------------------------\n",
      "Loss value:0.18164414465427398\n",
      "Test Results Epoch 4 :\n",
      "                            precision    recall  f1-score   support\n",
      "\n",
      "           Company's image       0.55      0.80      0.65        20\n",
      "          Customer service       0.67      0.30      0.41        27\n",
      "        Operational issues       0.34      0.45      0.39        22\n",
      "Product feature or quality       0.79      0.66      0.72        29\n",
      "Service quality or failure       0.46      0.55      0.50        22\n",
      "\n",
      "                  accuracy                           0.54       120\n",
      "                 macro avg       0.56      0.55      0.53       120\n",
      "              weighted avg       0.58      0.54      0.54       120\n",
      "\n",
      "------------------------------------------------------------------------------------------\n",
      "Loss value:0.10174651957220501\n",
      "Test Results Epoch 5 :\n",
      "                            precision    recall  f1-score   support\n",
      "\n",
      "           Company's image       0.46      0.80      0.58        20\n",
      "          Customer service       0.71      0.19      0.29        27\n",
      "        Operational issues       0.34      0.64      0.44        22\n",
      "Product feature or quality       0.76      0.66      0.70        29\n",
      "Service quality or failure       0.50      0.27      0.35        22\n",
      "\n",
      "                  accuracy                           0.50       120\n",
      "                 macro avg       0.55      0.51      0.48       120\n",
      "              weighted avg       0.57      0.50      0.48       120\n",
      "\n",
      "------------------------------------------------------------------------------------------\n",
      "Loss value:0.05510150096896622\n",
      "Test Results Epoch 6 :\n",
      "                            precision    recall  f1-score   support\n",
      "\n",
      "           Company's image       0.52      0.65      0.58        20\n",
      "          Customer service       0.67      0.22      0.33        27\n",
      "        Operational issues       0.33      0.64      0.43        22\n",
      "Product feature or quality       0.69      0.69      0.69        29\n",
      "Service quality or failure       0.50      0.32      0.39        22\n",
      "\n",
      "                  accuracy                           0.50       120\n",
      "                 macro avg       0.54      0.50      0.48       120\n",
      "              weighted avg       0.55      0.50      0.49       120\n",
      "\n",
      "------------------------------------------------------------------------------------------\n",
      "Loss value:0.041311747063365246\n",
      "Test Results Epoch 7 :\n",
      "                            precision    recall  f1-score   support\n",
      "\n",
      "           Company's image       0.55      0.60      0.57        20\n",
      "          Customer service       0.70      0.26      0.38        27\n",
      "        Operational issues       0.35      0.73      0.47        22\n",
      "Product feature or quality       0.65      0.69      0.67        29\n",
      "Service quality or failure       0.64      0.32      0.42        22\n",
      "\n",
      "                  accuracy                           0.52       120\n",
      "                 macro avg       0.57      0.52      0.50       120\n",
      "              weighted avg       0.58      0.52      0.51       120\n",
      "\n",
      "------------------------------------------------------------------------------------------\n",
      "Loss value:0.032187662625478376\n",
      "Test Results Epoch 8 :\n",
      "                            precision    recall  f1-score   support\n",
      "\n",
      "           Company's image       0.55      0.55      0.55        20\n",
      "          Customer service       0.70      0.26      0.38        27\n",
      "        Operational issues       0.33      0.68      0.45        22\n",
      "Product feature or quality       0.59      0.69      0.63        29\n",
      "Service quality or failure       0.64      0.32      0.42        22\n",
      "\n",
      "                  accuracy                           0.50       120\n",
      "                 macro avg       0.56      0.50      0.49       120\n",
      "              weighted avg       0.57      0.50      0.49       120\n",
      "\n",
      "------------------------------------------------------------------------------------------\n",
      "Loss value:0.027661707210871907\n",
      "Test Results Epoch 9 :\n",
      "                            precision    recall  f1-score   support\n",
      "\n",
      "           Company's image       0.55      0.55      0.55        20\n",
      "          Customer service       0.70      0.26      0.38        27\n",
      "        Operational issues       0.31      0.64      0.42        22\n",
      "Product feature or quality       0.57      0.69      0.62        29\n",
      "Service quality or failure       0.60      0.27      0.37        22\n",
      "\n",
      "                  accuracy                           0.48       120\n",
      "                 macro avg       0.55      0.48      0.47       120\n",
      "              weighted avg       0.55      0.48      0.47       120\n",
      "\n",
      "------------------------------------------------------------------------------------------\n",
      "Best Model Performance :\n",
      "Weighted F1-Score:0.5395079118603964\n",
      "Company's image F1-Score:0.6122448979591838\n",
      "Customer service F1-Score:0.45\n",
      "Operational issues F1-Score:0.34782608695652173\n",
      "Product feature or quality F1-Score:0.6938775510204082\n",
      "Service quality or failure F1-Score:0.5714285714285714\n"
     ]
    }
   ],
   "source": [
    "training_loop(class_model,train_dataset,train_labels,test_dataset,test_labels,batch_size=8,epochs=10,learning_rate=1e-3,dummies_names=dummies_names.to_list())"
   ]
  },
  {
   "cell_type": "markdown",
   "metadata": {},
   "source": [
    "# BERT No Data Augmentation Trial Sample size = 200"
   ]
  },
  {
   "cell_type": "markdown",
   "metadata": {},
   "source": [
    "We will repeat the same exact steps for Sample size = 200 to check the effect of the size of vocabulary on the overall performance of our solution."
   ]
  },
  {
   "cell_type": "code",
   "execution_count": 30,
   "metadata": {},
   "outputs": [],
   "source": [
    "processed_dataset = preprocess_text(sampled_dataset_200,text_column_name='text')"
   ]
  },
  {
   "cell_type": "code",
   "execution_count": 31,
   "metadata": {},
   "outputs": [
    {
     "data": {
      "text/plain": [
       "737"
      ]
     },
     "execution_count": 31,
     "metadata": {},
     "output_type": "execute_result"
    }
   ],
   "source": [
    "len(processed_dataset)"
   ]
  },
  {
   "cell_type": "code",
   "execution_count": 32,
   "metadata": {},
   "outputs": [
    {
     "data": {
      "text/plain": [
       "4202"
      ]
     },
     "execution_count": 32,
     "metadata": {},
     "output_type": "execute_result"
    }
   ],
   "source": [
    "vocab = {}\n",
    "for sent in processed_dataset:\n",
    "    tokens = sent.split(' ')\n",
    "    for token in tokens:\n",
    "        if token in vocab.keys():\n",
    "            vocab[token] += 1\n",
    "        else:\n",
    "            vocab[token] = 1\n",
    "len(vocab)"
   ]
  },
  {
   "cell_type": "code",
   "execution_count": 33,
   "metadata": {
    "id": "Opr0EDBjURV_"
   },
   "outputs": [],
   "source": [
    "bert_processed_text = transformer_model_dataset_preparation(processed_dataset,bert_model,bert_tokenizer,max_length=60)"
   ]
  },
  {
   "cell_type": "code",
   "execution_count": 34,
   "metadata": {},
   "outputs": [],
   "source": [
    "processed_labels,dummies_names = labels_preprocessing(sampled_dataset_200,label_column_name='Type of Pain')"
   ]
  },
  {
   "cell_type": "code",
   "execution_count": 41,
   "metadata": {
    "id": "zUWpPeCiEcsX"
   },
   "outputs": [
    {
     "data": {
      "text/plain": [
       "Classification_Model(\n",
       "  (ff): Linear(in_features=768, out_features=16, bias=True)\n",
       "  (out): Linear(in_features=960, out_features=5, bias=True)\n",
       "  (selu): SELU()\n",
       "  (soft): Softmax(dim=-1)\n",
       ")"
      ]
     },
     "execution_count": 41,
     "metadata": {},
     "output_type": "execute_result"
    }
   ],
   "source": [
    "class_model = Classification_Model(sequence_length = 60,hidden_size=16)\n",
    "class_model.to('cuda')"
   ]
  },
  {
   "cell_type": "code",
   "execution_count": 42,
   "metadata": {},
   "outputs": [],
   "source": [
    "train_dataset,train_labels,test_dataset,test_labels = train_test_split(bert_processed_text,processed_labels,test_size=180)"
   ]
  },
  {
   "cell_type": "markdown",
   "metadata": {},
   "source": [
    "### Spliting the dataset into train and test partitions.\n",
    "We will use 75%/25% train-test split for all our experimentations."
   ]
  },
  {
   "cell_type": "code",
   "execution_count": 43,
   "metadata": {},
   "outputs": [
    {
     "name": "stdout",
     "output_type": "stream",
     "text": [
      "Loss value:1.4312374030334363\n",
      "Test Results Epoch 0 :\n",
      "                            precision    recall  f1-score   support\n",
      "\n",
      "           Company's image       1.00      0.12      0.21        26\n",
      "          Customer service       0.18      0.10      0.13        20\n",
      "        Operational issues       0.40      0.46      0.43        50\n",
      "Product feature or quality       0.47      0.85      0.61        55\n",
      "Service quality or failure       0.75      0.21      0.32        29\n",
      "\n",
      "                  accuracy                           0.45       180\n",
      "                 macro avg       0.56      0.35      0.34       180\n",
      "              weighted avg       0.54      0.45      0.40       180\n",
      "\n",
      "------------------------------------------------------------------------------------------\n",
      "Loss value:0.9287581763405731\n",
      "Test Results Epoch 1 :\n",
      "                            precision    recall  f1-score   support\n",
      "\n",
      "           Company's image       0.71      0.46      0.56        26\n",
      "          Customer service       0.23      0.15      0.18        20\n",
      "        Operational issues       0.42      0.44      0.43        50\n",
      "Product feature or quality       0.64      0.75      0.69        55\n",
      "Service quality or failure       0.44      0.52      0.48        29\n",
      "\n",
      "                  accuracy                           0.52       180\n",
      "                 macro avg       0.49      0.46      0.47       180\n",
      "              weighted avg       0.51      0.52      0.51       180\n",
      "\n",
      "------------------------------------------------------------------------------------------\n",
      "Loss value:0.6139798527178557\n",
      "Test Results Epoch 2 :\n",
      "                            precision    recall  f1-score   support\n",
      "\n",
      "           Company's image       0.64      0.54      0.58        26\n",
      "          Customer service       0.35      0.30      0.32        20\n",
      "        Operational issues       0.39      0.48      0.43        50\n",
      "Product feature or quality       0.73      0.69      0.71        55\n",
      "Service quality or failure       0.36      0.34      0.35        29\n",
      "\n",
      "                  accuracy                           0.51       180\n",
      "                 macro avg       0.49      0.47      0.48       180\n",
      "              weighted avg       0.52      0.51      0.51       180\n",
      "\n",
      "------------------------------------------------------------------------------------------\n",
      "Loss value:0.3707877078997916\n",
      "Test Results Epoch 3 :\n",
      "                            precision    recall  f1-score   support\n",
      "\n",
      "           Company's image       0.56      0.58      0.57        26\n",
      "          Customer service       0.40      0.30      0.34        20\n",
      "        Operational issues       0.39      0.52      0.45        50\n",
      "Product feature or quality       0.70      0.73      0.71        55\n",
      "Service quality or failure       0.40      0.21      0.27        29\n",
      "\n",
      "                  accuracy                           0.52       180\n",
      "                 macro avg       0.49      0.47      0.47       180\n",
      "              weighted avg       0.51      0.52      0.51       180\n",
      "\n",
      "------------------------------------------------------------------------------------------\n",
      "Loss value:0.20489867652455965\n",
      "Test Results Epoch 4 :\n",
      "                            precision    recall  f1-score   support\n",
      "\n",
      "           Company's image       0.52      0.50      0.51        26\n",
      "          Customer service       0.43      0.30      0.35        20\n",
      "        Operational issues       0.42      0.50      0.46        50\n",
      "Product feature or quality       0.60      0.80      0.69        55\n",
      "Service quality or failure       0.56      0.17      0.26        29\n",
      "\n",
      "                  accuracy                           0.52       180\n",
      "                 macro avg       0.51      0.45      0.45       180\n",
      "              weighted avg       0.51      0.52      0.49       180\n",
      "\n",
      "------------------------------------------------------------------------------------------\n",
      "Loss value:0.12835777475350146\n",
      "Test Results Epoch 5 :\n",
      "                            precision    recall  f1-score   support\n",
      "\n",
      "           Company's image       0.57      0.46      0.51        26\n",
      "          Customer service       0.38      0.30      0.33        20\n",
      "        Operational issues       0.42      0.46      0.44        50\n",
      "Product feature or quality       0.58      0.80      0.67        55\n",
      "Service quality or failure       0.50      0.21      0.29        29\n",
      "\n",
      "                  accuracy                           0.51       180\n",
      "                 macro avg       0.49      0.45      0.45       180\n",
      "              weighted avg       0.50      0.51      0.48       180\n",
      "\n",
      "------------------------------------------------------------------------------------------\n",
      "Loss value:0.09610181860625744\n",
      "Test Results Epoch 6 :\n",
      "                            precision    recall  f1-score   support\n",
      "\n",
      "           Company's image       0.71      0.38      0.50        26\n",
      "          Customer service       0.41      0.35      0.38        20\n",
      "        Operational issues       0.38      0.42      0.40        50\n",
      "Product feature or quality       0.60      0.78      0.68        55\n",
      "Service quality or failure       0.36      0.28      0.31        29\n",
      "\n",
      "                  accuracy                           0.49       180\n",
      "                 macro avg       0.49      0.44      0.45       180\n",
      "              weighted avg       0.50      0.49      0.48       180\n",
      "\n",
      "------------------------------------------------------------------------------------------\n",
      "Loss value:0.06848596334727346\n",
      "Test Results Epoch 7 :\n",
      "                            precision    recall  f1-score   support\n",
      "\n",
      "           Company's image       0.75      0.46      0.57        26\n",
      "          Customer service       0.55      0.30      0.39        20\n",
      "        Operational issues       0.41      0.52      0.46        50\n",
      "Product feature or quality       0.68      0.73      0.70        55\n",
      "Service quality or failure       0.30      0.31      0.31        29\n",
      "\n",
      "                  accuracy                           0.52       180\n",
      "                 macro avg       0.54      0.46      0.48       180\n",
      "              weighted avg       0.54      0.52      0.52       180\n",
      "\n",
      "------------------------------------------------------------------------------------------\n",
      "Loss value:0.05455212683781334\n",
      "Test Results Epoch 8 :\n",
      "                            precision    recall  f1-score   support\n",
      "\n",
      "           Company's image       0.68      0.50      0.58        26\n",
      "          Customer service       0.43      0.30      0.35        20\n",
      "        Operational issues       0.43      0.58      0.49        50\n",
      "Product feature or quality       0.76      0.62      0.68        55\n",
      "Service quality or failure       0.29      0.34      0.32        29\n",
      "\n",
      "                  accuracy                           0.51       180\n",
      "                 macro avg       0.52      0.47      0.48       180\n",
      "              weighted avg       0.54      0.51      0.52       180\n",
      "\n",
      "------------------------------------------------------------------------------------------\n",
      "Loss value:0.034562302064960415\n",
      "Test Results Epoch 9 :\n",
      "                            precision    recall  f1-score   support\n",
      "\n",
      "           Company's image       0.62      0.50      0.55        26\n",
      "          Customer service       0.36      0.40      0.38        20\n",
      "        Operational issues       0.47      0.44      0.45        50\n",
      "Product feature or quality       0.71      0.73      0.72        55\n",
      "Service quality or failure       0.32      0.38      0.35        29\n",
      "\n",
      "                  accuracy                           0.52       180\n",
      "                 macro avg       0.50      0.49      0.49       180\n",
      "              weighted avg       0.53      0.52      0.52       180\n",
      "\n",
      "------------------------------------------------------------------------------------------\n",
      "Best Model Performance :\n",
      "Weighted F1-Score:0.5247170137789426\n",
      "Company's image F1-Score:0.5531914893617021\n",
      "Customer service F1-Score:0.380952380952381\n",
      "Operational issues F1-Score:0.4536082474226804\n",
      "Product feature or quality F1-Score:0.7207207207207208\n",
      "Service quality or failure F1-Score:0.3492063492063492\n"
     ]
    }
   ],
   "source": [
    "training_loop(class_model,train_dataset,train_labels,test_dataset,test_labels,batch_size=8,epochs=10,learning_rate=1e-3,dummies_names=dummies_names.to_list())"
   ]
  },
  {
   "cell_type": "code",
   "execution_count": 46,
   "metadata": {},
   "outputs": [],
   "source": [
    "sampled_dataset_50.to_csv('sampled_dataset_50.csv')"
   ]
  },
  {
   "cell_type": "markdown",
   "metadata": {},
   "source": [
    "## Conclusion \n",
    "As the previous results, we observe that the equal size sample for each class is the best performing strategy which is the 100 Sample per dataset with F1-Score 54%. Moreover we can see that the top performing class in the 200 Sample dataset is the class with most examples \"Product feature or quality\" which means that the model is biased toward that class which is normal."
   ]
  },
  {
   "cell_type": "markdown",
   "metadata": {},
   "source": [
    "## Setup for Hyperparameters change.\n",
    "We will increase the hidden dimension size to 32 of the classification layer to check the general performance."
   ]
  },
  {
   "cell_type": "code",
   "execution_count": 47,
   "metadata": {},
   "outputs": [],
   "source": [
    "processed_dataset = preprocess_text(sampled_dataset_100,text_column_name='text')"
   ]
  },
  {
   "cell_type": "code",
   "execution_count": 48,
   "metadata": {
    "scrolled": true
   },
   "outputs": [
    {
     "data": {
      "text/plain": [
       "485"
      ]
     },
     "execution_count": 48,
     "metadata": {},
     "output_type": "execute_result"
    }
   ],
   "source": [
    "len(processed_dataset)"
   ]
  },
  {
   "cell_type": "code",
   "execution_count": 49,
   "metadata": {},
   "outputs": [
    {
     "data": {
      "text/plain": [
       "3207"
      ]
     },
     "execution_count": 49,
     "metadata": {},
     "output_type": "execute_result"
    }
   ],
   "source": [
    "vocab = {}\n",
    "for sent in processed_dataset:\n",
    "    tokens = sent.split(' ')\n",
    "    for token in tokens:\n",
    "        if token in vocab.keys():\n",
    "            vocab[token] += 1\n",
    "        else:\n",
    "            vocab[token] = 1\n",
    "len(vocab)"
   ]
  },
  {
   "cell_type": "code",
   "execution_count": 50,
   "metadata": {
    "id": "Opr0EDBjURV_"
   },
   "outputs": [],
   "source": [
    "bert_processed_text = transformer_model_dataset_preparation(processed_dataset,bert_model,bert_tokenizer,max_length=60)"
   ]
  },
  {
   "cell_type": "code",
   "execution_count": 51,
   "metadata": {},
   "outputs": [],
   "source": [
    "processed_labels,dummies_names = labels_preprocessing(sampled_dataset_100,label_column_name='Type of Pain')"
   ]
  },
  {
   "cell_type": "code",
   "execution_count": 52,
   "metadata": {
    "id": "zUWpPeCiEcsX"
   },
   "outputs": [
    {
     "data": {
      "text/plain": [
       "Classification_Model(\n",
       "  (ff): Linear(in_features=768, out_features=32, bias=True)\n",
       "  (out): Linear(in_features=1920, out_features=5, bias=True)\n",
       "  (selu): SELU()\n",
       "  (soft): Softmax(dim=-1)\n",
       ")"
      ]
     },
     "execution_count": 52,
     "metadata": {},
     "output_type": "execute_result"
    }
   ],
   "source": [
    "class_model = Classification_Model(sequence_length = 60,hidden_size=32)\n",
    "class_model.to('cuda')"
   ]
  },
  {
   "cell_type": "code",
   "execution_count": 53,
   "metadata": {},
   "outputs": [],
   "source": [
    "train_dataset,train_labels,test_dataset,test_labels = train_test_split(bert_processed_text,processed_labels,test_size=120)"
   ]
  },
  {
   "cell_type": "code",
   "execution_count": 54,
   "metadata": {},
   "outputs": [
    {
     "name": "stdout",
     "output_type": "stream",
     "text": [
      "Loss value:1.458296275138855\n",
      "Test Results Epoch 0 :\n",
      "                            precision    recall  f1-score   support\n",
      "\n",
      "           Company's image       0.52      0.68      0.59        19\n",
      "          Customer service       1.00      0.04      0.07        26\n",
      "        Operational issues       0.26      0.30      0.28        23\n",
      "Product feature or quality       0.61      0.54      0.57        26\n",
      "Service quality or failure       0.39      0.65      0.49        26\n",
      "\n",
      "                  accuracy                           0.43       120\n",
      "                 macro avg       0.55      0.44      0.40       120\n",
      "              weighted avg       0.56      0.43      0.39       120\n",
      "\n",
      "------------------------------------------------------------------------------------------\n",
      "Loss value:0.6517252239916059\n",
      "Test Results Epoch 1 :\n",
      "                            precision    recall  f1-score   support\n",
      "\n",
      "           Company's image       0.52      0.68      0.59        19\n",
      "          Customer service       0.70      0.27      0.39        26\n",
      "        Operational issues       0.37      0.48      0.42        23\n",
      "Product feature or quality       0.70      0.54      0.61        26\n",
      "Service quality or failure       0.46      0.62      0.52        26\n",
      "\n",
      "                  accuracy                           0.51       120\n",
      "                 macro avg       0.55      0.52      0.51       120\n",
      "              weighted avg       0.55      0.51      0.50       120\n",
      "\n",
      "------------------------------------------------------------------------------------------\n",
      "Loss value:0.29005715598662696\n",
      "Test Results Epoch 2 :\n",
      "                            precision    recall  f1-score   support\n",
      "\n",
      "           Company's image       0.46      0.68      0.55        19\n",
      "          Customer service       0.88      0.27      0.41        26\n",
      "        Operational issues       0.32      0.39      0.35        23\n",
      "Product feature or quality       0.72      0.50      0.59        26\n",
      "Service quality or failure       0.45      0.65      0.53        26\n",
      "\n",
      "                  accuracy                           0.49       120\n",
      "                 macro avg       0.57      0.50      0.49       120\n",
      "              weighted avg       0.58      0.49      0.49       120\n",
      "\n",
      "------------------------------------------------------------------------------------------\n",
      "Loss value:0.14204821205801435\n",
      "Test Results Epoch 3 :\n",
      "                            precision    recall  f1-score   support\n",
      "\n",
      "           Company's image       0.55      0.58      0.56        19\n",
      "          Customer service       0.59      0.38      0.47        26\n",
      "        Operational issues       0.37      0.30      0.33        23\n",
      "Product feature or quality       0.76      0.62      0.68        26\n",
      "Service quality or failure       0.42      0.69      0.52        26\n",
      "\n",
      "                  accuracy                           0.52       120\n",
      "                 macro avg       0.54      0.52      0.51       120\n",
      "              weighted avg       0.54      0.52      0.51       120\n",
      "\n",
      "------------------------------------------------------------------------------------------\n",
      "Loss value:0.10019815365473429\n",
      "Test Results Epoch 4 :\n",
      "                            precision    recall  f1-score   support\n",
      "\n",
      "           Company's image       0.65      0.58      0.61        19\n",
      "          Customer service       0.69      0.35      0.46        26\n",
      "        Operational issues       0.31      0.22      0.26        23\n",
      "Product feature or quality       0.67      0.69      0.68        26\n",
      "Service quality or failure       0.38      0.69      0.49        26\n",
      "\n",
      "                  accuracy                           0.51       120\n",
      "                 macro avg       0.54      0.51      0.50       120\n",
      "              weighted avg       0.54      0.51      0.50       120\n",
      "\n",
      "------------------------------------------------------------------------------------------\n",
      "Loss value:0.06292630440245071\n",
      "Test Results Epoch 5 :\n",
      "                            precision    recall  f1-score   support\n",
      "\n",
      "           Company's image       0.46      0.68      0.55        19\n",
      "          Customer service       1.00      0.15      0.27        26\n",
      "        Operational issues       0.34      0.48      0.40        23\n",
      "Product feature or quality       0.74      0.54      0.62        26\n",
      "Service quality or failure       0.49      0.69      0.57        26\n",
      "\n",
      "                  accuracy                           0.50       120\n",
      "                 macro avg       0.61      0.51      0.48       120\n",
      "              weighted avg       0.62      0.50      0.48       120\n",
      "\n",
      "------------------------------------------------------------------------------------------\n",
      "Loss value:0.05229289535846975\n",
      "Test Results Epoch 6 :\n",
      "                            precision    recall  f1-score   support\n",
      "\n",
      "           Company's image       0.44      0.63      0.52        19\n",
      "          Customer service       1.00      0.15      0.27        26\n",
      "        Operational issues       0.35      0.52      0.42        23\n",
      "Product feature or quality       0.74      0.54      0.62        26\n",
      "Service quality or failure       0.50      0.69      0.58        26\n",
      "\n",
      "                  accuracy                           0.50       120\n",
      "                 macro avg       0.61      0.51      0.48       120\n",
      "              weighted avg       0.62      0.50      0.48       120\n",
      "\n",
      "------------------------------------------------------------------------------------------\n",
      "Loss value:0.05246787957019276\n",
      "Test Results Epoch 7 :\n",
      "                            precision    recall  f1-score   support\n",
      "\n",
      "           Company's image       0.48      0.68      0.57        19\n",
      "          Customer service       1.00      0.15      0.27        26\n",
      "        Operational issues       0.33      0.61      0.43        23\n",
      "Product feature or quality       0.72      0.50      0.59        26\n",
      "Service quality or failure       0.59      0.65      0.62        26\n",
      "\n",
      "                  accuracy                           0.51       120\n",
      "                 macro avg       0.62      0.52      0.49       120\n",
      "              weighted avg       0.64      0.51      0.49       120\n",
      "\n",
      "------------------------------------------------------------------------------------------\n",
      "Loss value:0.05532621085229847\n",
      "Test Results Epoch 8 :\n",
      "                            precision    recall  f1-score   support\n",
      "\n",
      "           Company's image       0.52      0.63      0.57        19\n",
      "          Customer service       0.83      0.19      0.31        26\n",
      "        Operational issues       0.31      0.43      0.36        23\n",
      "Product feature or quality       0.76      0.62      0.68        26\n",
      "Service quality or failure       0.47      0.69      0.56        26\n",
      "\n",
      "                  accuracy                           0.51       120\n",
      "                 macro avg       0.58      0.51      0.50       120\n",
      "              weighted avg       0.59      0.51      0.50       120\n",
      "\n",
      "------------------------------------------------------------------------------------------\n",
      "Loss value:0.058981519078628884\n",
      "Test Results Epoch 9 :\n",
      "                            precision    recall  f1-score   support\n",
      "\n",
      "           Company's image       0.52      0.63      0.57        19\n",
      "          Customer service       0.41      0.35      0.38        26\n",
      "        Operational issues       0.25      0.26      0.26        23\n",
      "Product feature or quality       0.74      0.65      0.69        26\n",
      "Service quality or failure       0.54      0.58      0.56        26\n",
      "\n",
      "                  accuracy                           0.49       120\n",
      "                 macro avg       0.49      0.49      0.49       120\n",
      "              weighted avg       0.50      0.49      0.49       120\n",
      "\n",
      "------------------------------------------------------------------------------------------\n",
      "Best Model Performance :\n",
      "Weighted F1-Score:0.5145415307609013\n",
      "Company's image F1-Score:0.5641025641025641\n",
      "Customer service F1-Score:0.46511627906976744\n",
      "Operational issues F1-Score:0.3333333333333333\n",
      "Product feature or quality F1-Score:0.6808510638297872\n",
      "Service quality or failure F1-Score:0.5217391304347826\n"
     ]
    }
   ],
   "source": [
    "training_loop(class_model,train_dataset,train_labels,test_dataset,test_labels,batch_size=8,epochs=10,learning_rate=1e-3,dummies_names=dummies_names.to_list())"
   ]
  },
  {
   "cell_type": "markdown",
   "metadata": {},
   "source": [
    "## Setup for Hyperparameters change.\n",
    "We will increase the hidden dimension size to 64 of the classification layer to check the general performance."
   ]
  },
  {
   "cell_type": "code",
   "execution_count": 67,
   "metadata": {
    "id": "zUWpPeCiEcsX"
   },
   "outputs": [
    {
     "data": {
      "text/plain": [
       "Classification_Model(\n",
       "  (ff): Linear(in_features=768, out_features=64, bias=True)\n",
       "  (out): Linear(in_features=3840, out_features=5, bias=True)\n",
       "  (selu): SELU()\n",
       "  (soft): Softmax(dim=-1)\n",
       ")"
      ]
     },
     "execution_count": 67,
     "metadata": {},
     "output_type": "execute_result"
    }
   ],
   "source": [
    "class_model = Classification_Model(sequence_length = 60,hidden_size=64)\n",
    "class_model.to('cuda')"
   ]
  },
  {
   "cell_type": "code",
   "execution_count": 68,
   "metadata": {},
   "outputs": [],
   "source": [
    "train_dataset,train_labels,test_dataset,test_labels = train_test_split(bert_processed_text,processed_labels,test_size=120)"
   ]
  },
  {
   "cell_type": "code",
   "execution_count": 69,
   "metadata": {
    "scrolled": true
   },
   "outputs": [
    {
     "name": "stdout",
     "output_type": "stream",
     "text": [
      "Loss value:1.4730804231431749\n",
      "Test Results Epoch 0 :\n",
      "                            precision    recall  f1-score   support\n",
      "\n",
      "           Company's image       0.65      0.58      0.61        26\n",
      "          Customer service       0.29      0.10      0.15        20\n",
      "        Operational issues       0.20      0.45      0.28        20\n",
      "Product feature or quality       0.67      0.56      0.61        25\n",
      "Service quality or failure       0.32      0.28      0.30        29\n",
      "\n",
      "                  accuracy                           0.40       120\n",
      "                 macro avg       0.43      0.39      0.39       120\n",
      "              weighted avg       0.44      0.40      0.40       120\n",
      "\n",
      "------------------------------------------------------------------------------------------\n",
      "Loss value:0.6110072145859401\n",
      "Test Results Epoch 1 :\n",
      "                            precision    recall  f1-score   support\n",
      "\n",
      "           Company's image       0.57      0.65      0.61        26\n",
      "          Customer service       0.47      0.35      0.40        20\n",
      "        Operational issues       0.23      0.55      0.32        20\n",
      "Product feature or quality       0.69      0.36      0.47        25\n",
      "Service quality or failure       0.43      0.21      0.28        29\n",
      "\n",
      "                  accuracy                           0.42       120\n",
      "                 macro avg       0.48      0.42      0.42       120\n",
      "              weighted avg       0.49      0.42      0.42       120\n",
      "\n",
      "------------------------------------------------------------------------------------------\n",
      "Loss value:0.24338665339681836\n",
      "Test Results Epoch 2 :\n",
      "                            precision    recall  f1-score   support\n",
      "\n",
      "           Company's image       0.53      0.62      0.57        26\n",
      "          Customer service       0.50      0.05      0.09        20\n",
      "        Operational issues       0.15      0.10      0.12        20\n",
      "Product feature or quality       0.43      0.76      0.55        25\n",
      "Service quality or failure       0.42      0.45      0.43        29\n",
      "\n",
      "                  accuracy                           0.42       120\n",
      "                 macro avg       0.41      0.39      0.35       120\n",
      "              weighted avg       0.42      0.42      0.38       120\n",
      "\n",
      "------------------------------------------------------------------------------------------\n",
      "Loss value:0.10649948567152023\n",
      "Test Results Epoch 3 :\n",
      "                            precision    recall  f1-score   support\n",
      "\n",
      "           Company's image       0.62      0.58      0.60        26\n",
      "          Customer service       0.67      0.20      0.31        20\n",
      "        Operational issues       0.22      0.20      0.21        20\n",
      "Product feature or quality       0.46      0.68      0.55        25\n",
      "Service quality or failure       0.43      0.52      0.47        29\n",
      "\n",
      "                  accuracy                           0.46       120\n",
      "                 macro avg       0.48      0.43      0.43       120\n",
      "              weighted avg       0.48      0.46      0.44       120\n",
      "\n",
      "------------------------------------------------------------------------------------------\n",
      "Loss value:0.08259933083835576\n",
      "Test Results Epoch 4 :\n",
      "                            precision    recall  f1-score   support\n",
      "\n",
      "           Company's image       0.58      0.58      0.58        26\n",
      "          Customer service       0.54      0.35      0.42        20\n",
      "        Operational issues       0.19      0.20      0.20        20\n",
      "Product feature or quality       0.44      0.60      0.51        25\n",
      "Service quality or failure       0.42      0.38      0.40        29\n",
      "\n",
      "                  accuracy                           0.43       120\n",
      "                 macro avg       0.43      0.42      0.42       120\n",
      "              weighted avg       0.44      0.43      0.43       120\n",
      "\n",
      "------------------------------------------------------------------------------------------\n",
      "Loss value:0.07743021090411478\n",
      "Test Results Epoch 5 :\n",
      "                            precision    recall  f1-score   support\n",
      "\n",
      "           Company's image       0.39      0.73      0.51        26\n",
      "          Customer service       0.40      0.10      0.16        20\n",
      "        Operational issues       0.13      0.10      0.11        20\n",
      "Product feature or quality       0.57      0.52      0.54        25\n",
      "Service quality or failure       0.46      0.45      0.46        29\n",
      "\n",
      "                  accuracy                           0.41       120\n",
      "                 macro avg       0.39      0.38      0.36       120\n",
      "              weighted avg       0.40      0.41      0.38       120\n",
      "\n",
      "------------------------------------------------------------------------------------------\n",
      "Loss value:0.06776562289645274\n",
      "Test Results Epoch 6 :\n",
      "                            precision    recall  f1-score   support\n",
      "\n",
      "           Company's image       0.37      0.81      0.51        26\n",
      "          Customer service       0.31      0.25      0.28        20\n",
      "        Operational issues       0.14      0.05      0.07        20\n",
      "Product feature or quality       0.59      0.40      0.48        25\n",
      "Service quality or failure       0.43      0.34      0.38        29\n",
      "\n",
      "                  accuracy                           0.39       120\n",
      "                 macro avg       0.37      0.37      0.34       120\n",
      "              weighted avg       0.38      0.39      0.36       120\n",
      "\n",
      "------------------------------------------------------------------------------------------\n",
      "Loss value:0.06141576809394691\n",
      "Test Results Epoch 7 :\n",
      "                            precision    recall  f1-score   support\n",
      "\n",
      "           Company's image       0.54      0.58      0.56        26\n",
      "          Customer service       0.43      0.45      0.44        20\n",
      "        Operational issues       0.19      0.15      0.17        20\n",
      "Product feature or quality       0.53      0.64      0.58        25\n",
      "Service quality or failure       0.48      0.41      0.44        29\n",
      "\n",
      "                  accuracy                           0.46       120\n",
      "                 macro avg       0.43      0.45      0.44       120\n",
      "              weighted avg       0.45      0.46      0.45       120\n",
      "\n",
      "------------------------------------------------------------------------------------------\n",
      "Loss value:0.05586628935610254\n",
      "Test Results Epoch 8 :\n",
      "                            precision    recall  f1-score   support\n",
      "\n",
      "           Company's image       0.56      0.58      0.57        26\n",
      "          Customer service       0.40      0.50      0.44        20\n",
      "        Operational issues       0.19      0.15      0.17        20\n",
      "Product feature or quality       0.52      0.64      0.57        25\n",
      "Service quality or failure       0.43      0.31      0.36        29\n",
      "\n",
      "                  accuracy                           0.44       120\n",
      "                 macro avg       0.42      0.44      0.42       120\n",
      "              weighted avg       0.43      0.44      0.43       120\n",
      "\n",
      "------------------------------------------------------------------------------------------\n",
      "Loss value:0.05307175318917467\n",
      "Test Results Epoch 9 :\n",
      "                            precision    recall  f1-score   support\n",
      "\n",
      "           Company's image       0.76      0.50      0.60        26\n",
      "          Customer service       0.39      0.65      0.49        20\n",
      "        Operational issues       0.19      0.20      0.20        20\n",
      "Product feature or quality       0.52      0.60      0.56        25\n",
      "Service quality or failure       0.45      0.31      0.37        29\n",
      "\n",
      "                  accuracy                           0.45       120\n",
      "                 macro avg       0.46      0.45      0.44       120\n",
      "              weighted avg       0.48      0.45      0.45       120\n",
      "\n",
      "------------------------------------------------------------------------------------------\n",
      "Best Model Performance :\n",
      "Weighted F1-Score:0.4499384084749938\n",
      "Company's image F1-Score:0.5555555555555555\n",
      "Customer service F1-Score:0.4390243902439024\n",
      "Operational issues F1-Score:0.16666666666666663\n",
      "Product feature or quality F1-Score:0.5818181818181818\n",
      "Service quality or failure F1-Score:0.4444444444444445\n"
     ]
    }
   ],
   "source": [
    "training_loop(class_model,train_dataset,train_labels,test_dataset,test_labels,batch_size=8,epochs=10,learning_rate=1e-3,dummies_names=dummies_names.to_list())"
   ]
  },
  {
   "cell_type": "markdown",
   "metadata": {},
   "source": [
    "## Setup for Hyperparameters change.\n",
    "We will decrease the hidden dimension size to 8 of the classification layer to check the general performance."
   ]
  },
  {
   "cell_type": "code",
   "execution_count": 70,
   "metadata": {
    "id": "zUWpPeCiEcsX"
   },
   "outputs": [
    {
     "data": {
      "text/plain": [
       "Classification_Model(\n",
       "  (ff): Linear(in_features=768, out_features=8, bias=True)\n",
       "  (out): Linear(in_features=480, out_features=5, bias=True)\n",
       "  (selu): SELU()\n",
       "  (soft): Softmax(dim=-1)\n",
       ")"
      ]
     },
     "execution_count": 70,
     "metadata": {},
     "output_type": "execute_result"
    }
   ],
   "source": [
    "class_model = Classification_Model(sequence_length =60,hidden_size=8)\n",
    "class_model.to('cuda')"
   ]
  },
  {
   "cell_type": "code",
   "execution_count": 71,
   "metadata": {},
   "outputs": [],
   "source": [
    "train_dataset,train_labels,test_dataset,test_labels = train_test_split(bert_processed_text,processed_labels,test_size=120)"
   ]
  },
  {
   "cell_type": "code",
   "execution_count": 72,
   "metadata": {},
   "outputs": [
    {
     "name": "stdout",
     "output_type": "stream",
     "text": [
      "Loss value:1.5964349587758382\n",
      "Test Results Epoch 0 :\n",
      "                            precision    recall  f1-score   support\n",
      "\n",
      "           Company's image       0.31      0.60      0.41        20\n",
      "          Customer service       0.25      0.05      0.09        19\n",
      "        Operational issues       0.13      0.10      0.11        20\n",
      "Product feature or quality       0.43      0.72      0.53        32\n",
      "Service quality or failure       0.00      0.00      0.00        29\n",
      "\n",
      "                  accuracy                           0.32       120\n",
      "                 macro avg       0.22      0.29      0.23       120\n",
      "              weighted avg       0.23      0.32      0.24       120\n",
      "\n",
      "------------------------------------------------------------------------------------------\n",
      "Loss value:1.1213177654478286\n",
      "Test Results Epoch 1 :\n",
      "                            precision    recall  f1-score   support\n",
      "\n",
      "           Company's image       0.34      0.80      0.48        20\n",
      "          Customer service       0.27      0.16      0.20        19\n",
      "        Operational issues       0.14      0.15      0.15        20\n",
      "Product feature or quality       0.72      0.66      0.69        32\n",
      "Service quality or failure       0.42      0.17      0.24        29\n",
      "\n",
      "                  accuracy                           0.40       120\n",
      "                 macro avg       0.38      0.39      0.35       120\n",
      "              weighted avg       0.42      0.40      0.38       120\n",
      "\n",
      "------------------------------------------------------------------------------------------\n",
      "Loss value:0.7840148263507419\n",
      "Test Results Epoch 2 :\n",
      "                            precision    recall  f1-score   support\n",
      "\n",
      "           Company's image       0.35      0.65      0.46        20\n",
      "          Customer service       0.83      0.26      0.40        19\n",
      "        Operational issues       0.33      0.30      0.32        20\n",
      "Product feature or quality       0.64      0.66      0.65        32\n",
      "Service quality or failure       0.50      0.45      0.47        29\n",
      "\n",
      "                  accuracy                           0.48       120\n",
      "                 macro avg       0.53      0.46      0.46       120\n",
      "              weighted avg       0.54      0.48      0.48       120\n",
      "\n",
      "------------------------------------------------------------------------------------------\n",
      "Loss value:0.533486008644104\n",
      "Test Results Epoch 3 :\n",
      "                            precision    recall  f1-score   support\n",
      "\n",
      "           Company's image       0.39      0.60      0.47        20\n",
      "          Customer service       0.78      0.37      0.50        19\n",
      "        Operational issues       0.27      0.15      0.19        20\n",
      "Product feature or quality       0.70      0.66      0.68        32\n",
      "Service quality or failure       0.46      0.62      0.53        29\n",
      "\n",
      "                  accuracy                           0.51       120\n",
      "                 macro avg       0.52      0.48      0.47       120\n",
      "              weighted avg       0.53      0.51      0.50       120\n",
      "\n",
      "------------------------------------------------------------------------------------------\n",
      "Loss value:0.33647418518861133\n",
      "Test Results Epoch 4 :\n",
      "                            precision    recall  f1-score   support\n",
      "\n",
      "           Company's image       0.38      0.55      0.45        20\n",
      "          Customer service       0.73      0.42      0.53        19\n",
      "        Operational issues       0.23      0.15      0.18        20\n",
      "Product feature or quality       0.83      0.59      0.69        32\n",
      "Service quality or failure       0.43      0.66      0.52        29\n",
      "\n",
      "                  accuracy                           0.50       120\n",
      "                 macro avg       0.52      0.47      0.48       120\n",
      "              weighted avg       0.54      0.50      0.50       120\n",
      "\n",
      "------------------------------------------------------------------------------------------\n",
      "Loss value:0.204491778380341\n",
      "Test Results Epoch 5 :\n",
      "                            precision    recall  f1-score   support\n",
      "\n",
      "           Company's image       0.37      0.50      0.43        20\n",
      "          Customer service       0.62      0.42      0.50        19\n",
      "        Operational issues       0.22      0.20      0.21        20\n",
      "Product feature or quality       0.83      0.59      0.69        32\n",
      "Service quality or failure       0.41      0.55      0.47        29\n",
      "\n",
      "                  accuracy                           0.48       120\n",
      "                 macro avg       0.49      0.45      0.46       120\n",
      "              weighted avg       0.52      0.47      0.48       120\n",
      "\n",
      "------------------------------------------------------------------------------------------\n",
      "Loss value:0.12926771326197517\n",
      "Test Results Epoch 6 :\n",
      "                            precision    recall  f1-score   support\n",
      "\n",
      "           Company's image       0.38      0.55      0.45        20\n",
      "          Customer service       0.67      0.42      0.52        19\n",
      "        Operational issues       0.24      0.30      0.27        20\n",
      "Product feature or quality       0.90      0.56      0.69        32\n",
      "Service quality or failure       0.38      0.45      0.41        29\n",
      "\n",
      "                  accuracy                           0.47       120\n",
      "                 macro avg       0.51      0.46      0.47       120\n",
      "              weighted avg       0.54      0.47      0.49       120\n",
      "\n",
      "------------------------------------------------------------------------------------------\n",
      "Loss value:0.08872156060404247\n",
      "Test Results Epoch 7 :\n",
      "                            precision    recall  f1-score   support\n",
      "\n",
      "           Company's image       0.33      0.55      0.42        20\n",
      "          Customer service       0.59      0.53      0.56        19\n",
      "        Operational issues       0.19      0.25      0.22        20\n",
      "Product feature or quality       0.88      0.47      0.61        32\n",
      "Service quality or failure       0.41      0.38      0.39        29\n",
      "\n",
      "                  accuracy                           0.43       120\n",
      "                 macro avg       0.48      0.43      0.44       120\n",
      "              weighted avg       0.51      0.43      0.45       120\n",
      "\n",
      "------------------------------------------------------------------------------------------\n",
      "Loss value:0.06536005586385726\n",
      "Test Results Epoch 8 :\n",
      "                            precision    recall  f1-score   support\n",
      "\n",
      "           Company's image       0.30      0.65      0.41        20\n",
      "          Customer service       0.53      0.53      0.53        19\n",
      "        Operational issues       0.15      0.20      0.17        20\n",
      "Product feature or quality       0.88      0.44      0.58        32\n",
      "Service quality or failure       0.50      0.28      0.36        29\n",
      "\n",
      "                  accuracy                           0.41       120\n",
      "                 macro avg       0.47      0.42      0.41       120\n",
      "              weighted avg       0.51      0.41      0.42       120\n",
      "\n",
      "------------------------------------------------------------------------------------------\n",
      "Loss value:0.05332900480263763\n",
      "Test Results Epoch 9 :\n",
      "                            precision    recall  f1-score   support\n",
      "\n",
      "           Company's image       0.33      0.80      0.47        20\n",
      "          Customer service       0.50      0.53      0.51        19\n",
      "        Operational issues       0.15      0.20      0.17        20\n",
      "Product feature or quality       1.00      0.34      0.51        32\n",
      "Service quality or failure       0.43      0.21      0.28        29\n",
      "\n",
      "                  accuracy                           0.39       120\n",
      "                 macro avg       0.48      0.42      0.39       120\n",
      "              weighted avg       0.53      0.39      0.39       120\n",
      "\n",
      "------------------------------------------------------------------------------------------\n",
      "Best Model Performance :\n",
      "Weighted F1-Score:0.4996189177206789\n",
      "Company's image F1-Score:0.4489795918367347\n",
      "Customer service F1-Score:0.5333333333333333\n",
      "Operational issues F1-Score:0.18181818181818185\n",
      "Product feature or quality F1-Score:0.6909090909090908\n",
      "Service quality or failure F1-Score:0.5205479452054794\n"
     ]
    }
   ],
   "source": [
    "training_loop(class_model,train_dataset,train_labels,test_dataset,test_labels,batch_size=8,epochs=10,learning_rate=1e-3,dummies_names=dummies_names.to_list())"
   ]
  },
  {
   "cell_type": "markdown",
   "metadata": {},
   "source": [
    "## Conclusion\n",
    "As observed, Increasing the hidden dimension of the classification layer tend to slightly decrease the performance as the dataset is very small for this number of parameters. And decrease the hidden dimension tend to decrease the performance as the model capacity greatly decreased."
   ]
  },
  {
   "cell_type": "markdown",
   "metadata": {},
   "source": [
    "# RoBERTa No Data Augmentation Trial\n",
    "We will use the 100 Samples Dataset accompanied with the 16-Hidden dimension as these are the best performing models to check whether RoBERTa is better than BERT or not."
   ]
  },
  {
   "cell_type": "code",
   "execution_count": 73,
   "metadata": {},
   "outputs": [],
   "source": [
    "processed_dataset = preprocess_text(sampled_dataset_100,text_column_name='text')"
   ]
  },
  {
   "cell_type": "code",
   "execution_count": 74,
   "metadata": {
    "scrolled": true
   },
   "outputs": [
    {
     "data": {
      "text/plain": [
       "485"
      ]
     },
     "execution_count": 74,
     "metadata": {},
     "output_type": "execute_result"
    }
   ],
   "source": [
    "len(processed_dataset)"
   ]
  },
  {
   "cell_type": "code",
   "execution_count": 75,
   "metadata": {},
   "outputs": [
    {
     "data": {
      "text/plain": [
       "3207"
      ]
     },
     "execution_count": 75,
     "metadata": {},
     "output_type": "execute_result"
    }
   ],
   "source": [
    "vocab = {}\n",
    "for sent in processed_dataset:\n",
    "    tokens = sent.split(' ')\n",
    "    for token in tokens:\n",
    "        if token in vocab.keys():\n",
    "            vocab[token] += 1\n",
    "        else:\n",
    "            vocab[token] = 1\n",
    "len(vocab)"
   ]
  },
  {
   "cell_type": "code",
   "execution_count": 76,
   "metadata": {},
   "outputs": [
    {
     "name": "stderr",
     "output_type": "stream",
     "text": [
      "Some weights of the model checkpoint at roberta-base were not used when initializing RobertaModel: ['lm_head.layer_norm.weight', 'lm_head.bias', 'lm_head.layer_norm.bias', 'lm_head.decoder.weight', 'lm_head.dense.bias', 'lm_head.dense.weight']\n",
      "- This IS expected if you are initializing RobertaModel from the checkpoint of a model trained on another task or with another architecture (e.g. initializing a BertForSequenceClassification model from a BertForPreTraining model).\n",
      "- This IS NOT expected if you are initializing RobertaModel from the checkpoint of a model that you expect to be exactly identical (initializing a BertForSequenceClassification model from a BertForSequenceClassification model).\n"
     ]
    }
   ],
   "source": [
    "roberta_tokenizer,roberta_model = init_roberta_model(gpu_usage=True)"
   ]
  },
  {
   "cell_type": "code",
   "execution_count": 77,
   "metadata": {},
   "outputs": [],
   "source": [
    "roberta_processed_text = transformer_model_dataset_preparation(processed_dataset,roberta_model,roberta_tokenizer,max_length=60)"
   ]
  },
  {
   "cell_type": "code",
   "execution_count": 78,
   "metadata": {},
   "outputs": [],
   "source": [
    "train_dataset,train_labels,test_dataset,test_labels = train_test_split(roberta_processed_text,processed_labels,test_size=120)"
   ]
  },
  {
   "cell_type": "markdown",
   "metadata": {},
   "source": [
    "## Re-initializing the classification layer so it is not affected by previous training"
   ]
  },
  {
   "cell_type": "code",
   "execution_count": 79,
   "metadata": {},
   "outputs": [
    {
     "data": {
      "text/plain": [
       "Classification_Model(\n",
       "  (ff): Linear(in_features=768, out_features=16, bias=True)\n",
       "  (out): Linear(in_features=960, out_features=5, bias=True)\n",
       "  (selu): SELU()\n",
       "  (soft): Softmax(dim=-1)\n",
       ")"
      ]
     },
     "execution_count": 79,
     "metadata": {},
     "output_type": "execute_result"
    }
   ],
   "source": [
    "class_model = Classification_Model(sequence_length = 60,hidden_size=16)\n",
    "class_model.to('cuda')"
   ]
  },
  {
   "cell_type": "code",
   "execution_count": 80,
   "metadata": {},
   "outputs": [
    {
     "name": "stdout",
     "output_type": "stream",
     "text": [
      "Loss value:1.5999701367484198\n",
      "Test Results Epoch 0 :\n",
      "                            precision    recall  f1-score   support\n",
      "\n",
      "           Company's image       0.00      0.00      0.00        27\n",
      "          Customer service       0.40      0.22      0.29        18\n",
      "        Operational issues       0.17      0.29      0.21        21\n",
      "Product feature or quality       0.53      0.36      0.43        25\n",
      "Service quality or failure       0.38      0.76      0.51        29\n",
      "\n",
      "                  accuracy                           0.34       120\n",
      "                 macro avg       0.30      0.33      0.29       120\n",
      "              weighted avg       0.29      0.34      0.29       120\n",
      "\n",
      "------------------------------------------------------------------------------------------\n",
      "Loss value:1.2275404744678073\n",
      "Test Results Epoch 1 :\n",
      "                            precision    recall  f1-score   support\n",
      "\n",
      "           Company's image       1.00      0.15      0.26        27\n",
      "          Customer service       0.56      0.50      0.53        18\n",
      "        Operational issues       0.16      0.24      0.19        21\n",
      "Product feature or quality       0.60      0.72      0.65        25\n",
      "Service quality or failure       0.50      0.66      0.57        29\n",
      "\n",
      "                  accuracy                           0.46       120\n",
      "                 macro avg       0.56      0.45      0.44       120\n",
      "              weighted avg       0.58      0.46      0.44       120\n",
      "\n",
      "------------------------------------------------------------------------------------------\n",
      "Loss value:0.8920211460855272\n",
      "Test Results Epoch 2 :\n",
      "                            precision    recall  f1-score   support\n",
      "\n",
      "           Company's image       0.88      0.56      0.68        27\n",
      "          Customer service       0.43      0.56      0.49        18\n",
      "        Operational issues       0.28      0.33      0.30        21\n",
      "Product feature or quality       0.68      0.60      0.64        25\n",
      "Service quality or failure       0.58      0.66      0.61        29\n",
      "\n",
      "                  accuracy                           0.55       120\n",
      "                 macro avg       0.57      0.54      0.55       120\n",
      "              weighted avg       0.59      0.55      0.56       120\n",
      "\n",
      "------------------------------------------------------------------------------------------\n",
      "Loss value:0.656748589542177\n",
      "Test Results Epoch 3 :\n",
      "                            precision    recall  f1-score   support\n",
      "\n",
      "           Company's image       0.84      0.59      0.70        27\n",
      "          Customer service       0.44      0.78      0.56        18\n",
      "        Operational issues       0.29      0.29      0.29        21\n",
      "Product feature or quality       0.65      0.52      0.58        25\n",
      "Service quality or failure       0.68      0.66      0.67        29\n",
      "\n",
      "                  accuracy                           0.57       120\n",
      "                 macro avg       0.58      0.57      0.56       120\n",
      "              weighted avg       0.60      0.57      0.57       120\n",
      "\n",
      "------------------------------------------------------------------------------------------\n",
      "Loss value:0.4933638953500324\n",
      "Test Results Epoch 4 :\n",
      "                            precision    recall  f1-score   support\n",
      "\n",
      "           Company's image       0.84      0.59      0.70        27\n",
      "          Customer service       0.35      0.83      0.49        18\n",
      "        Operational issues       0.37      0.33      0.35        21\n",
      "Product feature or quality       0.71      0.60      0.65        25\n",
      "Service quality or failure       0.72      0.45      0.55        29\n",
      "\n",
      "                  accuracy                           0.55       120\n",
      "                 macro avg       0.60      0.56      0.55       120\n",
      "              weighted avg       0.63      0.55      0.56       120\n",
      "\n",
      "------------------------------------------------------------------------------------------\n",
      "Loss value:0.36537465734614266\n",
      "Test Results Epoch 5 :\n",
      "                            precision    recall  f1-score   support\n",
      "\n",
      "           Company's image       0.83      0.56      0.67        27\n",
      "          Customer service       0.48      0.67      0.56        18\n",
      "        Operational issues       0.36      0.43      0.39        21\n",
      "Product feature or quality       0.65      0.80      0.71        25\n",
      "Service quality or failure       0.76      0.55      0.64        29\n",
      "\n",
      "                  accuracy                           0.60       120\n",
      "                 macro avg       0.62      0.60      0.59       120\n",
      "              weighted avg       0.64      0.60      0.61       120\n",
      "\n",
      "------------------------------------------------------------------------------------------\n",
      "Loss value:0.24246071577072142\n",
      "Test Results Epoch 6 :\n",
      "                            precision    recall  f1-score   support\n",
      "\n",
      "           Company's image       0.84      0.59      0.70        27\n",
      "          Customer service       0.73      0.44      0.55        18\n",
      "        Operational issues       0.39      0.43      0.41        21\n",
      "Product feature or quality       0.57      0.92      0.71        25\n",
      "Service quality or failure       0.59      0.55      0.57        29\n",
      "\n",
      "                  accuracy                           0.60       120\n",
      "                 macro avg       0.63      0.59      0.59       120\n",
      "              weighted avg       0.63      0.60      0.60       120\n",
      "\n",
      "------------------------------------------------------------------------------------------\n",
      "Loss value:0.15885893454154332\n",
      "Test Results Epoch 7 :\n",
      "                            precision    recall  f1-score   support\n",
      "\n",
      "           Company's image       0.86      0.67      0.75        27\n",
      "          Customer service       0.43      0.17      0.24        18\n",
      "        Operational issues       0.39      0.33      0.36        21\n",
      "Product feature or quality       0.61      0.92      0.73        25\n",
      "Service quality or failure       0.47      0.59      0.52        29\n",
      "\n",
      "                  accuracy                           0.57       120\n",
      "                 macro avg       0.55      0.53      0.52       120\n",
      "              weighted avg       0.57      0.57      0.55       120\n",
      "\n",
      "------------------------------------------------------------------------------------------\n",
      "Loss value:0.11560555083884133\n",
      "Test Results Epoch 8 :\n",
      "                            precision    recall  f1-score   support\n",
      "\n",
      "           Company's image       0.86      0.67      0.75        27\n",
      "          Customer service       0.50      0.28      0.36        18\n",
      "        Operational issues       0.47      0.33      0.39        21\n",
      "Product feature or quality       0.69      0.88      0.77        25\n",
      "Service quality or failure       0.50      0.72      0.59        29\n",
      "\n",
      "                  accuracy                           0.61       120\n",
      "                 macro avg       0.60      0.58      0.57       120\n",
      "              weighted avg       0.61      0.61      0.59       120\n",
      "\n",
      "------------------------------------------------------------------------------------------\n",
      "Loss value:0.09319212258689934\n",
      "Test Results Epoch 9 :\n",
      "                            precision    recall  f1-score   support\n",
      "\n",
      "           Company's image       0.86      0.67      0.75        27\n",
      "          Customer service       0.50      0.22      0.31        18\n",
      "        Operational issues       0.40      0.29      0.33        21\n",
      "Product feature or quality       0.71      0.88      0.79        25\n",
      "Service quality or failure       0.49      0.76      0.59        29\n",
      "\n",
      "                  accuracy                           0.60       120\n",
      "                 macro avg       0.59      0.56      0.55       120\n",
      "              weighted avg       0.60      0.60      0.58       120\n",
      "\n",
      "------------------------------------------------------------------------------------------\n",
      "Best Model Performance :\n",
      "Weighted F1-Score:0.6056753815783138\n",
      "Company's image F1-Score:0.6666666666666667\n",
      "Customer service F1-Score:0.5581395348837209\n",
      "Operational issues F1-Score:0.391304347826087\n",
      "Product feature or quality F1-Score:0.7142857142857142\n",
      "Service quality or failure F1-Score:0.64\n"
     ]
    }
   ],
   "source": [
    "training_loop(class_model,train_dataset,train_labels,test_dataset,test_labels,batch_size=8,epochs=10,learning_rate=1e-3,dummies_names=dummies_names.to_list())"
   ]
  },
  {
   "cell_type": "markdown",
   "metadata": {},
   "source": [
    "## Conclusion\n",
    "It seems that RoBERTa is able to outperform BERT with about 6% which is reasonable as RoBERTa was exposed to more training data which has more variety."
   ]
  },
  {
   "cell_type": "markdown",
   "metadata": {},
   "source": [
    "# Data Augmentation Experiments \n",
    "We are going to experiment with different Data Augmentation techniques to check whether it will improve performance or not."
   ]
  },
  {
   "cell_type": "markdown",
   "metadata": {},
   "source": [
    "## Random Word Deletion"
   ]
  },
  {
   "cell_type": "code",
   "execution_count": 81,
   "metadata": {},
   "outputs": [],
   "source": [
    "processed_dataset = preprocess_text(sampled_dataset_100,text_column_name='text')"
   ]
  },
  {
   "cell_type": "code",
   "execution_count": 82,
   "metadata": {
    "scrolled": true
   },
   "outputs": [
    {
     "data": {
      "text/plain": [
       "485"
      ]
     },
     "execution_count": 82,
     "metadata": {},
     "output_type": "execute_result"
    }
   ],
   "source": [
    "len(processed_dataset)"
   ]
  },
  {
   "cell_type": "code",
   "execution_count": 83,
   "metadata": {
    "colab": {
     "base_uri": "https://localhost:8080/",
     "height": 367
    },
    "id": "0u3rV4E24vtS",
    "outputId": "7bcc783e-3801-49cb-a594-ac8d7902f5b8"
   },
   "outputs": [],
   "source": [
    "aug_dataset = augment_text_random(processed_dataset,'delete')"
   ]
  },
  {
   "cell_type": "markdown",
   "metadata": {},
   "source": [
    "### Concatenating the old and new augmented datasets (lists)"
   ]
  },
  {
   "cell_type": "code",
   "execution_count": 84,
   "metadata": {
    "id": "PKObEY0UeyBx"
   },
   "outputs": [],
   "source": [
    "new_dataset = processed_dataset + aug_dataset"
   ]
  },
  {
   "cell_type": "code",
   "execution_count": 93,
   "metadata": {},
   "outputs": [
    {
     "data": {
      "text/plain": [
       "torch.Size([970, 5])"
      ]
     },
     "execution_count": 93,
     "metadata": {},
     "output_type": "execute_result"
    }
   ],
   "source": [
    "new_labels"
   ]
  },
  {
   "cell_type": "code",
   "execution_count": 98,
   "metadata": {},
   "outputs": [],
   "source": []
  },
  {
   "cell_type": "markdown",
   "metadata": {},
   "source": [
    "### Size of new Dataset"
   ]
  },
  {
   "cell_type": "code",
   "execution_count": 99,
   "metadata": {},
   "outputs": [],
   "source": [
    "dataset.to_csv('Data_augment_deletion.csv')"
   ]
  },
  {
   "cell_type": "code",
   "execution_count": 85,
   "metadata": {},
   "outputs": [
    {
     "data": {
      "text/plain": [
       "970"
      ]
     },
     "execution_count": 85,
     "metadata": {},
     "output_type": "execute_result"
    }
   ],
   "source": [
    "len(new_dataset)"
   ]
  },
  {
   "cell_type": "markdown",
   "metadata": {},
   "source": [
    "### Same labels as order didnt change and concatenate them."
   ]
  },
  {
   "cell_type": "code",
   "execution_count": 86,
   "metadata": {},
   "outputs": [],
   "source": [
    "aug_labels = processed_labels"
   ]
  },
  {
   "cell_type": "code",
   "execution_count": 87,
   "metadata": {
    "id": "pQwT3UYUe6vo"
   },
   "outputs": [],
   "source": [
    "new_labels = torch.cat((processed_labels,aug_labels),dim=0)"
   ]
  },
  {
   "cell_type": "code",
   "execution_count": 88,
   "metadata": {
    "id": "vbvTnscfxO7I"
   },
   "outputs": [],
   "source": [
    "roberta_processed_text = transformer_model_dataset_preparation(new_dataset,roberta_model,roberta_tokenizer,max_length=60)"
   ]
  },
  {
   "cell_type": "code",
   "execution_count": 89,
   "metadata": {},
   "outputs": [
    {
     "data": {
      "text/plain": [
       "Classification_Model(\n",
       "  (ff): Linear(in_features=768, out_features=16, bias=True)\n",
       "  (out): Linear(in_features=960, out_features=5, bias=True)\n",
       "  (selu): SELU()\n",
       "  (soft): Softmax(dim=-1)\n",
       ")"
      ]
     },
     "execution_count": 89,
     "metadata": {},
     "output_type": "execute_result"
    }
   ],
   "source": [
    "class_model = Classification_Model(sequence_length = 60,hidden_size=16)\n",
    "class_model.to('cuda')"
   ]
  },
  {
   "cell_type": "code",
   "execution_count": 90,
   "metadata": {},
   "outputs": [],
   "source": [
    "train_dataset,train_labels,test_dataset,test_labels = train_test_split(roberta_processed_text,new_labels,test_size=300)"
   ]
  },
  {
   "cell_type": "code",
   "execution_count": 91,
   "metadata": {},
   "outputs": [
    {
     "name": "stdout",
     "output_type": "stream",
     "text": [
      "Loss value:1.4909043570598923\n",
      "Test Results Epoch 0 :\n",
      "                            precision    recall  f1-score   support\n",
      "\n",
      "           Company's image       0.60      0.59      0.60        59\n",
      "          Customer service       0.48      0.28      0.35        54\n",
      "        Operational issues       0.31      0.61      0.41        64\n",
      "Product feature or quality       0.69      0.42      0.53        59\n",
      "Service quality or failure       0.57      0.44      0.50        64\n",
      "\n",
      "                  accuracy                           0.47       300\n",
      "                 macro avg       0.53      0.47      0.48       300\n",
      "              weighted avg       0.53      0.47      0.48       300\n",
      "\n",
      "------------------------------------------------------------------------------------------\n",
      "Loss value:1.0322155866278224\n",
      "Test Results Epoch 1 :\n",
      "                            precision    recall  f1-score   support\n",
      "\n",
      "           Company's image       0.68      0.68      0.68        59\n",
      "          Customer service       0.58      0.46      0.52        54\n",
      "        Operational issues       0.38      0.75      0.50        64\n",
      "Product feature or quality       0.72      0.39      0.51        59\n",
      "Service quality or failure       0.69      0.42      0.52        64\n",
      "\n",
      "                  accuracy                           0.54       300\n",
      "                 macro avg       0.61      0.54      0.55       300\n",
      "              weighted avg       0.61      0.54      0.54       300\n",
      "\n",
      "------------------------------------------------------------------------------------------\n",
      "Loss value:0.7113699054861643\n",
      "Test Results Epoch 2 :\n",
      "                            precision    recall  f1-score   support\n",
      "\n",
      "           Company's image       0.69      0.73      0.71        59\n",
      "          Customer service       0.62      0.56      0.59        54\n",
      "        Operational issues       0.42      0.73      0.54        64\n",
      "Product feature or quality       0.72      0.49      0.59        59\n",
      "Service quality or failure       0.74      0.45      0.56        64\n",
      "\n",
      "                  accuracy                           0.59       300\n",
      "                 macro avg       0.64      0.59      0.60       300\n",
      "              weighted avg       0.64      0.59      0.60       300\n",
      "\n",
      "------------------------------------------------------------------------------------------\n",
      "Loss value:0.49365537676466514\n",
      "Test Results Epoch 3 :\n",
      "                            precision    recall  f1-score   support\n",
      "\n",
      "           Company's image       0.68      0.73      0.70        59\n",
      "          Customer service       0.64      0.54      0.59        54\n",
      "        Operational issues       0.40      0.67      0.50        64\n",
      "Product feature or quality       0.74      0.44      0.55        59\n",
      "Service quality or failure       0.62      0.48      0.54        64\n",
      "\n",
      "                  accuracy                           0.57       300\n",
      "                 macro avg       0.62      0.57      0.58       300\n",
      "              weighted avg       0.61      0.57      0.58       300\n",
      "\n",
      "------------------------------------------------------------------------------------------\n",
      "Loss value:0.33821626124252757\n",
      "Test Results Epoch 4 :\n",
      "                            precision    recall  f1-score   support\n",
      "\n",
      "           Company's image       0.69      0.73      0.71        59\n",
      "          Customer service       0.67      0.48      0.56        54\n",
      "        Operational issues       0.40      0.70      0.51        64\n",
      "Product feature or quality       0.85      0.37      0.52        59\n",
      "Service quality or failure       0.59      0.56      0.58        64\n",
      "\n",
      "                  accuracy                           0.57       300\n",
      "                 macro avg       0.64      0.57      0.57       300\n",
      "              weighted avg       0.63      0.57      0.57       300\n",
      "\n",
      "------------------------------------------------------------------------------------------\n",
      "Loss value:0.23418762355324735\n",
      "Test Results Epoch 5 :\n",
      "                            precision    recall  f1-score   support\n",
      "\n",
      "           Company's image       0.69      0.71      0.70        59\n",
      "          Customer service       0.68      0.39      0.49        54\n",
      "        Operational issues       0.39      0.70      0.50        64\n",
      "Product feature or quality       0.88      0.36      0.51        59\n",
      "Service quality or failure       0.57      0.61      0.59        64\n",
      "\n",
      "                  accuracy                           0.56       300\n",
      "                 macro avg       0.64      0.55      0.56       300\n",
      "              weighted avg       0.63      0.56      0.56       300\n",
      "\n",
      "------------------------------------------------------------------------------------------\n",
      "Loss value:0.16438567059406314\n",
      "Test Results Epoch 6 :\n",
      "                            precision    recall  f1-score   support\n",
      "\n",
      "           Company's image       0.68      0.71      0.69        59\n",
      "          Customer service       0.76      0.41      0.53        54\n",
      "        Operational issues       0.40      0.73      0.52        64\n",
      "Product feature or quality       0.83      0.34      0.48        59\n",
      "Service quality or failure       0.59      0.62      0.61        64\n",
      "\n",
      "                  accuracy                           0.57       300\n",
      "                 macro avg       0.65      0.56      0.57       300\n",
      "              weighted avg       0.64      0.57      0.57       300\n",
      "\n",
      "------------------------------------------------------------------------------------------\n",
      "Loss value:0.12170347883309944\n",
      "Test Results Epoch 7 :\n",
      "                            precision    recall  f1-score   support\n",
      "\n",
      "           Company's image       0.64      0.80      0.71        59\n",
      "          Customer service       0.69      0.37      0.48        54\n",
      "        Operational issues       0.41      0.72      0.52        64\n",
      "Product feature or quality       0.81      0.36      0.49        59\n",
      "Service quality or failure       0.58      0.53      0.55        64\n",
      "\n",
      "                  accuracy                           0.56       300\n",
      "                 macro avg       0.62      0.55      0.55       300\n",
      "              weighted avg       0.62      0.56      0.55       300\n",
      "\n",
      "------------------------------------------------------------------------------------------\n",
      "Loss value:0.10129073596593127\n",
      "Test Results Epoch 8 :\n",
      "                            precision    recall  f1-score   support\n",
      "\n",
      "           Company's image       0.64      0.78      0.70        59\n",
      "          Customer service       0.63      0.48      0.55        54\n",
      "        Operational issues       0.42      0.75      0.54        64\n",
      "Product feature or quality       0.81      0.37      0.51        59\n",
      "Service quality or failure       0.62      0.44      0.51        64\n",
      "\n",
      "                  accuracy                           0.57       300\n",
      "                 macro avg       0.63      0.56      0.56       300\n",
      "              weighted avg       0.62      0.57      0.56       300\n",
      "\n",
      "------------------------------------------------------------------------------------------\n",
      "Loss value:0.09002374957528818\n",
      "Test Results Epoch 9 :\n",
      "                            precision    recall  f1-score   support\n",
      "\n",
      "           Company's image       0.72      0.73      0.72        59\n",
      "          Customer service       0.53      0.57      0.55        54\n",
      "        Operational issues       0.37      0.61      0.46        64\n",
      "Product feature or quality       0.86      0.41      0.55        59\n",
      "Service quality or failure       0.60      0.45      0.52        64\n",
      "\n",
      "                  accuracy                           0.55       300\n",
      "                 macro avg       0.62      0.55      0.56       300\n",
      "              weighted avg       0.61      0.55      0.56       300\n",
      "\n",
      "------------------------------------------------------------------------------------------\n",
      "Best Model Performance :\n",
      "Weighted F1-Score:0.5956007485137645\n",
      "Company's image F1-Score:0.7107438016528926\n",
      "Customer service F1-Score:0.5882352941176471\n",
      "Operational issues F1-Score:0.537142857142857\n",
      "Product feature or quality F1-Score:0.5858585858585859\n",
      "Service quality or failure F1-Score:0.5631067961165049\n"
     ]
    }
   ],
   "source": [
    "training_loop(class_model,train_dataset,train_labels,test_dataset,test_labels,batch_size=8,epochs=10,learning_rate=1e-3,dummies_names=dummies_names.to_list())"
   ]
  },
  {
   "cell_type": "markdown",
   "metadata": {},
   "source": [
    "# Random Swapping Trial"
   ]
  },
  {
   "cell_type": "code",
   "execution_count": 100,
   "metadata": {},
   "outputs": [],
   "source": [
    "aug_dataset = augment_text_random(processed_dataset,'swap')"
   ]
  },
  {
   "cell_type": "code",
   "execution_count": 101,
   "metadata": {
    "id": "PKObEY0UeyBx"
   },
   "outputs": [],
   "source": [
    "new_dataset = processed_dataset + aug_dataset"
   ]
  },
  {
   "cell_type": "markdown",
   "metadata": {},
   "source": [
    "## Same labels as order didnt change and concatenate them."
   ]
  },
  {
   "cell_type": "code",
   "execution_count": 102,
   "metadata": {},
   "outputs": [],
   "source": [
    "aug_labels = processed_labels"
   ]
  },
  {
   "cell_type": "code",
   "execution_count": 103,
   "metadata": {
    "id": "pQwT3UYUe6vo"
   },
   "outputs": [],
   "source": [
    "new_labels = torch.cat((processed_labels,aug_labels),dim=0)"
   ]
  },
  {
   "cell_type": "code",
   "execution_count": 105,
   "metadata": {
    "id": "vbvTnscfxO7I"
   },
   "outputs": [],
   "source": [
    "roberta_processed_text = transformer_model_dataset_preparation(new_dataset,roberta_model,roberta_tokenizer,max_length=60)"
   ]
  },
  {
   "cell_type": "code",
   "execution_count": 110,
   "metadata": {},
   "outputs": [
    {
     "data": {
      "text/plain": [
       "Classification_Model(\n",
       "  (ff): Linear(in_features=768, out_features=16, bias=True)\n",
       "  (out): Linear(in_features=960, out_features=5, bias=True)\n",
       "  (selu): SELU()\n",
       "  (soft): Softmax(dim=-1)\n",
       ")"
      ]
     },
     "execution_count": 110,
     "metadata": {},
     "output_type": "execute_result"
    }
   ],
   "source": [
    "class_model = Classification_Model(sequence_length = 60,hidden_size=16)\n",
    "class_model.to('cuda')"
   ]
  },
  {
   "cell_type": "code",
   "execution_count": 111,
   "metadata": {},
   "outputs": [],
   "source": [
    "train_dataset,train_labels,test_dataset,test_labels = train_test_split(roberta_processed_text,new_labels,test_size=300)"
   ]
  },
  {
   "cell_type": "code",
   "execution_count": 112,
   "metadata": {},
   "outputs": [
    {
     "name": "stdout",
     "output_type": "stream",
     "text": [
      "Loss value:1.486865526222321\n",
      "Test Results Epoch 0 :\n",
      "                            precision    recall  f1-score   support\n",
      "\n",
      "           Company's image       0.67      0.59      0.63        59\n",
      "          Customer service       0.40      0.81      0.54        58\n",
      "        Operational issues       0.75      0.04      0.08        69\n",
      "Product feature or quality       0.46      0.85      0.60        55\n",
      "Service quality or failure       0.64      0.27      0.38        59\n",
      "\n",
      "                  accuracy                           0.49       300\n",
      "                 macro avg       0.59      0.51      0.45       300\n",
      "              weighted avg       0.59      0.49      0.43       300\n",
      "\n",
      "------------------------------------------------------------------------------------------\n",
      "Loss value:0.9680180377270802\n",
      "Test Results Epoch 1 :\n",
      "                            precision    recall  f1-score   support\n",
      "\n",
      "           Company's image       0.68      0.71      0.69        59\n",
      "          Customer service       0.54      0.79      0.64        58\n",
      "        Operational issues       0.78      0.20      0.32        69\n",
      "Product feature or quality       0.58      0.82      0.68        55\n",
      "Service quality or failure       0.66      0.64      0.65        59\n",
      "\n",
      "                  accuracy                           0.62       300\n",
      "                 macro avg       0.65      0.63      0.60       300\n",
      "              weighted avg       0.65      0.62      0.59       300\n",
      "\n",
      "------------------------------------------------------------------------------------------\n",
      "Loss value:0.6467487849743969\n",
      "Test Results Epoch 2 :\n",
      "                            precision    recall  f1-score   support\n",
      "\n",
      "           Company's image       0.71      0.75      0.73        59\n",
      "          Customer service       0.64      0.78      0.70        58\n",
      "        Operational issues       0.76      0.42      0.54        69\n",
      "Product feature or quality       0.71      0.84      0.77        55\n",
      "Service quality or failure       0.63      0.69      0.66        59\n",
      "\n",
      "                  accuracy                           0.68       300\n",
      "                 macro avg       0.69      0.69      0.68       300\n",
      "              weighted avg       0.69      0.68      0.67       300\n",
      "\n",
      "------------------------------------------------------------------------------------------\n",
      "Loss value:0.4238430108112025\n",
      "Test Results Epoch 3 :\n",
      "                            precision    recall  f1-score   support\n",
      "\n",
      "           Company's image       0.85      0.68      0.75        59\n",
      "          Customer service       0.63      0.78      0.70        58\n",
      "        Operational issues       0.74      0.49      0.59        69\n",
      "Product feature or quality       0.77      0.87      0.82        55\n",
      "Service quality or failure       0.64      0.80      0.71        59\n",
      "\n",
      "                  accuracy                           0.71       300\n",
      "                 macro avg       0.73      0.72      0.71       300\n",
      "              weighted avg       0.73      0.71      0.71       300\n",
      "\n",
      "------------------------------------------------------------------------------------------\n",
      "Loss value:0.2827355131865984\n",
      "Test Results Epoch 4 :\n",
      "                            precision    recall  f1-score   support\n",
      "\n",
      "           Company's image       0.87      0.66      0.75        59\n",
      "          Customer service       0.65      0.76      0.70        58\n",
      "        Operational issues       0.81      0.49      0.61        69\n",
      "Product feature or quality       0.75      0.87      0.81        55\n",
      "Service quality or failure       0.63      0.86      0.73        59\n",
      "\n",
      "                  accuracy                           0.72       300\n",
      "                 macro avg       0.74      0.73      0.72       300\n",
      "              weighted avg       0.74      0.72      0.71       300\n",
      "\n",
      "------------------------------------------------------------------------------------------\n",
      "Loss value:0.18667954444346657\n",
      "Test Results Epoch 5 :\n",
      "                            precision    recall  f1-score   support\n",
      "\n",
      "           Company's image       0.80      0.75      0.77        59\n",
      "          Customer service       0.70      0.74      0.72        58\n",
      "        Operational issues       0.84      0.46      0.60        69\n",
      "Product feature or quality       0.75      0.84      0.79        55\n",
      "Service quality or failure       0.61      0.88      0.72        59\n",
      "\n",
      "                  accuracy                           0.72       300\n",
      "                 macro avg       0.74      0.73      0.72       300\n",
      "              weighted avg       0.75      0.72      0.72       300\n",
      "\n",
      "------------------------------------------------------------------------------------------\n",
      "Loss value:0.12449380860899587\n",
      "Test Results Epoch 6 :\n",
      "                            precision    recall  f1-score   support\n",
      "\n",
      "           Company's image       0.80      0.86      0.83        59\n",
      "          Customer service       0.71      0.78      0.74        58\n",
      "        Operational issues       0.86      0.54      0.66        69\n",
      "Product feature or quality       0.82      0.85      0.84        55\n",
      "Service quality or failure       0.68      0.85      0.76        59\n",
      "\n",
      "                  accuracy                           0.77       300\n",
      "                 macro avg       0.78      0.78      0.77       300\n",
      "              weighted avg       0.78      0.77      0.76       300\n",
      "\n",
      "------------------------------------------------------------------------------------------\n",
      "Loss value:0.07828225027096558\n",
      "Test Results Epoch 7 :\n",
      "                            precision    recall  f1-score   support\n",
      "\n",
      "           Company's image       0.71      0.90      0.79        59\n",
      "          Customer service       0.74      0.78      0.76        58\n",
      "        Operational issues       0.86      0.61      0.71        69\n",
      "Product feature or quality       0.79      0.84      0.81        55\n",
      "Service quality or failure       0.79      0.76      0.78        59\n",
      "\n",
      "                  accuracy                           0.77       300\n",
      "                 macro avg       0.78      0.78      0.77       300\n",
      "              weighted avg       0.78      0.77      0.77       300\n",
      "\n",
      "------------------------------------------------------------------------------------------\n",
      "Loss value:0.0572230518425265\n",
      "Test Results Epoch 8 :\n",
      "                            precision    recall  f1-score   support\n",
      "\n",
      "           Company's image       0.71      0.85      0.78        59\n",
      "          Customer service       0.80      0.74      0.77        58\n",
      "        Operational issues       0.76      0.65      0.70        69\n",
      "Product feature or quality       0.80      0.87      0.83        55\n",
      "Service quality or failure       0.77      0.75      0.76        59\n",
      "\n",
      "                  accuracy                           0.77       300\n",
      "                 macro avg       0.77      0.77      0.77       300\n",
      "              weighted avg       0.77      0.77      0.76       300\n",
      "\n",
      "------------------------------------------------------------------------------------------\n",
      "Loss value:0.03950461426592735\n",
      "Test Results Epoch 9 :\n",
      "                            precision    recall  f1-score   support\n",
      "\n",
      "           Company's image       0.74      0.86      0.80        59\n",
      "          Customer service       0.80      0.76      0.78        58\n",
      "        Operational issues       0.74      0.65      0.69        69\n",
      "Product feature or quality       0.82      0.84      0.83        55\n",
      "Service quality or failure       0.76      0.76      0.76        59\n",
      "\n",
      "                  accuracy                           0.77       300\n",
      "                 macro avg       0.77      0.77      0.77       300\n",
      "              weighted avg       0.77      0.77      0.77       300\n",
      "\n",
      "------------------------------------------------------------------------------------------\n",
      "Best Model Performance :\n",
      "Weighted F1-Score:0.7684619431591224\n",
      "Company's image F1-Score:0.796875\n",
      "Customer service F1-Score:0.7787610619469026\n",
      "Operational issues F1-Score:0.6923076923076924\n",
      "Product feature or quality F1-Score:0.8288288288288289\n",
      "Service quality or failure F1-Score:0.7627118644067796\n"
     ]
    }
   ],
   "source": [
    "training_loop(class_model,train_dataset,train_labels,test_dataset,test_labels,batch_size=8,epochs=10,learning_rate=1e-3,dummies_names=dummies_names.to_list())"
   ]
  },
  {
   "cell_type": "markdown",
   "metadata": {},
   "source": [
    "# Substitute Synoymn Trial"
   ]
  },
  {
   "cell_type": "code",
   "execution_count": 113,
   "metadata": {},
   "outputs": [],
   "source": [
    "aug_dataset = augment_text_substitute(processed_dataset,'wordnet')"
   ]
  },
  {
   "cell_type": "code",
   "execution_count": 114,
   "metadata": {
    "id": "PKObEY0UeyBx"
   },
   "outputs": [],
   "source": [
    "new_dataset = processed_dataset + aug_dataset"
   ]
  },
  {
   "cell_type": "code",
   "execution_count": 115,
   "metadata": {},
   "outputs": [
    {
     "data": {
      "text/plain": [
       "970"
      ]
     },
     "execution_count": 115,
     "metadata": {},
     "output_type": "execute_result"
    }
   ],
   "source": [
    "len(new_dataset)"
   ]
  },
  {
   "cell_type": "markdown",
   "metadata": {},
   "source": [
    "### New Vocabulary Size after Synonyms Addition"
   ]
  },
  {
   "cell_type": "code",
   "execution_count": 116,
   "metadata": {},
   "outputs": [
    {
     "data": {
      "text/plain": [
       "4240"
      ]
     },
     "execution_count": 116,
     "metadata": {},
     "output_type": "execute_result"
    }
   ],
   "source": [
    "vocab = {}\n",
    "for sent in new_dataset:\n",
    "    tokens = sent.split(' ')\n",
    "    for token in tokens:\n",
    "        if token in vocab.keys():\n",
    "            vocab[token] += 1\n",
    "        else:\n",
    "            vocab[token] = 1\n",
    "len(vocab)"
   ]
  },
  {
   "cell_type": "code",
   "execution_count": 117,
   "metadata": {},
   "outputs": [],
   "source": [
    "aug_labels = processed_labels"
   ]
  },
  {
   "cell_type": "code",
   "execution_count": 118,
   "metadata": {
    "id": "pQwT3UYUe6vo"
   },
   "outputs": [],
   "source": [
    "new_labels = torch.cat((processed_labels,aug_labels),dim=0)"
   ]
  },
  {
   "cell_type": "code",
   "execution_count": 120,
   "metadata": {
    "id": "vbvTnscfxO7I"
   },
   "outputs": [],
   "source": [
    "roberta_processed_text = transformer_model_dataset_preparation(new_dataset,roberta_model,roberta_tokenizer,max_length=60)"
   ]
  },
  {
   "cell_type": "code",
   "execution_count": 124,
   "metadata": {},
   "outputs": [
    {
     "data": {
      "text/plain": [
       "Classification_Model(\n",
       "  (ff): Linear(in_features=768, out_features=16, bias=True)\n",
       "  (out): Linear(in_features=960, out_features=5, bias=True)\n",
       "  (selu): SELU()\n",
       "  (soft): Softmax(dim=-1)\n",
       ")"
      ]
     },
     "execution_count": 124,
     "metadata": {},
     "output_type": "execute_result"
    }
   ],
   "source": [
    "class_model = Classification_Model(sequence_length = 60,hidden_size=16)\n",
    "class_model.to('cuda')"
   ]
  },
  {
   "cell_type": "code",
   "execution_count": 125,
   "metadata": {},
   "outputs": [],
   "source": [
    "train_dataset,train_labels,test_dataset,test_labels = train_test_split(roberta_processed_text,new_labels,test_size=300)"
   ]
  },
  {
   "cell_type": "code",
   "execution_count": 126,
   "metadata": {},
   "outputs": [
    {
     "name": "stdout",
     "output_type": "stream",
     "text": [
      "Loss value:1.5106921253434147\n",
      "Test Results Epoch 0 :\n",
      "                            precision    recall  f1-score   support\n",
      "\n",
      "           Company's image       0.71      0.64      0.67        64\n",
      "          Customer service       0.40      0.80      0.54        55\n",
      "        Operational issues       0.43      0.10      0.16        61\n",
      "Product feature or quality       0.67      0.45      0.54        58\n",
      "Service quality or failure       0.33      0.42      0.37        62\n",
      "\n",
      "                  accuracy                           0.48       300\n",
      "                 macro avg       0.51      0.48      0.45       300\n",
      "              weighted avg       0.51      0.48      0.45       300\n",
      "\n",
      "------------------------------------------------------------------------------------------\n",
      "Loss value:0.9819542937968151\n",
      "Test Results Epoch 1 :\n",
      "                            precision    recall  f1-score   support\n",
      "\n",
      "           Company's image       0.77      0.69      0.73        64\n",
      "          Customer service       0.54      0.76      0.63        55\n",
      "        Operational issues       0.65      0.39      0.49        61\n",
      "Product feature or quality       0.76      0.60      0.67        58\n",
      "Service quality or failure       0.45      0.60      0.51        62\n",
      "\n",
      "                  accuracy                           0.61       300\n",
      "                 macro avg       0.63      0.61      0.61       300\n",
      "              weighted avg       0.64      0.61      0.61       300\n",
      "\n",
      "------------------------------------------------------------------------------------------\n",
      "Loss value:0.6182312520153551\n",
      "Test Results Epoch 2 :\n",
      "                            precision    recall  f1-score   support\n",
      "\n",
      "           Company's image       0.75      0.70      0.73        64\n",
      "          Customer service       0.56      0.82      0.67        55\n",
      "        Operational issues       0.69      0.44      0.54        61\n",
      "Product feature or quality       0.88      0.60      0.71        58\n",
      "Service quality or failure       0.52      0.68      0.59        62\n",
      "\n",
      "                  accuracy                           0.65       300\n",
      "                 macro avg       0.68      0.65      0.65       300\n",
      "              weighted avg       0.68      0.65      0.65       300\n",
      "\n",
      "------------------------------------------------------------------------------------------\n",
      "Loss value:0.38205653159733277\n",
      "Test Results Epoch 3 :\n",
      "                            precision    recall  f1-score   support\n",
      "\n",
      "           Company's image       0.74      0.77      0.75        64\n",
      "          Customer service       0.56      0.82      0.66        55\n",
      "        Operational issues       0.70      0.49      0.58        61\n",
      "Product feature or quality       0.88      0.62      0.73        58\n",
      "Service quality or failure       0.58      0.65      0.61        62\n",
      "\n",
      "                  accuracy                           0.67       300\n",
      "                 macro avg       0.69      0.67      0.67       300\n",
      "              weighted avg       0.69      0.67      0.67       300\n",
      "\n",
      "------------------------------------------------------------------------------------------\n",
      "Loss value:0.23604344944637942\n",
      "Test Results Epoch 4 :\n",
      "                            precision    recall  f1-score   support\n",
      "\n",
      "           Company's image       0.65      0.86      0.74        64\n",
      "          Customer service       0.55      0.82      0.66        55\n",
      "        Operational issues       0.72      0.46      0.56        61\n",
      "Product feature or quality       0.90      0.66      0.76        58\n",
      "Service quality or failure       0.73      0.61      0.67        62\n",
      "\n",
      "                  accuracy                           0.68       300\n",
      "                 macro avg       0.71      0.68      0.68       300\n",
      "              weighted avg       0.71      0.68      0.68       300\n",
      "\n",
      "------------------------------------------------------------------------------------------\n",
      "Loss value:0.1551593217819211\n",
      "Test Results Epoch 5 :\n",
      "                            precision    recall  f1-score   support\n",
      "\n",
      "           Company's image       0.62      0.88      0.72        64\n",
      "          Customer service       0.54      0.80      0.65        55\n",
      "        Operational issues       0.74      0.43      0.54        61\n",
      "Product feature or quality       0.91      0.67      0.77        58\n",
      "Service quality or failure       0.74      0.60      0.66        62\n",
      "\n",
      "                  accuracy                           0.67       300\n",
      "                 macro avg       0.71      0.67      0.67       300\n",
      "              weighted avg       0.71      0.67      0.67       300\n",
      "\n",
      "------------------------------------------------------------------------------------------\n",
      "Loss value:0.102118498275438\n",
      "Test Results Epoch 6 :\n",
      "                            precision    recall  f1-score   support\n",
      "\n",
      "           Company's image       0.76      0.81      0.79        64\n",
      "          Customer service       0.66      0.67      0.67        55\n",
      "        Operational issues       0.69      0.59      0.64        61\n",
      "Product feature or quality       0.85      0.81      0.83        58\n",
      "Service quality or failure       0.62      0.69      0.66        62\n",
      "\n",
      "                  accuracy                           0.72       300\n",
      "                 macro avg       0.72      0.72      0.72       300\n",
      "              weighted avg       0.72      0.72      0.72       300\n",
      "\n",
      "------------------------------------------------------------------------------------------\n",
      "Loss value:0.06270829387323325\n",
      "Test Results Epoch 7 :\n",
      "                            precision    recall  f1-score   support\n",
      "\n",
      "           Company's image       0.71      0.81      0.76        64\n",
      "          Customer service       0.71      0.58      0.64        55\n",
      "        Operational issues       0.67      0.62      0.64        61\n",
      "Product feature or quality       0.79      0.90      0.84        58\n",
      "Service quality or failure       0.69      0.66      0.68        62\n",
      "\n",
      "                  accuracy                           0.72       300\n",
      "                 macro avg       0.71      0.72      0.71       300\n",
      "              weighted avg       0.71      0.72      0.71       300\n",
      "\n",
      "------------------------------------------------------------------------------------------\n",
      "Loss value:0.03805700054459543\n",
      "Test Results Epoch 8 :\n",
      "                            precision    recall  f1-score   support\n",
      "\n",
      "           Company's image       0.77      0.80      0.78        64\n",
      "          Customer service       0.69      0.69      0.69        55\n",
      "        Operational issues       0.67      0.66      0.66        61\n",
      "Product feature or quality       0.77      0.93      0.84        58\n",
      "Service quality or failure       0.78      0.61      0.68        62\n",
      "\n",
      "                  accuracy                           0.74       300\n",
      "                 macro avg       0.74      0.74      0.73       300\n",
      "              weighted avg       0.74      0.74      0.73       300\n",
      "\n",
      "------------------------------------------------------------------------------------------\n",
      "Loss value:0.02652080964117524\n",
      "Test Results Epoch 9 :\n",
      "                            precision    recall  f1-score   support\n",
      "\n",
      "           Company's image       0.84      0.75      0.79        64\n",
      "          Customer service       0.70      0.73      0.71        55\n",
      "        Operational issues       0.63      0.74      0.68        61\n",
      "Product feature or quality       0.80      0.90      0.85        58\n",
      "Service quality or failure       0.72      0.58      0.64        62\n",
      "\n",
      "                  accuracy                           0.74       300\n",
      "                 macro avg       0.74      0.74      0.74       300\n",
      "              weighted avg       0.74      0.74      0.74       300\n",
      "\n",
      "------------------------------------------------------------------------------------------\n",
      "Best Model Performance :\n",
      "Weighted F1-Score:0.7351709204813417\n",
      "Company's image F1-Score:0.7933884297520661\n",
      "Customer service F1-Score:0.7142857142857142\n",
      "Operational issues F1-Score:0.6818181818181818\n",
      "Product feature or quality F1-Score:0.8455284552845529\n",
      "Service quality or failure F1-Score:0.6428571428571428\n"
     ]
    }
   ],
   "source": [
    "training_loop(class_model,train_dataset,train_labels,test_dataset,test_labels,batch_size=8,epochs=10,learning_rate=1e-3,dummies_names=dummies_names.to_list())"
   ]
  },
  {
   "cell_type": "markdown",
   "metadata": {},
   "source": [
    "# RoBERTa Contextual Embed. Trial"
   ]
  },
  {
   "cell_type": "code",
   "execution_count": 127,
   "metadata": {},
   "outputs": [],
   "source": [
    "aug_dataset = augment_text_substitute(processed_dataset,'contextual_emb')"
   ]
  },
  {
   "cell_type": "code",
   "execution_count": 128,
   "metadata": {
    "id": "PKObEY0UeyBx"
   },
   "outputs": [],
   "source": [
    "new_dataset = processed_dataset + aug_dataset"
   ]
  },
  {
   "cell_type": "code",
   "execution_count": 129,
   "metadata": {},
   "outputs": [
    {
     "data": {
      "text/plain": [
       "4497"
      ]
     },
     "execution_count": 129,
     "metadata": {},
     "output_type": "execute_result"
    }
   ],
   "source": [
    "vocab = {}\n",
    "for sent in new_dataset:\n",
    "    tokens = sent.split(' ')\n",
    "    for token in tokens:\n",
    "        if token in vocab.keys():\n",
    "            vocab[token] += 1\n",
    "        else:\n",
    "            vocab[token] = 1\n",
    "len(vocab)"
   ]
  },
  {
   "cell_type": "code",
   "execution_count": 130,
   "metadata": {},
   "outputs": [],
   "source": [
    "aug_labels = processed_labels"
   ]
  },
  {
   "cell_type": "code",
   "execution_count": 131,
   "metadata": {
    "id": "pQwT3UYUe6vo"
   },
   "outputs": [],
   "source": [
    "new_labels = torch.cat((processed_labels,aug_labels),dim=0)"
   ]
  },
  {
   "cell_type": "code",
   "execution_count": 132,
   "metadata": {},
   "outputs": [],
   "source": [
    "dataset = pd.DataFrame(new_labels.numpy(),columns=dummies_names)\n",
    "dataset['text'] = new_dataset\n",
    "dataset.to_csv('Data_augment_cont_emb.csv')"
   ]
  },
  {
   "cell_type": "code",
   "execution_count": 133,
   "metadata": {
    "id": "vbvTnscfxO7I"
   },
   "outputs": [],
   "source": [
    "roberta_processed_text = transformer_model_dataset_preparation(new_dataset,roberta_model,roberta_tokenizer,max_length=60)"
   ]
  },
  {
   "cell_type": "code",
   "execution_count": 140,
   "metadata": {},
   "outputs": [
    {
     "data": {
      "text/plain": [
       "Classification_Model(\n",
       "  (ff): Linear(in_features=768, out_features=16, bias=True)\n",
       "  (out): Linear(in_features=960, out_features=5, bias=True)\n",
       "  (selu): SELU()\n",
       "  (soft): Softmax(dim=-1)\n",
       ")"
      ]
     },
     "execution_count": 140,
     "metadata": {},
     "output_type": "execute_result"
    }
   ],
   "source": [
    "class_model = Classification_Model(sequence_length = 60,hidden_size=16)\n",
    "class_model.to('cuda')"
   ]
  },
  {
   "cell_type": "code",
   "execution_count": 141,
   "metadata": {},
   "outputs": [],
   "source": [
    "train_dataset,train_labels,test_dataset,test_labels = train_test_split(roberta_processed_text,new_labels,test_size=300)"
   ]
  },
  {
   "cell_type": "code",
   "execution_count": 142,
   "metadata": {},
   "outputs": [
    {
     "name": "stdout",
     "output_type": "stream",
     "text": [
      "Loss value:1.4674058075410774\n",
      "Test Results Epoch 0 :\n",
      "                            precision    recall  f1-score   support\n",
      "\n",
      "           Company's image       0.78      0.43      0.56        74\n",
      "          Customer service       1.00      0.02      0.04        48\n",
      "        Operational issues       0.50      0.08      0.14        60\n",
      "Product feature or quality       0.33      0.94      0.49        65\n",
      "Service quality or failure       0.47      0.57      0.51        53\n",
      "\n",
      "                  accuracy                           0.43       300\n",
      "                 macro avg       0.62      0.41      0.35       300\n",
      "              weighted avg       0.61      0.43      0.37       300\n",
      "\n",
      "------------------------------------------------------------------------------------------\n",
      "Loss value:0.9587121268352831\n",
      "Test Results Epoch 1 :\n",
      "                            precision    recall  f1-score   support\n",
      "\n",
      "           Company's image       0.72      0.62      0.67        74\n",
      "          Customer service       0.71      0.52      0.60        48\n",
      "        Operational issues       0.50      0.18      0.27        60\n",
      "Product feature or quality       0.43      0.88      0.58        65\n",
      "Service quality or failure       0.66      0.58      0.62        53\n",
      "\n",
      "                  accuracy                           0.57       300\n",
      "                 macro avg       0.60      0.56      0.55       300\n",
      "              weighted avg       0.60      0.57      0.55       300\n",
      "\n",
      "------------------------------------------------------------------------------------------\n",
      "Loss value:0.64037019229797\n",
      "Test Results Epoch 2 :\n",
      "                            precision    recall  f1-score   support\n",
      "\n",
      "           Company's image       0.68      0.66      0.67        74\n",
      "          Customer service       0.62      0.65      0.63        48\n",
      "        Operational issues       0.65      0.28      0.40        60\n",
      "Product feature or quality       0.50      0.85      0.63        65\n",
      "Service quality or failure       0.69      0.55      0.61        53\n",
      "\n",
      "                  accuracy                           0.60       300\n",
      "                 macro avg       0.63      0.60      0.59       300\n",
      "              weighted avg       0.63      0.60      0.59       300\n",
      "\n",
      "------------------------------------------------------------------------------------------\n",
      "Loss value:0.4223355894167739\n",
      "Test Results Epoch 3 :\n",
      "                            precision    recall  f1-score   support\n",
      "\n",
      "           Company's image       0.69      0.65      0.67        74\n",
      "          Customer service       0.56      0.67      0.61        48\n",
      "        Operational issues       0.75      0.25      0.38        60\n",
      "Product feature or quality       0.48      0.85      0.61        65\n",
      "Service quality or failure       0.68      0.49      0.57        53\n",
      "\n",
      "                  accuracy                           0.59       300\n",
      "                 macro avg       0.63      0.58      0.57       300\n",
      "              weighted avg       0.63      0.59      0.57       300\n",
      "\n",
      "------------------------------------------------------------------------------------------\n",
      "Loss value:0.2884180353258748\n",
      "Test Results Epoch 4 :\n",
      "                            precision    recall  f1-score   support\n",
      "\n",
      "           Company's image       0.71      0.78      0.74        74\n",
      "          Customer service       0.69      0.69      0.69        48\n",
      "        Operational issues       0.76      0.52      0.61        60\n",
      "Product feature or quality       0.65      0.78      0.71        65\n",
      "Service quality or failure       0.61      0.58      0.60        53\n",
      "\n",
      "                  accuracy                           0.68       300\n",
      "                 macro avg       0.68      0.67      0.67       300\n",
      "              weighted avg       0.68      0.68      0.68       300\n",
      "\n",
      "------------------------------------------------------------------------------------------\n",
      "Loss value:0.1845022585826466\n",
      "Test Results Epoch 5 :\n",
      "                            precision    recall  f1-score   support\n",
      "\n",
      "           Company's image       0.70      0.81      0.75        74\n",
      "          Customer service       0.69      0.69      0.69        48\n",
      "        Operational issues       0.67      0.60      0.63        60\n",
      "Product feature or quality       0.74      0.66      0.70        65\n",
      "Service quality or failure       0.56      0.57      0.56        53\n",
      "\n",
      "                  accuracy                           0.67       300\n",
      "                 macro avg       0.67      0.67      0.67       300\n",
      "              weighted avg       0.67      0.67      0.67       300\n",
      "\n",
      "------------------------------------------------------------------------------------------\n",
      "Loss value:0.10584671988365162\n",
      "Test Results Epoch 6 :\n",
      "                            precision    recall  f1-score   support\n",
      "\n",
      "           Company's image       0.74      0.77      0.75        74\n",
      "          Customer service       0.70      0.69      0.69        48\n",
      "        Operational issues       0.58      0.63      0.61        60\n",
      "Product feature or quality       0.71      0.68      0.69        65\n",
      "Service quality or failure       0.55      0.51      0.53        53\n",
      "\n",
      "                  accuracy                           0.66       300\n",
      "                 macro avg       0.66      0.66      0.66       300\n",
      "              weighted avg       0.66      0.66      0.66       300\n",
      "\n",
      "------------------------------------------------------------------------------------------\n",
      "Loss value:0.07195680422416653\n",
      "Test Results Epoch 7 :\n",
      "                            precision    recall  f1-score   support\n",
      "\n",
      "           Company's image       0.77      0.69      0.73        74\n",
      "          Customer service       0.69      0.69      0.69        48\n",
      "        Operational issues       0.51      0.63      0.57        60\n",
      "Product feature or quality       0.72      0.66      0.69        65\n",
      "Service quality or failure       0.50      0.49      0.50        53\n",
      "\n",
      "                  accuracy                           0.64       300\n",
      "                 macro avg       0.64      0.63      0.63       300\n",
      "              weighted avg       0.65      0.64      0.64       300\n",
      "\n",
      "------------------------------------------------------------------------------------------\n",
      "Loss value:0.05582788977098752\n",
      "Test Results Epoch 8 :\n",
      "                            precision    recall  f1-score   support\n",
      "\n",
      "           Company's image       0.79      0.65      0.71        74\n",
      "          Customer service       0.67      0.69      0.68        48\n",
      "        Operational issues       0.58      0.63      0.60        60\n",
      "Product feature or quality       0.78      0.65      0.71        65\n",
      "Service quality or failure       0.47      0.62      0.54        53\n",
      "\n",
      "                  accuracy                           0.65       300\n",
      "                 macro avg       0.66      0.65      0.65       300\n",
      "              weighted avg       0.67      0.65      0.65       300\n",
      "\n",
      "------------------------------------------------------------------------------------------\n",
      "Loss value:0.04317258105400097\n",
      "Test Results Epoch 9 :\n",
      "                            precision    recall  f1-score   support\n",
      "\n",
      "           Company's image       0.80      0.70      0.75        74\n",
      "          Customer service       0.69      0.69      0.69        48\n",
      "        Operational issues       0.76      0.43      0.55        60\n",
      "Product feature or quality       0.85      0.62      0.71        65\n",
      "Service quality or failure       0.41      0.81      0.54        53\n",
      "\n",
      "                  accuracy                           0.65       300\n",
      "                 macro avg       0.70      0.65      0.65       300\n",
      "              weighted avg       0.72      0.65      0.66       300\n",
      "\n",
      "------------------------------------------------------------------------------------------\n",
      "Best Model Performance :\n",
      "Weighted F1-Score:0.6760570480124936\n",
      "Company's image F1-Score:0.7435897435897435\n",
      "Customer service F1-Score:0.6875\n",
      "Operational issues F1-Score:0.6138613861386139\n",
      "Product feature or quality F1-Score:0.7132867132867133\n",
      "Service quality or failure F1-Score:0.5961538461538461\n"
     ]
    }
   ],
   "source": [
    "training_loop(class_model,train_dataset,train_labels,test_dataset,test_labels,batch_size=8,epochs=10,learning_rate=1e-3,dummies_names=dummies_names.to_list())"
   ]
  },
  {
   "cell_type": "markdown",
   "metadata": {},
   "source": [
    "# RoBERTa Word Embed. Trial"
   ]
  },
  {
   "cell_type": "code",
   "execution_count": 143,
   "metadata": {},
   "outputs": [],
   "source": [
    "aug_dataset = augment_text_substitute(processed_dataset,'word_emb')"
   ]
  },
  {
   "cell_type": "code",
   "execution_count": 144,
   "metadata": {
    "id": "PKObEY0UeyBx"
   },
   "outputs": [],
   "source": [
    "new_dataset = processed_dataset + aug_dataset"
   ]
  },
  {
   "cell_type": "code",
   "execution_count": 145,
   "metadata": {},
   "outputs": [
    {
     "data": {
      "text/plain": [
       "6569"
      ]
     },
     "execution_count": 145,
     "metadata": {},
     "output_type": "execute_result"
    }
   ],
   "source": [
    "vocab = {}\n",
    "for sent in new_dataset:\n",
    "    tokens = sent.split(' ')\n",
    "    for token in tokens:\n",
    "        if token in vocab.keys():\n",
    "            vocab[token] += 1\n",
    "        else:\n",
    "            vocab[token] = 1\n",
    "len(vocab)"
   ]
  },
  {
   "cell_type": "code",
   "execution_count": 146,
   "metadata": {},
   "outputs": [],
   "source": [
    "aug_labels = processed_labels"
   ]
  },
  {
   "cell_type": "code",
   "execution_count": 147,
   "metadata": {
    "id": "pQwT3UYUe6vo"
   },
   "outputs": [],
   "source": [
    "new_labels = torch.cat((processed_labels,aug_labels),dim=0)"
   ]
  },
  {
   "cell_type": "code",
   "execution_count": 148,
   "metadata": {},
   "outputs": [],
   "source": [
    "dataset = pd.DataFrame(new_labels.numpy(),columns=dummies_names)\n",
    "dataset['text'] = new_dataset\n",
    "dataset.to_csv('Data_augment_word_emb.csv')"
   ]
  },
  {
   "cell_type": "code",
   "execution_count": 149,
   "metadata": {
    "id": "vbvTnscfxO7I"
   },
   "outputs": [],
   "source": [
    "roberta_processed_text = transformer_model_dataset_preparation(new_dataset,roberta_model,roberta_tokenizer,max_length=60)"
   ]
  },
  {
   "cell_type": "code",
   "execution_count": 150,
   "metadata": {},
   "outputs": [
    {
     "data": {
      "text/plain": [
       "Classification_Model(\n",
       "  (ff): Linear(in_features=768, out_features=16, bias=True)\n",
       "  (out): Linear(in_features=960, out_features=5, bias=True)\n",
       "  (selu): SELU()\n",
       "  (soft): Softmax(dim=-1)\n",
       ")"
      ]
     },
     "execution_count": 150,
     "metadata": {},
     "output_type": "execute_result"
    }
   ],
   "source": [
    "class_model = Classification_Model(sequence_length = 60,hidden_size=16)\n",
    "class_model.to('cuda')"
   ]
  },
  {
   "cell_type": "code",
   "execution_count": 151,
   "metadata": {},
   "outputs": [],
   "source": [
    "train_dataset,train_labels,test_dataset,test_labels = train_test_split(roberta_processed_text,new_labels,test_size=300)"
   ]
  },
  {
   "cell_type": "code",
   "execution_count": 152,
   "metadata": {},
   "outputs": [
    {
     "name": "stdout",
     "output_type": "stream",
     "text": [
      "Loss value:1.5697329992271332\n",
      "Test Results Epoch 0 :\n",
      "                            precision    recall  f1-score   support\n",
      "\n",
      "           Company's image       0.37      0.91      0.53        58\n",
      "          Customer service       0.60      0.19      0.29        48\n",
      "        Operational issues       0.00      0.00      0.00        59\n",
      "Product feature or quality       0.77      0.65      0.70        71\n",
      "Service quality or failure       0.52      0.67      0.59        64\n",
      "\n",
      "                  accuracy                           0.50       300\n",
      "                 macro avg       0.45      0.48      0.42       300\n",
      "              weighted avg       0.46      0.50      0.44       300\n",
      "\n",
      "------------------------------------------------------------------------------------------\n"
     ]
    },
    {
     "name": "stderr",
     "output_type": "stream",
     "text": [
      "C:\\Users\\ahmed\\anaconda3\\lib\\site-packages\\sklearn\\metrics\\_classification.py:1221: UndefinedMetricWarning: Precision and F-score are ill-defined and being set to 0.0 in labels with no predicted samples. Use `zero_division` parameter to control this behavior.\n",
      "  _warn_prf(average, modifier, msg_start, len(result))\n"
     ]
    },
    {
     "name": "stdout",
     "output_type": "stream",
     "text": [
      "Loss value:1.0661220134022724\n",
      "Test Results Epoch 1 :\n",
      "                            precision    recall  f1-score   support\n",
      "\n",
      "           Company's image       0.64      0.76      0.69        58\n",
      "          Customer service       0.53      0.73      0.61        48\n",
      "        Operational issues       0.33      0.05      0.09        59\n",
      "Product feature or quality       0.68      0.73      0.71        71\n",
      "Service quality or failure       0.56      0.70      0.62        64\n",
      "\n",
      "                  accuracy                           0.60       300\n",
      "                 macro avg       0.55      0.59      0.55       300\n",
      "              weighted avg       0.56      0.60      0.55       300\n",
      "\n",
      "------------------------------------------------------------------------------------------\n",
      "Loss value:0.7479023531258825\n",
      "Test Results Epoch 2 :\n",
      "                            precision    recall  f1-score   support\n",
      "\n",
      "           Company's image       0.53      0.78      0.63        58\n",
      "          Customer service       0.67      0.54      0.60        48\n",
      "        Operational issues       0.57      0.20      0.30        59\n",
      "Product feature or quality       0.62      0.73      0.67        71\n",
      "Service quality or failure       0.65      0.72      0.68        64\n",
      "\n",
      "                  accuracy                           0.60       300\n",
      "                 macro avg       0.61      0.59      0.58       300\n",
      "              weighted avg       0.61      0.60      0.58       300\n",
      "\n",
      "------------------------------------------------------------------------------------------\n",
      "Loss value:0.5333124910851559\n",
      "Test Results Epoch 3 :\n",
      "                            precision    recall  f1-score   support\n",
      "\n",
      "           Company's image       0.62      0.71      0.66        58\n",
      "          Customer service       0.76      0.46      0.57        48\n",
      "        Operational issues       0.36      0.22      0.27        59\n",
      "Product feature or quality       0.51      0.83      0.63        71\n",
      "Service quality or failure       0.72      0.61      0.66        64\n",
      "\n",
      "                  accuracy                           0.58       300\n",
      "                 macro avg       0.60      0.57      0.56       300\n",
      "              weighted avg       0.59      0.58      0.56       300\n",
      "\n",
      "------------------------------------------------------------------------------------------\n",
      "Loss value:0.3690746861947588\n",
      "Test Results Epoch 4 :\n",
      "                            precision    recall  f1-score   support\n",
      "\n",
      "           Company's image       0.89      0.53      0.67        58\n",
      "          Customer service       0.76      0.58      0.66        48\n",
      "        Operational issues       0.34      0.34      0.34        59\n",
      "Product feature or quality       0.53      0.89      0.66        71\n",
      "Service quality or failure       0.71      0.55      0.62        64\n",
      "\n",
      "                  accuracy                           0.59       300\n",
      "                 macro avg       0.64      0.58      0.59       300\n",
      "              weighted avg       0.64      0.59      0.59       300\n",
      "\n",
      "------------------------------------------------------------------------------------------\n",
      "Loss value:0.24160865056945616\n",
      "Test Results Epoch 5 :\n",
      "                            precision    recall  f1-score   support\n",
      "\n",
      "           Company's image       0.89      0.55      0.68        58\n",
      "          Customer service       0.67      0.67      0.67        48\n",
      "        Operational issues       0.38      0.44      0.41        59\n",
      "Product feature or quality       0.61      0.83      0.70        71\n",
      "Service quality or failure       0.69      0.55      0.61        64\n",
      "\n",
      "                  accuracy                           0.61       300\n",
      "                 macro avg       0.65      0.61      0.61       300\n",
      "              weighted avg       0.64      0.61      0.61       300\n",
      "\n",
      "------------------------------------------------------------------------------------------\n",
      "Loss value:0.15651290549571256\n",
      "Test Results Epoch 6 :\n",
      "                            precision    recall  f1-score   support\n",
      "\n",
      "           Company's image       0.82      0.64      0.72        58\n",
      "          Customer service       0.72      0.69      0.70        48\n",
      "        Operational issues       0.39      0.46      0.42        59\n",
      "Product feature or quality       0.75      0.73      0.74        71\n",
      "Service quality or failure       0.61      0.67      0.64        64\n",
      "\n",
      "                  accuracy                           0.64       300\n",
      "                 macro avg       0.66      0.64      0.64       300\n",
      "              weighted avg       0.66      0.64      0.65       300\n",
      "\n",
      "------------------------------------------------------------------------------------------\n",
      "Loss value:0.09880051025784159\n",
      "Test Results Epoch 7 :\n",
      "                            precision    recall  f1-score   support\n",
      "\n",
      "           Company's image       0.75      0.71      0.73        58\n",
      "          Customer service       0.74      0.67      0.70        48\n",
      "        Operational issues       0.41      0.41      0.41        59\n",
      "Product feature or quality       0.75      0.69      0.72        71\n",
      "Service quality or failure       0.58      0.72      0.64        64\n",
      "\n",
      "                  accuracy                           0.64       300\n",
      "                 macro avg       0.65      0.64      0.64       300\n",
      "              weighted avg       0.65      0.64      0.64       300\n",
      "\n",
      "------------------------------------------------------------------------------------------\n",
      "Loss value:0.06251158538353012\n",
      "Test Results Epoch 8 :\n",
      "                            precision    recall  f1-score   support\n",
      "\n",
      "           Company's image       0.71      0.72      0.72        58\n",
      "          Customer service       0.74      0.60      0.67        48\n",
      "        Operational issues       0.45      0.44      0.44        59\n",
      "Product feature or quality       0.76      0.68      0.72        71\n",
      "Service quality or failure       0.57      0.72      0.63        64\n",
      "\n",
      "                  accuracy                           0.64       300\n",
      "                 macro avg       0.65      0.63      0.64       300\n",
      "              weighted avg       0.65      0.64      0.64       300\n",
      "\n",
      "------------------------------------------------------------------------------------------\n",
      "Loss value:0.04353765704590513\n",
      "Test Results Epoch 9 :\n",
      "                            precision    recall  f1-score   support\n",
      "\n",
      "           Company's image       0.75      0.67      0.71        58\n",
      "          Customer service       0.75      0.62      0.68        48\n",
      "        Operational issues       0.47      0.46      0.46        59\n",
      "Product feature or quality       0.75      0.69      0.72        71\n",
      "Service quality or failure       0.55      0.73      0.63        64\n",
      "\n",
      "                  accuracy                           0.64       300\n",
      "                 macro avg       0.65      0.64      0.64       300\n",
      "              weighted avg       0.65      0.64      0.64       300\n",
      "\n",
      "------------------------------------------------------------------------------------------\n",
      "Best Model Performance :\n",
      "Weighted F1-Score:0.6459196102847444\n",
      "Company's image F1-Score:0.7184466019417477\n",
      "Customer service F1-Score:0.702127659574468\n",
      "Operational issues F1-Score:0.42187499999999994\n",
      "Product feature or quality F1-Score:0.7428571428571428\n",
      "Service quality or failure F1-Score:0.637037037037037\n"
     ]
    }
   ],
   "source": [
    "training_loop(class_model,train_dataset,train_labels,test_dataset,test_labels,batch_size=8,epochs=10,learning_rate=1e-3,dummies_names=dummies_names.to_list())"
   ]
  },
  {
   "cell_type": "markdown",
   "metadata": {},
   "source": [
    "# Overall Conclusion\n",
    "The Data Augmentation techniques tend to improve the overall performance by a large margin about from range 10-22% with the highest Weighted F1-Score of 77% (Data Augmentation Deletion). However, we believe that the best performing approach is the Synonym Subsitute as the Data Deletion create artificial fake data where the model see the same exact sentence twice but with missing words which means the sentence are exact. On the other hand , the Synonym Subsitute means different sentences with the same semantic meaning which makes much more sense in terms of the performance improvments of nearly 18%."
   ]
  },
  {
   "cell_type": "markdown",
   "metadata": {},
   "source": [
    "# Future Improvements\n",
    "These experiments can be modified in various ways. One of them is to use pretrained embeddings with Graph Neural Networks as they tend to achieve solid performance in text classification task. Moreover more pretrained models with larger capacity can be used but it will be much more computationally expensive. We can also fine-tune the Transformer models themselves rather than freezing their weights, however if the dataset is small it tend to make the model biased but it is a hypothesis can be future improvement."
   ]
  },
  {
   "cell_type": "code",
   "execution_count": null,
   "metadata": {},
   "outputs": [],
   "source": []
  }
 ],
 "metadata": {
  "accelerator": "GPU",
  "colab": {
   "collapsed_sections": [],
   "name": "ML-Experiments.ipynb",
   "provenance": []
  },
  "kernelspec": {
   "display_name": "Python 3",
   "language": "python",
   "name": "python3"
  },
  "language_info": {
   "codemirror_mode": {
    "name": "ipython",
    "version": 3
   },
   "file_extension": ".py",
   "mimetype": "text/x-python",
   "name": "python",
   "nbconvert_exporter": "python",
   "pygments_lexer": "ipython3",
   "version": "3.8.5"
  },
  "widgets": {
   "application/vnd.jupyter.widget-state+json": {
    "00c3556bccb34ef993e8aa965c2f20a1": {
     "model_module": "@jupyter-widgets/controls",
     "model_module_version": "1.5.0",
     "model_name": "DescriptionStyleModel",
     "state": {
      "_model_module": "@jupyter-widgets/controls",
      "_model_module_version": "1.5.0",
      "_model_name": "DescriptionStyleModel",
      "_view_count": null,
      "_view_module": "@jupyter-widgets/base",
      "_view_module_version": "1.2.0",
      "_view_name": "StyleView",
      "description_width": ""
     }
    },
    "0175446e45d8462eb16aa9a6a17e167f": {
     "model_module": "@jupyter-widgets/controls",
     "model_module_version": "1.5.0",
     "model_name": "FloatProgressModel",
     "state": {
      "_dom_classes": [],
      "_model_module": "@jupyter-widgets/controls",
      "_model_module_version": "1.5.0",
      "_model_name": "FloatProgressModel",
      "_view_count": null,
      "_view_module": "@jupyter-widgets/controls",
      "_view_module_version": "1.5.0",
      "_view_name": "ProgressView",
      "bar_style": "success",
      "description": "",
      "description_tooltip": null,
      "layout": "IPY_MODEL_f58d7fc4e5a246bc9c3eb0eb88182de0",
      "max": 1355863,
      "min": 0,
      "orientation": "horizontal",
      "style": "IPY_MODEL_b93d24ebbab44623841412c1e8e7a776",
      "value": 1355863
     }
    },
    "0a331514ed3b438a83ca376fb4c8a864": {
     "model_module": "@jupyter-widgets/controls",
     "model_module_version": "1.5.0",
     "model_name": "DescriptionStyleModel",
     "state": {
      "_model_module": "@jupyter-widgets/controls",
      "_model_module_version": "1.5.0",
      "_model_name": "DescriptionStyleModel",
      "_view_count": null,
      "_view_module": "@jupyter-widgets/base",
      "_view_module_version": "1.2.0",
      "_view_name": "StyleView",
      "description_width": ""
     }
    },
    "0af6d71274124046ae5dae752d76f7ae": {
     "model_module": "@jupyter-widgets/controls",
     "model_module_version": "1.5.0",
     "model_name": "HTMLModel",
     "state": {
      "_dom_classes": [],
      "_model_module": "@jupyter-widgets/controls",
      "_model_module_version": "1.5.0",
      "_model_name": "HTMLModel",
      "_view_count": null,
      "_view_module": "@jupyter-widgets/controls",
      "_view_module_version": "1.5.0",
      "_view_name": "HTMLView",
      "description": "",
      "description_tooltip": null,
      "layout": "IPY_MODEL_cc52eb72120f492ca24fcbbfbc06338f",
      "placeholder": "​",
      "style": "IPY_MODEL_cf84941c3b914b599f43a8d49561c6ea",
      "value": "Downloading: 100%"
     }
    },
    "0bcdd45106df46c08d8f37b0b48a2060": {
     "model_module": "@jupyter-widgets/controls",
     "model_module_version": "1.5.0",
     "model_name": "HTMLModel",
     "state": {
      "_dom_classes": [],
      "_model_module": "@jupyter-widgets/controls",
      "_model_module_version": "1.5.0",
      "_model_name": "HTMLModel",
      "_view_count": null,
      "_view_module": "@jupyter-widgets/controls",
      "_view_module_version": "1.5.0",
      "_view_name": "HTMLView",
      "description": "",
      "description_tooltip": null,
      "layout": "IPY_MODEL_c6496aeb50954571a06ed9f8a35221d7",
      "placeholder": "​",
      "style": "IPY_MODEL_1a8c5ef53ac04b3b8e4d6dc10533ee76",
      "value": " 1.36M/1.36M [00:00&lt;00:00, 3.49MB/s]"
     }
    },
    "0c36c37ce1ad4dbf8438c5169407295c": {
     "model_module": "@jupyter-widgets/controls",
     "model_module_version": "1.5.0",
     "model_name": "FloatProgressModel",
     "state": {
      "_dom_classes": [],
      "_model_module": "@jupyter-widgets/controls",
      "_model_module_version": "1.5.0",
      "_model_name": "FloatProgressModel",
      "_view_count": null,
      "_view_module": "@jupyter-widgets/controls",
      "_view_module_version": "1.5.0",
      "_view_name": "ProgressView",
      "bar_style": "success",
      "description": "",
      "description_tooltip": null,
      "layout": "IPY_MODEL_faaf50ca4d9d43ae800dffa103b07875",
      "max": 501200538,
      "min": 0,
      "orientation": "horizontal",
      "style": "IPY_MODEL_7ff8229a7ced4008b0fbdab448d84dbe",
      "value": 501200538
     }
    },
    "0c380fc689e141f8a3c59814d864b195": {
     "model_module": "@jupyter-widgets/base",
     "model_module_version": "1.2.0",
     "model_name": "LayoutModel",
     "state": {
      "_model_module": "@jupyter-widgets/base",
      "_model_module_version": "1.2.0",
      "_model_name": "LayoutModel",
      "_view_count": null,
      "_view_module": "@jupyter-widgets/base",
      "_view_module_version": "1.2.0",
      "_view_name": "LayoutView",
      "align_content": null,
      "align_items": null,
      "align_self": null,
      "border": null,
      "bottom": null,
      "display": null,
      "flex": null,
      "flex_flow": null,
      "grid_area": null,
      "grid_auto_columns": null,
      "grid_auto_flow": null,
      "grid_auto_rows": null,
      "grid_column": null,
      "grid_gap": null,
      "grid_row": null,
      "grid_template_areas": null,
      "grid_template_columns": null,
      "grid_template_rows": null,
      "height": null,
      "justify_content": null,
      "justify_items": null,
      "left": null,
      "margin": null,
      "max_height": null,
      "max_width": null,
      "min_height": null,
      "min_width": null,
      "object_fit": null,
      "object_position": null,
      "order": null,
      "overflow": null,
      "overflow_x": null,
      "overflow_y": null,
      "padding": null,
      "right": null,
      "top": null,
      "visibility": null,
      "width": null
     }
    },
    "0edf3d1e9dc04cbfacd94d40c808d9ed": {
     "model_module": "@jupyter-widgets/controls",
     "model_module_version": "1.5.0",
     "model_name": "DescriptionStyleModel",
     "state": {
      "_model_module": "@jupyter-widgets/controls",
      "_model_module_version": "1.5.0",
      "_model_name": "DescriptionStyleModel",
      "_view_count": null,
      "_view_module": "@jupyter-widgets/base",
      "_view_module_version": "1.2.0",
      "_view_name": "StyleView",
      "description_width": ""
     }
    },
    "0fde03dca587450eb530167935e8128c": {
     "model_module": "@jupyter-widgets/base",
     "model_module_version": "1.2.0",
     "model_name": "LayoutModel",
     "state": {
      "_model_module": "@jupyter-widgets/base",
      "_model_module_version": "1.2.0",
      "_model_name": "LayoutModel",
      "_view_count": null,
      "_view_module": "@jupyter-widgets/base",
      "_view_module_version": "1.2.0",
      "_view_name": "LayoutView",
      "align_content": null,
      "align_items": null,
      "align_self": null,
      "border": null,
      "bottom": null,
      "display": null,
      "flex": null,
      "flex_flow": null,
      "grid_area": null,
      "grid_auto_columns": null,
      "grid_auto_flow": null,
      "grid_auto_rows": null,
      "grid_column": null,
      "grid_gap": null,
      "grid_row": null,
      "grid_template_areas": null,
      "grid_template_columns": null,
      "grid_template_rows": null,
      "height": null,
      "justify_content": null,
      "justify_items": null,
      "left": null,
      "margin": null,
      "max_height": null,
      "max_width": null,
      "min_height": null,
      "min_width": null,
      "object_fit": null,
      "object_position": null,
      "order": null,
      "overflow": null,
      "overflow_x": null,
      "overflow_y": null,
      "padding": null,
      "right": null,
      "top": null,
      "visibility": null,
      "width": null
     }
    },
    "12a469e0af4e4b4d8d8adce41abd3a32": {
     "model_module": "@jupyter-widgets/controls",
     "model_module_version": "1.5.0",
     "model_name": "HTMLModel",
     "state": {
      "_dom_classes": [],
      "_model_module": "@jupyter-widgets/controls",
      "_model_module_version": "1.5.0",
      "_model_name": "HTMLModel",
      "_view_count": null,
      "_view_module": "@jupyter-widgets/controls",
      "_view_module_version": "1.5.0",
      "_view_name": "HTMLView",
      "description": "",
      "description_tooltip": null,
      "layout": "IPY_MODEL_0c380fc689e141f8a3c59814d864b195",
      "placeholder": "​",
      "style": "IPY_MODEL_0a331514ed3b438a83ca376fb4c8a864",
      "value": "Downloading: 100%"
     }
    },
    "14c57611201e47e896211b4aac2561b0": {
     "model_module": "@jupyter-widgets/controls",
     "model_module_version": "1.5.0",
     "model_name": "DescriptionStyleModel",
     "state": {
      "_model_module": "@jupyter-widgets/controls",
      "_model_module_version": "1.5.0",
      "_model_name": "DescriptionStyleModel",
      "_view_count": null,
      "_view_module": "@jupyter-widgets/base",
      "_view_module_version": "1.2.0",
      "_view_name": "StyleView",
      "description_width": ""
     }
    },
    "17d6ececb7104e7495c0579b76b22f3e": {
     "model_module": "@jupyter-widgets/base",
     "model_module_version": "1.2.0",
     "model_name": "LayoutModel",
     "state": {
      "_model_module": "@jupyter-widgets/base",
      "_model_module_version": "1.2.0",
      "_model_name": "LayoutModel",
      "_view_count": null,
      "_view_module": "@jupyter-widgets/base",
      "_view_module_version": "1.2.0",
      "_view_name": "LayoutView",
      "align_content": null,
      "align_items": null,
      "align_self": null,
      "border": null,
      "bottom": null,
      "display": null,
      "flex": null,
      "flex_flow": null,
      "grid_area": null,
      "grid_auto_columns": null,
      "grid_auto_flow": null,
      "grid_auto_rows": null,
      "grid_column": null,
      "grid_gap": null,
      "grid_row": null,
      "grid_template_areas": null,
      "grid_template_columns": null,
      "grid_template_rows": null,
      "height": null,
      "justify_content": null,
      "justify_items": null,
      "left": null,
      "margin": null,
      "max_height": null,
      "max_width": null,
      "min_height": null,
      "min_width": null,
      "object_fit": null,
      "object_position": null,
      "order": null,
      "overflow": null,
      "overflow_x": null,
      "overflow_y": null,
      "padding": null,
      "right": null,
      "top": null,
      "visibility": null,
      "width": null
     }
    },
    "19347190c88147a38d047ae210212c77": {
     "model_module": "@jupyter-widgets/base",
     "model_module_version": "1.2.0",
     "model_name": "LayoutModel",
     "state": {
      "_model_module": "@jupyter-widgets/base",
      "_model_module_version": "1.2.0",
      "_model_name": "LayoutModel",
      "_view_count": null,
      "_view_module": "@jupyter-widgets/base",
      "_view_module_version": "1.2.0",
      "_view_name": "LayoutView",
      "align_content": null,
      "align_items": null,
      "align_self": null,
      "border": null,
      "bottom": null,
      "display": null,
      "flex": null,
      "flex_flow": null,
      "grid_area": null,
      "grid_auto_columns": null,
      "grid_auto_flow": null,
      "grid_auto_rows": null,
      "grid_column": null,
      "grid_gap": null,
      "grid_row": null,
      "grid_template_areas": null,
      "grid_template_columns": null,
      "grid_template_rows": null,
      "height": null,
      "justify_content": null,
      "justify_items": null,
      "left": null,
      "margin": null,
      "max_height": null,
      "max_width": null,
      "min_height": null,
      "min_width": null,
      "object_fit": null,
      "object_position": null,
      "order": null,
      "overflow": null,
      "overflow_x": null,
      "overflow_y": null,
      "padding": null,
      "right": null,
      "top": null,
      "visibility": null,
      "width": null
     }
    },
    "1a1c07bfeb08412ab216a43ab1183585": {
     "model_module": "@jupyter-widgets/controls",
     "model_module_version": "1.5.0",
     "model_name": "DescriptionStyleModel",
     "state": {
      "_model_module": "@jupyter-widgets/controls",
      "_model_module_version": "1.5.0",
      "_model_name": "DescriptionStyleModel",
      "_view_count": null,
      "_view_module": "@jupyter-widgets/base",
      "_view_module_version": "1.2.0",
      "_view_name": "StyleView",
      "description_width": ""
     }
    },
    "1a8c5ef53ac04b3b8e4d6dc10533ee76": {
     "model_module": "@jupyter-widgets/controls",
     "model_module_version": "1.5.0",
     "model_name": "DescriptionStyleModel",
     "state": {
      "_model_module": "@jupyter-widgets/controls",
      "_model_module_version": "1.5.0",
      "_model_name": "DescriptionStyleModel",
      "_view_count": null,
      "_view_module": "@jupyter-widgets/base",
      "_view_module_version": "1.2.0",
      "_view_name": "StyleView",
      "description_width": ""
     }
    },
    "1bbd2c6f33b9466f9de36d6c921b57d9": {
     "model_module": "@jupyter-widgets/controls",
     "model_module_version": "1.5.0",
     "model_name": "DescriptionStyleModel",
     "state": {
      "_model_module": "@jupyter-widgets/controls",
      "_model_module_version": "1.5.0",
      "_model_name": "DescriptionStyleModel",
      "_view_count": null,
      "_view_module": "@jupyter-widgets/base",
      "_view_module_version": "1.2.0",
      "_view_name": "StyleView",
      "description_width": ""
     }
    },
    "1d554a72d0474a2fa5a446e24afde28c": {
     "model_module": "@jupyter-widgets/base",
     "model_module_version": "1.2.0",
     "model_name": "LayoutModel",
     "state": {
      "_model_module": "@jupyter-widgets/base",
      "_model_module_version": "1.2.0",
      "_model_name": "LayoutModel",
      "_view_count": null,
      "_view_module": "@jupyter-widgets/base",
      "_view_module_version": "1.2.0",
      "_view_name": "LayoutView",
      "align_content": null,
      "align_items": null,
      "align_self": null,
      "border": null,
      "bottom": null,
      "display": null,
      "flex": null,
      "flex_flow": null,
      "grid_area": null,
      "grid_auto_columns": null,
      "grid_auto_flow": null,
      "grid_auto_rows": null,
      "grid_column": null,
      "grid_gap": null,
      "grid_row": null,
      "grid_template_areas": null,
      "grid_template_columns": null,
      "grid_template_rows": null,
      "height": null,
      "justify_content": null,
      "justify_items": null,
      "left": null,
      "margin": null,
      "max_height": null,
      "max_width": null,
      "min_height": null,
      "min_width": null,
      "object_fit": null,
      "object_position": null,
      "order": null,
      "overflow": null,
      "overflow_x": null,
      "overflow_y": null,
      "padding": null,
      "right": null,
      "top": null,
      "visibility": null,
      "width": null
     }
    },
    "1fa777e5621646c1afd2b10e9bb13413": {
     "model_module": "@jupyter-widgets/controls",
     "model_module_version": "1.5.0",
     "model_name": "HBoxModel",
     "state": {
      "_dom_classes": [],
      "_model_module": "@jupyter-widgets/controls",
      "_model_module_version": "1.5.0",
      "_model_name": "HBoxModel",
      "_view_count": null,
      "_view_module": "@jupyter-widgets/controls",
      "_view_module_version": "1.5.0",
      "_view_name": "HBoxView",
      "box_style": "",
      "children": [
       "IPY_MODEL_7634ec0cbb3f419bbfa5c3b8d55d7524",
       "IPY_MODEL_2f1480a1842c4fac9bb93127a7e56e3e",
       "IPY_MODEL_27e3eede45bb4ed093f945f902d1d018"
      ],
      "layout": "IPY_MODEL_721e337c025b47198484c11e206c489b"
     }
    },
    "20e4ec196171491c840925b2a81e334b": {
     "model_module": "@jupyter-widgets/controls",
     "model_module_version": "1.5.0",
     "model_name": "DescriptionStyleModel",
     "state": {
      "_model_module": "@jupyter-widgets/controls",
      "_model_module_version": "1.5.0",
      "_model_name": "DescriptionStyleModel",
      "_view_count": null,
      "_view_module": "@jupyter-widgets/base",
      "_view_module_version": "1.2.0",
      "_view_name": "StyleView",
      "description_width": ""
     }
    },
    "213db5c03f884b3582c867903672c978": {
     "model_module": "@jupyter-widgets/controls",
     "model_module_version": "1.5.0",
     "model_name": "FloatProgressModel",
     "state": {
      "_dom_classes": [],
      "_model_module": "@jupyter-widgets/controls",
      "_model_module_version": "1.5.0",
      "_model_name": "FloatProgressModel",
      "_view_count": null,
      "_view_module": "@jupyter-widgets/controls",
      "_view_module_version": "1.5.0",
      "_view_name": "ProgressView",
      "bar_style": "success",
      "description": "",
      "description_tooltip": null,
      "layout": "IPY_MODEL_528123cb2a7d44518c711026bd35a1dd",
      "max": 456318,
      "min": 0,
      "orientation": "horizontal",
      "style": "IPY_MODEL_6059a6b33be7494aafcdf065f64d7370",
      "value": 456318
     }
    },
    "23adc9eb13aa4d59972bea2c8aa08f7c": {
     "model_module": "@jupyter-widgets/controls",
     "model_module_version": "1.5.0",
     "model_name": "DescriptionStyleModel",
     "state": {
      "_model_module": "@jupyter-widgets/controls",
      "_model_module_version": "1.5.0",
      "_model_name": "DescriptionStyleModel",
      "_view_count": null,
      "_view_module": "@jupyter-widgets/base",
      "_view_module_version": "1.2.0",
      "_view_name": "StyleView",
      "description_width": ""
     }
    },
    "27e3eede45bb4ed093f945f902d1d018": {
     "model_module": "@jupyter-widgets/controls",
     "model_module_version": "1.5.0",
     "model_name": "HTMLModel",
     "state": {
      "_dom_classes": [],
      "_model_module": "@jupyter-widgets/controls",
      "_model_module_version": "1.5.0",
      "_model_name": "HTMLModel",
      "_view_count": null,
      "_view_module": "@jupyter-widgets/controls",
      "_view_module_version": "1.5.0",
      "_view_name": "HTMLView",
      "description": "",
      "description_tooltip": null,
      "layout": "IPY_MODEL_fd80a0f9f21249d5a6754163fd8b66ed",
      "placeholder": "​",
      "style": "IPY_MODEL_0edf3d1e9dc04cbfacd94d40c808d9ed",
      "value": " 899k/899k [00:00&lt;00:00, 1.20MB/s]"
     }
    },
    "29f4b1dd936b48b0a38e41676b3386d0": {
     "model_module": "@jupyter-widgets/base",
     "model_module_version": "1.2.0",
     "model_name": "LayoutModel",
     "state": {
      "_model_module": "@jupyter-widgets/base",
      "_model_module_version": "1.2.0",
      "_model_name": "LayoutModel",
      "_view_count": null,
      "_view_module": "@jupyter-widgets/base",
      "_view_module_version": "1.2.0",
      "_view_name": "LayoutView",
      "align_content": null,
      "align_items": null,
      "align_self": null,
      "border": null,
      "bottom": null,
      "display": null,
      "flex": null,
      "flex_flow": null,
      "grid_area": null,
      "grid_auto_columns": null,
      "grid_auto_flow": null,
      "grid_auto_rows": null,
      "grid_column": null,
      "grid_gap": null,
      "grid_row": null,
      "grid_template_areas": null,
      "grid_template_columns": null,
      "grid_template_rows": null,
      "height": null,
      "justify_content": null,
      "justify_items": null,
      "left": null,
      "margin": null,
      "max_height": null,
      "max_width": null,
      "min_height": null,
      "min_width": null,
      "object_fit": null,
      "object_position": null,
      "order": null,
      "overflow": null,
      "overflow_x": null,
      "overflow_y": null,
      "padding": null,
      "right": null,
      "top": null,
      "visibility": null,
      "width": null
     }
    },
    "2f1480a1842c4fac9bb93127a7e56e3e": {
     "model_module": "@jupyter-widgets/controls",
     "model_module_version": "1.5.0",
     "model_name": "FloatProgressModel",
     "state": {
      "_dom_classes": [],
      "_model_module": "@jupyter-widgets/controls",
      "_model_module_version": "1.5.0",
      "_model_name": "FloatProgressModel",
      "_view_count": null,
      "_view_module": "@jupyter-widgets/controls",
      "_view_module_version": "1.5.0",
      "_view_name": "ProgressView",
      "bar_style": "success",
      "description": "",
      "description_tooltip": null,
      "layout": "IPY_MODEL_c46b9cd0c9ee4b019dfa0c3d52754bbb",
      "max": 898823,
      "min": 0,
      "orientation": "horizontal",
      "style": "IPY_MODEL_e950cd0aa35d499896b12fecd39cb585",
      "value": 898823
     }
    },
    "2f86002724da4d8fa170d4ef8f22866e": {
     "model_module": "@jupyter-widgets/controls",
     "model_module_version": "1.5.0",
     "model_name": "HBoxModel",
     "state": {
      "_dom_classes": [],
      "_model_module": "@jupyter-widgets/controls",
      "_model_module_version": "1.5.0",
      "_model_name": "HBoxModel",
      "_view_count": null,
      "_view_module": "@jupyter-widgets/controls",
      "_view_module_version": "1.5.0",
      "_view_name": "HBoxView",
      "box_style": "",
      "children": [
       "IPY_MODEL_8eeef6c40db446549c00875c4c7555f2",
       "IPY_MODEL_f889f7691bab4019a6bb5acefb4eeebf",
       "IPY_MODEL_4ca9d235051a4aa9b82ffda6c900da60"
      ],
      "layout": "IPY_MODEL_c14652812df940608789e8839e4bc960"
     }
    },
    "30637edd114f4ff9987ce6f40d2a216a": {
     "model_module": "@jupyter-widgets/base",
     "model_module_version": "1.2.0",
     "model_name": "LayoutModel",
     "state": {
      "_model_module": "@jupyter-widgets/base",
      "_model_module_version": "1.2.0",
      "_model_name": "LayoutModel",
      "_view_count": null,
      "_view_module": "@jupyter-widgets/base",
      "_view_module_version": "1.2.0",
      "_view_name": "LayoutView",
      "align_content": null,
      "align_items": null,
      "align_self": null,
      "border": null,
      "bottom": null,
      "display": null,
      "flex": null,
      "flex_flow": null,
      "grid_area": null,
      "grid_auto_columns": null,
      "grid_auto_flow": null,
      "grid_auto_rows": null,
      "grid_column": null,
      "grid_gap": null,
      "grid_row": null,
      "grid_template_areas": null,
      "grid_template_columns": null,
      "grid_template_rows": null,
      "height": null,
      "justify_content": null,
      "justify_items": null,
      "left": null,
      "margin": null,
      "max_height": null,
      "max_width": null,
      "min_height": null,
      "min_width": null,
      "object_fit": null,
      "object_position": null,
      "order": null,
      "overflow": null,
      "overflow_x": null,
      "overflow_y": null,
      "padding": null,
      "right": null,
      "top": null,
      "visibility": null,
      "width": null
     }
    },
    "30b07577a4574e808f1772307d437458": {
     "model_module": "@jupyter-widgets/controls",
     "model_module_version": "1.5.0",
     "model_name": "HBoxModel",
     "state": {
      "_dom_classes": [],
      "_model_module": "@jupyter-widgets/controls",
      "_model_module_version": "1.5.0",
      "_model_name": "HBoxModel",
      "_view_count": null,
      "_view_module": "@jupyter-widgets/controls",
      "_view_module_version": "1.5.0",
      "_view_name": "HBoxView",
      "box_style": "",
      "children": [
       "IPY_MODEL_606e22e2a73a423da7378e65e27b3ad0",
       "IPY_MODEL_cd60467ddb0e482cad5a545be4d6c40a",
       "IPY_MODEL_4d3e8e6bc287466d95d622624abba0df"
      ],
      "layout": "IPY_MODEL_90f343e35c164c6ab0a5b0134dbb937e"
     }
    },
    "328309400aac4c91a98caf926a5c4109": {
     "model_module": "@jupyter-widgets/base",
     "model_module_version": "1.2.0",
     "model_name": "LayoutModel",
     "state": {
      "_model_module": "@jupyter-widgets/base",
      "_model_module_version": "1.2.0",
      "_model_name": "LayoutModel",
      "_view_count": null,
      "_view_module": "@jupyter-widgets/base",
      "_view_module_version": "1.2.0",
      "_view_name": "LayoutView",
      "align_content": null,
      "align_items": null,
      "align_self": null,
      "border": null,
      "bottom": null,
      "display": null,
      "flex": null,
      "flex_flow": null,
      "grid_area": null,
      "grid_auto_columns": null,
      "grid_auto_flow": null,
      "grid_auto_rows": null,
      "grid_column": null,
      "grid_gap": null,
      "grid_row": null,
      "grid_template_areas": null,
      "grid_template_columns": null,
      "grid_template_rows": null,
      "height": null,
      "justify_content": null,
      "justify_items": null,
      "left": null,
      "margin": null,
      "max_height": null,
      "max_width": null,
      "min_height": null,
      "min_width": null,
      "object_fit": null,
      "object_position": null,
      "order": null,
      "overflow": null,
      "overflow_x": null,
      "overflow_y": null,
      "padding": null,
      "right": null,
      "top": null,
      "visibility": null,
      "width": null
     }
    },
    "329d5470bc10479fa21246e609bf8fa5": {
     "model_module": "@jupyter-widgets/controls",
     "model_module_version": "1.5.0",
     "model_name": "DescriptionStyleModel",
     "state": {
      "_model_module": "@jupyter-widgets/controls",
      "_model_module_version": "1.5.0",
      "_model_name": "DescriptionStyleModel",
      "_view_count": null,
      "_view_module": "@jupyter-widgets/base",
      "_view_module_version": "1.2.0",
      "_view_name": "StyleView",
      "description_width": ""
     }
    },
    "35056b16df464a869239dc4a7271d13a": {
     "model_module": "@jupyter-widgets/controls",
     "model_module_version": "1.5.0",
     "model_name": "DescriptionStyleModel",
     "state": {
      "_model_module": "@jupyter-widgets/controls",
      "_model_module_version": "1.5.0",
      "_model_name": "DescriptionStyleModel",
      "_view_count": null,
      "_view_module": "@jupyter-widgets/base",
      "_view_module_version": "1.2.0",
      "_view_name": "StyleView",
      "description_width": ""
     }
    },
    "3d32696ce33440439a07e191b4659825": {
     "model_module": "@jupyter-widgets/base",
     "model_module_version": "1.2.0",
     "model_name": "LayoutModel",
     "state": {
      "_model_module": "@jupyter-widgets/base",
      "_model_module_version": "1.2.0",
      "_model_name": "LayoutModel",
      "_view_count": null,
      "_view_module": "@jupyter-widgets/base",
      "_view_module_version": "1.2.0",
      "_view_name": "LayoutView",
      "align_content": null,
      "align_items": null,
      "align_self": null,
      "border": null,
      "bottom": null,
      "display": null,
      "flex": null,
      "flex_flow": null,
      "grid_area": null,
      "grid_auto_columns": null,
      "grid_auto_flow": null,
      "grid_auto_rows": null,
      "grid_column": null,
      "grid_gap": null,
      "grid_row": null,
      "grid_template_areas": null,
      "grid_template_columns": null,
      "grid_template_rows": null,
      "height": null,
      "justify_content": null,
      "justify_items": null,
      "left": null,
      "margin": null,
      "max_height": null,
      "max_width": null,
      "min_height": null,
      "min_width": null,
      "object_fit": null,
      "object_position": null,
      "order": null,
      "overflow": null,
      "overflow_x": null,
      "overflow_y": null,
      "padding": null,
      "right": null,
      "top": null,
      "visibility": null,
      "width": null
     }
    },
    "3f927d8db29c4c3aa39b85cf594e4700": {
     "model_module": "@jupyter-widgets/base",
     "model_module_version": "1.2.0",
     "model_name": "LayoutModel",
     "state": {
      "_model_module": "@jupyter-widgets/base",
      "_model_module_version": "1.2.0",
      "_model_name": "LayoutModel",
      "_view_count": null,
      "_view_module": "@jupyter-widgets/base",
      "_view_module_version": "1.2.0",
      "_view_name": "LayoutView",
      "align_content": null,
      "align_items": null,
      "align_self": null,
      "border": null,
      "bottom": null,
      "display": null,
      "flex": null,
      "flex_flow": null,
      "grid_area": null,
      "grid_auto_columns": null,
      "grid_auto_flow": null,
      "grid_auto_rows": null,
      "grid_column": null,
      "grid_gap": null,
      "grid_row": null,
      "grid_template_areas": null,
      "grid_template_columns": null,
      "grid_template_rows": null,
      "height": null,
      "justify_content": null,
      "justify_items": null,
      "left": null,
      "margin": null,
      "max_height": null,
      "max_width": null,
      "min_height": null,
      "min_width": null,
      "object_fit": null,
      "object_position": null,
      "order": null,
      "overflow": null,
      "overflow_x": null,
      "overflow_y": null,
      "padding": null,
      "right": null,
      "top": null,
      "visibility": null,
      "width": null
     }
    },
    "42b0e7e8f2494d78a9c20b2f96be532f": {
     "model_module": "@jupyter-widgets/controls",
     "model_module_version": "1.5.0",
     "model_name": "ProgressStyleModel",
     "state": {
      "_model_module": "@jupyter-widgets/controls",
      "_model_module_version": "1.5.0",
      "_model_name": "ProgressStyleModel",
      "_view_count": null,
      "_view_module": "@jupyter-widgets/base",
      "_view_module_version": "1.2.0",
      "_view_name": "StyleView",
      "bar_color": null,
      "description_width": ""
     }
    },
    "43a99d95b1a849a493c363db6e2e3cef": {
     "model_module": "@jupyter-widgets/base",
     "model_module_version": "1.2.0",
     "model_name": "LayoutModel",
     "state": {
      "_model_module": "@jupyter-widgets/base",
      "_model_module_version": "1.2.0",
      "_model_name": "LayoutModel",
      "_view_count": null,
      "_view_module": "@jupyter-widgets/base",
      "_view_module_version": "1.2.0",
      "_view_name": "LayoutView",
      "align_content": null,
      "align_items": null,
      "align_self": null,
      "border": null,
      "bottom": null,
      "display": null,
      "flex": null,
      "flex_flow": null,
      "grid_area": null,
      "grid_auto_columns": null,
      "grid_auto_flow": null,
      "grid_auto_rows": null,
      "grid_column": null,
      "grid_gap": null,
      "grid_row": null,
      "grid_template_areas": null,
      "grid_template_columns": null,
      "grid_template_rows": null,
      "height": null,
      "justify_content": null,
      "justify_items": null,
      "left": null,
      "margin": null,
      "max_height": null,
      "max_width": null,
      "min_height": null,
      "min_width": null,
      "object_fit": null,
      "object_position": null,
      "order": null,
      "overflow": null,
      "overflow_x": null,
      "overflow_y": null,
      "padding": null,
      "right": null,
      "top": null,
      "visibility": null,
      "width": null
     }
    },
    "483ac2a0f6c34d70ac8a53641e7c3d93": {
     "model_module": "@jupyter-widgets/controls",
     "model_module_version": "1.5.0",
     "model_name": "HTMLModel",
     "state": {
      "_dom_classes": [],
      "_model_module": "@jupyter-widgets/controls",
      "_model_module_version": "1.5.0",
      "_model_name": "HTMLModel",
      "_view_count": null,
      "_view_module": "@jupyter-widgets/controls",
      "_view_module_version": "1.5.0",
      "_view_name": "HTMLView",
      "description": "",
      "description_tooltip": null,
      "layout": "IPY_MODEL_19347190c88147a38d047ae210212c77",
      "placeholder": "​",
      "style": "IPY_MODEL_b8d36bcb6b574067949235f92eebe61e",
      "value": "Downloading: 100%"
     }
    },
    "4ca9d235051a4aa9b82ffda6c900da60": {
     "model_module": "@jupyter-widgets/controls",
     "model_module_version": "1.5.0",
     "model_name": "HTMLModel",
     "state": {
      "_dom_classes": [],
      "_model_module": "@jupyter-widgets/controls",
      "_model_module_version": "1.5.0",
      "_model_name": "HTMLModel",
      "_view_count": null,
      "_view_module": "@jupyter-widgets/controls",
      "_view_module_version": "1.5.0",
      "_view_name": "HTMLView",
      "description": "",
      "description_tooltip": null,
      "layout": "IPY_MODEL_da212c5e4dec4241b43d685abd265ca1",
      "placeholder": "​",
      "style": "IPY_MODEL_a7f83a4f2e0a426cb0a08ba9fbb49e22",
      "value": " 501M/501M [00:18&lt;00:00, 26.9MB/s]"
     }
    },
    "4d3e8e6bc287466d95d622624abba0df": {
     "model_module": "@jupyter-widgets/controls",
     "model_module_version": "1.5.0",
     "model_name": "HTMLModel",
     "state": {
      "_dom_classes": [],
      "_model_module": "@jupyter-widgets/controls",
      "_model_module_version": "1.5.0",
      "_model_name": "HTMLModel",
      "_view_count": null,
      "_view_module": "@jupyter-widgets/controls",
      "_view_module_version": "1.5.0",
      "_view_name": "HTMLView",
      "description": "",
      "description_tooltip": null,
      "layout": "IPY_MODEL_55aacdf9112d4a41b8e2783fe19b3209",
      "placeholder": "​",
      "style": "IPY_MODEL_fdd23ee0ca814696ba45c6dbc650755f",
      "value": " 481/481 [00:00&lt;00:00, 11.5kB/s]"
     }
    },
    "5258d172ddec4c6d94a3a4a8198ca488": {
     "model_module": "@jupyter-widgets/base",
     "model_module_version": "1.2.0",
     "model_name": "LayoutModel",
     "state": {
      "_model_module": "@jupyter-widgets/base",
      "_model_module_version": "1.2.0",
      "_model_name": "LayoutModel",
      "_view_count": null,
      "_view_module": "@jupyter-widgets/base",
      "_view_module_version": "1.2.0",
      "_view_name": "LayoutView",
      "align_content": null,
      "align_items": null,
      "align_self": null,
      "border": null,
      "bottom": null,
      "display": null,
      "flex": null,
      "flex_flow": null,
      "grid_area": null,
      "grid_auto_columns": null,
      "grid_auto_flow": null,
      "grid_auto_rows": null,
      "grid_column": null,
      "grid_gap": null,
      "grid_row": null,
      "grid_template_areas": null,
      "grid_template_columns": null,
      "grid_template_rows": null,
      "height": null,
      "justify_content": null,
      "justify_items": null,
      "left": null,
      "margin": null,
      "max_height": null,
      "max_width": null,
      "min_height": null,
      "min_width": null,
      "object_fit": null,
      "object_position": null,
      "order": null,
      "overflow": null,
      "overflow_x": null,
      "overflow_y": null,
      "padding": null,
      "right": null,
      "top": null,
      "visibility": null,
      "width": null
     }
    },
    "528123cb2a7d44518c711026bd35a1dd": {
     "model_module": "@jupyter-widgets/base",
     "model_module_version": "1.2.0",
     "model_name": "LayoutModel",
     "state": {
      "_model_module": "@jupyter-widgets/base",
      "_model_module_version": "1.2.0",
      "_model_name": "LayoutModel",
      "_view_count": null,
      "_view_module": "@jupyter-widgets/base",
      "_view_module_version": "1.2.0",
      "_view_name": "LayoutView",
      "align_content": null,
      "align_items": null,
      "align_self": null,
      "border": null,
      "bottom": null,
      "display": null,
      "flex": null,
      "flex_flow": null,
      "grid_area": null,
      "grid_auto_columns": null,
      "grid_auto_flow": null,
      "grid_auto_rows": null,
      "grid_column": null,
      "grid_gap": null,
      "grid_row": null,
      "grid_template_areas": null,
      "grid_template_columns": null,
      "grid_template_rows": null,
      "height": null,
      "justify_content": null,
      "justify_items": null,
      "left": null,
      "margin": null,
      "max_height": null,
      "max_width": null,
      "min_height": null,
      "min_width": null,
      "object_fit": null,
      "object_position": null,
      "order": null,
      "overflow": null,
      "overflow_x": null,
      "overflow_y": null,
      "padding": null,
      "right": null,
      "top": null,
      "visibility": null,
      "width": null
     }
    },
    "55aacdf9112d4a41b8e2783fe19b3209": {
     "model_module": "@jupyter-widgets/base",
     "model_module_version": "1.2.0",
     "model_name": "LayoutModel",
     "state": {
      "_model_module": "@jupyter-widgets/base",
      "_model_module_version": "1.2.0",
      "_model_name": "LayoutModel",
      "_view_count": null,
      "_view_module": "@jupyter-widgets/base",
      "_view_module_version": "1.2.0",
      "_view_name": "LayoutView",
      "align_content": null,
      "align_items": null,
      "align_self": null,
      "border": null,
      "bottom": null,
      "display": null,
      "flex": null,
      "flex_flow": null,
      "grid_area": null,
      "grid_auto_columns": null,
      "grid_auto_flow": null,
      "grid_auto_rows": null,
      "grid_column": null,
      "grid_gap": null,
      "grid_row": null,
      "grid_template_areas": null,
      "grid_template_columns": null,
      "grid_template_rows": null,
      "height": null,
      "justify_content": null,
      "justify_items": null,
      "left": null,
      "margin": null,
      "max_height": null,
      "max_width": null,
      "min_height": null,
      "min_width": null,
      "object_fit": null,
      "object_position": null,
      "order": null,
      "overflow": null,
      "overflow_x": null,
      "overflow_y": null,
      "padding": null,
      "right": null,
      "top": null,
      "visibility": null,
      "width": null
     }
    },
    "562415ce997e4826b2db05d8051341d1": {
     "model_module": "@jupyter-widgets/base",
     "model_module_version": "1.2.0",
     "model_name": "LayoutModel",
     "state": {
      "_model_module": "@jupyter-widgets/base",
      "_model_module_version": "1.2.0",
      "_model_name": "LayoutModel",
      "_view_count": null,
      "_view_module": "@jupyter-widgets/base",
      "_view_module_version": "1.2.0",
      "_view_name": "LayoutView",
      "align_content": null,
      "align_items": null,
      "align_self": null,
      "border": null,
      "bottom": null,
      "display": null,
      "flex": null,
      "flex_flow": null,
      "grid_area": null,
      "grid_auto_columns": null,
      "grid_auto_flow": null,
      "grid_auto_rows": null,
      "grid_column": null,
      "grid_gap": null,
      "grid_row": null,
      "grid_template_areas": null,
      "grid_template_columns": null,
      "grid_template_rows": null,
      "height": null,
      "justify_content": null,
      "justify_items": null,
      "left": null,
      "margin": null,
      "max_height": null,
      "max_width": null,
      "min_height": null,
      "min_width": null,
      "object_fit": null,
      "object_position": null,
      "order": null,
      "overflow": null,
      "overflow_x": null,
      "overflow_y": null,
      "padding": null,
      "right": null,
      "top": null,
      "visibility": null,
      "width": null
     }
    },
    "57a7d177446b4ace94f32feb55b5852c": {
     "model_module": "@jupyter-widgets/controls",
     "model_module_version": "1.5.0",
     "model_name": "HTMLModel",
     "state": {
      "_dom_classes": [],
      "_model_module": "@jupyter-widgets/controls",
      "_model_module_version": "1.5.0",
      "_model_name": "HTMLModel",
      "_view_count": null,
      "_view_module": "@jupyter-widgets/controls",
      "_view_module_version": "1.5.0",
      "_view_name": "HTMLView",
      "description": "",
      "description_tooltip": null,
      "layout": "IPY_MODEL_7d91348e72a7441386424846ec427ea4",
      "placeholder": "​",
      "style": "IPY_MODEL_6d0b15eea8e74fd0bb2f0976bfde590c",
      "value": " 481/481 [00:00&lt;00:00, 10.4kB/s]"
     }
    },
    "5a00cd04504443209cf2b69b25e1f6f3": {
     "model_module": "@jupyter-widgets/controls",
     "model_module_version": "1.5.0",
     "model_name": "FloatProgressModel",
     "state": {
      "_dom_classes": [],
      "_model_module": "@jupyter-widgets/controls",
      "_model_module_version": "1.5.0",
      "_model_name": "FloatProgressModel",
      "_view_count": null,
      "_view_module": "@jupyter-widgets/controls",
      "_view_module_version": "1.5.0",
      "_view_name": "ProgressView",
      "bar_style": "success",
      "description": "",
      "description_tooltip": null,
      "layout": "IPY_MODEL_f0a013b1523c4f8fb28f813b821ed23f",
      "max": 898823,
      "min": 0,
      "orientation": "horizontal",
      "style": "IPY_MODEL_42b0e7e8f2494d78a9c20b2f96be532f",
      "value": 898823
     }
    },
    "5ad32c47f64b4fb1b0fa46d1b1f0cb79": {
     "model_module": "@jupyter-widgets/controls",
     "model_module_version": "1.5.0",
     "model_name": "FloatProgressModel",
     "state": {
      "_dom_classes": [],
      "_model_module": "@jupyter-widgets/controls",
      "_model_module_version": "1.5.0",
      "_model_name": "FloatProgressModel",
      "_view_count": null,
      "_view_module": "@jupyter-widgets/controls",
      "_view_module_version": "1.5.0",
      "_view_name": "ProgressView",
      "bar_style": "success",
      "description": "",
      "description_tooltip": null,
      "layout": "IPY_MODEL_29f4b1dd936b48b0a38e41676b3386d0",
      "max": 456318,
      "min": 0,
      "orientation": "horizontal",
      "style": "IPY_MODEL_ae3f2129f9f64127964be054722fcc2d",
      "value": 456318
     }
    },
    "5b1fcf2fcf5549a99cd3b59954d3ad49": {
     "model_module": "@jupyter-widgets/base",
     "model_module_version": "1.2.0",
     "model_name": "LayoutModel",
     "state": {
      "_model_module": "@jupyter-widgets/base",
      "_model_module_version": "1.2.0",
      "_model_name": "LayoutModel",
      "_view_count": null,
      "_view_module": "@jupyter-widgets/base",
      "_view_module_version": "1.2.0",
      "_view_name": "LayoutView",
      "align_content": null,
      "align_items": null,
      "align_self": null,
      "border": null,
      "bottom": null,
      "display": null,
      "flex": null,
      "flex_flow": null,
      "grid_area": null,
      "grid_auto_columns": null,
      "grid_auto_flow": null,
      "grid_auto_rows": null,
      "grid_column": null,
      "grid_gap": null,
      "grid_row": null,
      "grid_template_areas": null,
      "grid_template_columns": null,
      "grid_template_rows": null,
      "height": null,
      "justify_content": null,
      "justify_items": null,
      "left": null,
      "margin": null,
      "max_height": null,
      "max_width": null,
      "min_height": null,
      "min_width": null,
      "object_fit": null,
      "object_position": null,
      "order": null,
      "overflow": null,
      "overflow_x": null,
      "overflow_y": null,
      "padding": null,
      "right": null,
      "top": null,
      "visibility": null,
      "width": null
     }
    },
    "5c4c808b850c4afb86fb800becbc9a19": {
     "model_module": "@jupyter-widgets/controls",
     "model_module_version": "1.5.0",
     "model_name": "HTMLModel",
     "state": {
      "_dom_classes": [],
      "_model_module": "@jupyter-widgets/controls",
      "_model_module_version": "1.5.0",
      "_model_name": "HTMLModel",
      "_view_count": null,
      "_view_module": "@jupyter-widgets/controls",
      "_view_module_version": "1.5.0",
      "_view_name": "HTMLView",
      "description": "",
      "description_tooltip": null,
      "layout": "IPY_MODEL_8dd35f743b8e4bb588618c9463cbcae8",
      "placeholder": "​",
      "style": "IPY_MODEL_23adc9eb13aa4d59972bea2c8aa08f7c",
      "value": " 456k/456k [00:00&lt;00:00, 692kB/s]"
     }
    },
    "5e5eb290f117442eaf79b2a43b9163db": {
     "model_module": "@jupyter-widgets/base",
     "model_module_version": "1.2.0",
     "model_name": "LayoutModel",
     "state": {
      "_model_module": "@jupyter-widgets/base",
      "_model_module_version": "1.2.0",
      "_model_name": "LayoutModel",
      "_view_count": null,
      "_view_module": "@jupyter-widgets/base",
      "_view_module_version": "1.2.0",
      "_view_name": "LayoutView",
      "align_content": null,
      "align_items": null,
      "align_self": null,
      "border": null,
      "bottom": null,
      "display": null,
      "flex": null,
      "flex_flow": null,
      "grid_area": null,
      "grid_auto_columns": null,
      "grid_auto_flow": null,
      "grid_auto_rows": null,
      "grid_column": null,
      "grid_gap": null,
      "grid_row": null,
      "grid_template_areas": null,
      "grid_template_columns": null,
      "grid_template_rows": null,
      "height": null,
      "justify_content": null,
      "justify_items": null,
      "left": null,
      "margin": null,
      "max_height": null,
      "max_width": null,
      "min_height": null,
      "min_width": null,
      "object_fit": null,
      "object_position": null,
      "order": null,
      "overflow": null,
      "overflow_x": null,
      "overflow_y": null,
      "padding": null,
      "right": null,
      "top": null,
      "visibility": null,
      "width": null
     }
    },
    "5e7576c4d03341bf91944983f0c2fe41": {
     "model_module": "@jupyter-widgets/base",
     "model_module_version": "1.2.0",
     "model_name": "LayoutModel",
     "state": {
      "_model_module": "@jupyter-widgets/base",
      "_model_module_version": "1.2.0",
      "_model_name": "LayoutModel",
      "_view_count": null,
      "_view_module": "@jupyter-widgets/base",
      "_view_module_version": "1.2.0",
      "_view_name": "LayoutView",
      "align_content": null,
      "align_items": null,
      "align_self": null,
      "border": null,
      "bottom": null,
      "display": null,
      "flex": null,
      "flex_flow": null,
      "grid_area": null,
      "grid_auto_columns": null,
      "grid_auto_flow": null,
      "grid_auto_rows": null,
      "grid_column": null,
      "grid_gap": null,
      "grid_row": null,
      "grid_template_areas": null,
      "grid_template_columns": null,
      "grid_template_rows": null,
      "height": null,
      "justify_content": null,
      "justify_items": null,
      "left": null,
      "margin": null,
      "max_height": null,
      "max_width": null,
      "min_height": null,
      "min_width": null,
      "object_fit": null,
      "object_position": null,
      "order": null,
      "overflow": null,
      "overflow_x": null,
      "overflow_y": null,
      "padding": null,
      "right": null,
      "top": null,
      "visibility": null,
      "width": null
     }
    },
    "5f6b91787cdb4eb886b4fac6ba60069b": {
     "model_module": "@jupyter-widgets/controls",
     "model_module_version": "1.5.0",
     "model_name": "HBoxModel",
     "state": {
      "_dom_classes": [],
      "_model_module": "@jupyter-widgets/controls",
      "_model_module_version": "1.5.0",
      "_model_name": "HBoxModel",
      "_view_count": null,
      "_view_module": "@jupyter-widgets/controls",
      "_view_module_version": "1.5.0",
      "_view_name": "HBoxView",
      "box_style": "",
      "children": [
       "IPY_MODEL_483ac2a0f6c34d70ac8a53641e7c3d93",
       "IPY_MODEL_5a00cd04504443209cf2b69b25e1f6f3",
       "IPY_MODEL_eabf87fa22c34effa679439406f84401"
      ],
      "layout": "IPY_MODEL_5e7576c4d03341bf91944983f0c2fe41"
     }
    },
    "6059a6b33be7494aafcdf065f64d7370": {
     "model_module": "@jupyter-widgets/controls",
     "model_module_version": "1.5.0",
     "model_name": "ProgressStyleModel",
     "state": {
      "_model_module": "@jupyter-widgets/controls",
      "_model_module_version": "1.5.0",
      "_model_name": "ProgressStyleModel",
      "_view_count": null,
      "_view_module": "@jupyter-widgets/base",
      "_view_module_version": "1.2.0",
      "_view_name": "StyleView",
      "bar_color": null,
      "description_width": ""
     }
    },
    "606e22e2a73a423da7378e65e27b3ad0": {
     "model_module": "@jupyter-widgets/controls",
     "model_module_version": "1.5.0",
     "model_name": "HTMLModel",
     "state": {
      "_dom_classes": [],
      "_model_module": "@jupyter-widgets/controls",
      "_model_module_version": "1.5.0",
      "_model_name": "HTMLModel",
      "_view_count": null,
      "_view_module": "@jupyter-widgets/controls",
      "_view_module_version": "1.5.0",
      "_view_name": "HTMLView",
      "description": "",
      "description_tooltip": null,
      "layout": "IPY_MODEL_17d6ececb7104e7495c0579b76b22f3e",
      "placeholder": "​",
      "style": "IPY_MODEL_1a1c07bfeb08412ab216a43ab1183585",
      "value": "Downloading: 100%"
     }
    },
    "69284abd51944470be2791c3278d9bae": {
     "model_module": "@jupyter-widgets/controls",
     "model_module_version": "1.5.0",
     "model_name": "HBoxModel",
     "state": {
      "_dom_classes": [],
      "_model_module": "@jupyter-widgets/controls",
      "_model_module_version": "1.5.0",
      "_model_name": "HBoxModel",
      "_view_count": null,
      "_view_module": "@jupyter-widgets/controls",
      "_view_module_version": "1.5.0",
      "_view_name": "HBoxView",
      "box_style": "",
      "children": [
       "IPY_MODEL_79f5649084c4468a95fe1c8e746a0949",
       "IPY_MODEL_5ad32c47f64b4fb1b0fa46d1b1f0cb79",
       "IPY_MODEL_5c4c808b850c4afb86fb800becbc9a19"
      ],
      "layout": "IPY_MODEL_bfef281cb4894695a22e3c56b28acaeb"
     }
    },
    "6aa4dee4902e408f99bebc2c6df3704f": {
     "model_module": "@jupyter-widgets/controls",
     "model_module_version": "1.5.0",
     "model_name": "DescriptionStyleModel",
     "state": {
      "_model_module": "@jupyter-widgets/controls",
      "_model_module_version": "1.5.0",
      "_model_name": "DescriptionStyleModel",
      "_view_count": null,
      "_view_module": "@jupyter-widgets/base",
      "_view_module_version": "1.2.0",
      "_view_name": "StyleView",
      "description_width": ""
     }
    },
    "6cd81bac79914db0b0b68fe19d0ac5d6": {
     "model_module": "@jupyter-widgets/controls",
     "model_module_version": "1.5.0",
     "model_name": "DescriptionStyleModel",
     "state": {
      "_model_module": "@jupyter-widgets/controls",
      "_model_module_version": "1.5.0",
      "_model_name": "DescriptionStyleModel",
      "_view_count": null,
      "_view_module": "@jupyter-widgets/base",
      "_view_module_version": "1.2.0",
      "_view_name": "StyleView",
      "description_width": ""
     }
    },
    "6cf98a6dc09845879759deab80d47096": {
     "model_module": "@jupyter-widgets/controls",
     "model_module_version": "1.5.0",
     "model_name": "HBoxModel",
     "state": {
      "_dom_classes": [],
      "_model_module": "@jupyter-widgets/controls",
      "_model_module_version": "1.5.0",
      "_model_name": "HBoxModel",
      "_view_count": null,
      "_view_module": "@jupyter-widgets/controls",
      "_view_module_version": "1.5.0",
      "_view_name": "HBoxView",
      "box_style": "",
      "children": [
       "IPY_MODEL_ed37b6eb86ab4c42a08ab0749332cc7c",
       "IPY_MODEL_0c36c37ce1ad4dbf8438c5169407295c",
       "IPY_MODEL_f5ff34b262374950a8e055e1ccf74a6a"
      ],
      "layout": "IPY_MODEL_bf8f2d978f434c4b9a78de86caea9305"
     }
    },
    "6d0b15eea8e74fd0bb2f0976bfde590c": {
     "model_module": "@jupyter-widgets/controls",
     "model_module_version": "1.5.0",
     "model_name": "DescriptionStyleModel",
     "state": {
      "_model_module": "@jupyter-widgets/controls",
      "_model_module_version": "1.5.0",
      "_model_name": "DescriptionStyleModel",
      "_view_count": null,
      "_view_module": "@jupyter-widgets/base",
      "_view_module_version": "1.2.0",
      "_view_name": "StyleView",
      "description_width": ""
     }
    },
    "721e337c025b47198484c11e206c489b": {
     "model_module": "@jupyter-widgets/base",
     "model_module_version": "1.2.0",
     "model_name": "LayoutModel",
     "state": {
      "_model_module": "@jupyter-widgets/base",
      "_model_module_version": "1.2.0",
      "_model_name": "LayoutModel",
      "_view_count": null,
      "_view_module": "@jupyter-widgets/base",
      "_view_module_version": "1.2.0",
      "_view_name": "LayoutView",
      "align_content": null,
      "align_items": null,
      "align_self": null,
      "border": null,
      "bottom": null,
      "display": null,
      "flex": null,
      "flex_flow": null,
      "grid_area": null,
      "grid_auto_columns": null,
      "grid_auto_flow": null,
      "grid_auto_rows": null,
      "grid_column": null,
      "grid_gap": null,
      "grid_row": null,
      "grid_template_areas": null,
      "grid_template_columns": null,
      "grid_template_rows": null,
      "height": null,
      "justify_content": null,
      "justify_items": null,
      "left": null,
      "margin": null,
      "max_height": null,
      "max_width": null,
      "min_height": null,
      "min_width": null,
      "object_fit": null,
      "object_position": null,
      "order": null,
      "overflow": null,
      "overflow_x": null,
      "overflow_y": null,
      "padding": null,
      "right": null,
      "top": null,
      "visibility": null,
      "width": null
     }
    },
    "7634ec0cbb3f419bbfa5c3b8d55d7524": {
     "model_module": "@jupyter-widgets/controls",
     "model_module_version": "1.5.0",
     "model_name": "HTMLModel",
     "state": {
      "_dom_classes": [],
      "_model_module": "@jupyter-widgets/controls",
      "_model_module_version": "1.5.0",
      "_model_name": "HTMLModel",
      "_view_count": null,
      "_view_module": "@jupyter-widgets/controls",
      "_view_module_version": "1.5.0",
      "_view_name": "HTMLView",
      "description": "",
      "description_tooltip": null,
      "layout": "IPY_MODEL_3f927d8db29c4c3aa39b85cf594e4700",
      "placeholder": "​",
      "style": "IPY_MODEL_14c57611201e47e896211b4aac2561b0",
      "value": "Downloading: 100%"
     }
    },
    "79f5649084c4468a95fe1c8e746a0949": {
     "model_module": "@jupyter-widgets/controls",
     "model_module_version": "1.5.0",
     "model_name": "HTMLModel",
     "state": {
      "_dom_classes": [],
      "_model_module": "@jupyter-widgets/controls",
      "_model_module_version": "1.5.0",
      "_model_name": "HTMLModel",
      "_view_count": null,
      "_view_module": "@jupyter-widgets/controls",
      "_view_module_version": "1.5.0",
      "_view_name": "HTMLView",
      "description": "",
      "description_tooltip": null,
      "layout": "IPY_MODEL_f9b76fd89483478cb69e3a54548d7bdd",
      "placeholder": "​",
      "style": "IPY_MODEL_fc069e5049644e1f86636a6bc00687d5",
      "value": "Downloading: 100%"
     }
    },
    "7d91348e72a7441386424846ec427ea4": {
     "model_module": "@jupyter-widgets/base",
     "model_module_version": "1.2.0",
     "model_name": "LayoutModel",
     "state": {
      "_model_module": "@jupyter-widgets/base",
      "_model_module_version": "1.2.0",
      "_model_name": "LayoutModel",
      "_view_count": null,
      "_view_module": "@jupyter-widgets/base",
      "_view_module_version": "1.2.0",
      "_view_name": "LayoutView",
      "align_content": null,
      "align_items": null,
      "align_self": null,
      "border": null,
      "bottom": null,
      "display": null,
      "flex": null,
      "flex_flow": null,
      "grid_area": null,
      "grid_auto_columns": null,
      "grid_auto_flow": null,
      "grid_auto_rows": null,
      "grid_column": null,
      "grid_gap": null,
      "grid_row": null,
      "grid_template_areas": null,
      "grid_template_columns": null,
      "grid_template_rows": null,
      "height": null,
      "justify_content": null,
      "justify_items": null,
      "left": null,
      "margin": null,
      "max_height": null,
      "max_width": null,
      "min_height": null,
      "min_width": null,
      "object_fit": null,
      "object_position": null,
      "order": null,
      "overflow": null,
      "overflow_x": null,
      "overflow_y": null,
      "padding": null,
      "right": null,
      "top": null,
      "visibility": null,
      "width": null
     }
    },
    "7dee89e15af540998c763ecdad0a8e4a": {
     "model_module": "@jupyter-widgets/controls",
     "model_module_version": "1.5.0",
     "model_name": "HTMLModel",
     "state": {
      "_dom_classes": [],
      "_model_module": "@jupyter-widgets/controls",
      "_model_module_version": "1.5.0",
      "_model_name": "HTMLModel",
      "_view_count": null,
      "_view_module": "@jupyter-widgets/controls",
      "_view_module_version": "1.5.0",
      "_view_name": "HTMLView",
      "description": "",
      "description_tooltip": null,
      "layout": "IPY_MODEL_562415ce997e4826b2db05d8051341d1",
      "placeholder": "​",
      "style": "IPY_MODEL_329d5470bc10479fa21246e609bf8fa5",
      "value": "Downloading: 100%"
     }
    },
    "7ff8229a7ced4008b0fbdab448d84dbe": {
     "model_module": "@jupyter-widgets/controls",
     "model_module_version": "1.5.0",
     "model_name": "ProgressStyleModel",
     "state": {
      "_model_module": "@jupyter-widgets/controls",
      "_model_module_version": "1.5.0",
      "_model_name": "ProgressStyleModel",
      "_view_count": null,
      "_view_module": "@jupyter-widgets/base",
      "_view_module_version": "1.2.0",
      "_view_name": "StyleView",
      "bar_color": null,
      "description_width": ""
     }
    },
    "87c6a691901b420f85910c3c01734b53": {
     "model_module": "@jupyter-widgets/controls",
     "model_module_version": "1.5.0",
     "model_name": "HTMLModel",
     "state": {
      "_dom_classes": [],
      "_model_module": "@jupyter-widgets/controls",
      "_model_module_version": "1.5.0",
      "_model_name": "HTMLModel",
      "_view_count": null,
      "_view_module": "@jupyter-widgets/controls",
      "_view_module_version": "1.5.0",
      "_view_name": "HTMLView",
      "description": "",
      "description_tooltip": null,
      "layout": "IPY_MODEL_b678201d0c544270aa943485b05e9ef6",
      "placeholder": "​",
      "style": "IPY_MODEL_1bbd2c6f33b9466f9de36d6c921b57d9",
      "value": "Downloading: 100%"
     }
    },
    "88a88988d1474883b364f32fd508b829": {
     "model_module": "@jupyter-widgets/controls",
     "model_module_version": "1.5.0",
     "model_name": "HBoxModel",
     "state": {
      "_dom_classes": [],
      "_model_module": "@jupyter-widgets/controls",
      "_model_module_version": "1.5.0",
      "_model_name": "HBoxModel",
      "_view_count": null,
      "_view_module": "@jupyter-widgets/controls",
      "_view_module_version": "1.5.0",
      "_view_name": "HBoxView",
      "box_style": "",
      "children": [
       "IPY_MODEL_7dee89e15af540998c763ecdad0a8e4a",
       "IPY_MODEL_d733b75731134224b46d730b1ee667e5",
       "IPY_MODEL_0bcdd45106df46c08d8f37b0b48a2060"
      ],
      "layout": "IPY_MODEL_0fde03dca587450eb530167935e8128c"
     }
    },
    "8dd35f743b8e4bb588618c9463cbcae8": {
     "model_module": "@jupyter-widgets/base",
     "model_module_version": "1.2.0",
     "model_name": "LayoutModel",
     "state": {
      "_model_module": "@jupyter-widgets/base",
      "_model_module_version": "1.2.0",
      "_model_name": "LayoutModel",
      "_view_count": null,
      "_view_module": "@jupyter-widgets/base",
      "_view_module_version": "1.2.0",
      "_view_name": "LayoutView",
      "align_content": null,
      "align_items": null,
      "align_self": null,
      "border": null,
      "bottom": null,
      "display": null,
      "flex": null,
      "flex_flow": null,
      "grid_area": null,
      "grid_auto_columns": null,
      "grid_auto_flow": null,
      "grid_auto_rows": null,
      "grid_column": null,
      "grid_gap": null,
      "grid_row": null,
      "grid_template_areas": null,
      "grid_template_columns": null,
      "grid_template_rows": null,
      "height": null,
      "justify_content": null,
      "justify_items": null,
      "left": null,
      "margin": null,
      "max_height": null,
      "max_width": null,
      "min_height": null,
      "min_width": null,
      "object_fit": null,
      "object_position": null,
      "order": null,
      "overflow": null,
      "overflow_x": null,
      "overflow_y": null,
      "padding": null,
      "right": null,
      "top": null,
      "visibility": null,
      "width": null
     }
    },
    "8eeef6c40db446549c00875c4c7555f2": {
     "model_module": "@jupyter-widgets/controls",
     "model_module_version": "1.5.0",
     "model_name": "HTMLModel",
     "state": {
      "_dom_classes": [],
      "_model_module": "@jupyter-widgets/controls",
      "_model_module_version": "1.5.0",
      "_model_name": "HTMLModel",
      "_view_count": null,
      "_view_module": "@jupyter-widgets/controls",
      "_view_module_version": "1.5.0",
      "_view_name": "HTMLView",
      "description": "",
      "description_tooltip": null,
      "layout": "IPY_MODEL_30637edd114f4ff9987ce6f40d2a216a",
      "placeholder": "​",
      "style": "IPY_MODEL_20e4ec196171491c840925b2a81e334b",
      "value": "Downloading: 100%"
     }
    },
    "90a9b0be275e43d3816278e6bc2956f6": {
     "model_module": "@jupyter-widgets/controls",
     "model_module_version": "1.5.0",
     "model_name": "HBoxModel",
     "state": {
      "_dom_classes": [],
      "_model_module": "@jupyter-widgets/controls",
      "_model_module_version": "1.5.0",
      "_model_name": "HBoxModel",
      "_view_count": null,
      "_view_module": "@jupyter-widgets/controls",
      "_view_module_version": "1.5.0",
      "_view_name": "HBoxView",
      "box_style": "",
      "children": [
       "IPY_MODEL_87c6a691901b420f85910c3c01734b53",
       "IPY_MODEL_213db5c03f884b3582c867903672c978",
       "IPY_MODEL_c5ac9532f72b4e87a351c3e6683bba73"
      ],
      "layout": "IPY_MODEL_5e5eb290f117442eaf79b2a43b9163db"
     }
    },
    "90f343e35c164c6ab0a5b0134dbb937e": {
     "model_module": "@jupyter-widgets/base",
     "model_module_version": "1.2.0",
     "model_name": "LayoutModel",
     "state": {
      "_model_module": "@jupyter-widgets/base",
      "_model_module_version": "1.2.0",
      "_model_name": "LayoutModel",
      "_view_count": null,
      "_view_module": "@jupyter-widgets/base",
      "_view_module_version": "1.2.0",
      "_view_name": "LayoutView",
      "align_content": null,
      "align_items": null,
      "align_self": null,
      "border": null,
      "bottom": null,
      "display": null,
      "flex": null,
      "flex_flow": null,
      "grid_area": null,
      "grid_auto_columns": null,
      "grid_auto_flow": null,
      "grid_auto_rows": null,
      "grid_column": null,
      "grid_gap": null,
      "grid_row": null,
      "grid_template_areas": null,
      "grid_template_columns": null,
      "grid_template_rows": null,
      "height": null,
      "justify_content": null,
      "justify_items": null,
      "left": null,
      "margin": null,
      "max_height": null,
      "max_width": null,
      "min_height": null,
      "min_width": null,
      "object_fit": null,
      "object_position": null,
      "order": null,
      "overflow": null,
      "overflow_x": null,
      "overflow_y": null,
      "padding": null,
      "right": null,
      "top": null,
      "visibility": null,
      "width": null
     }
    },
    "93dba83af3504ffba18949a20f5aa08c": {
     "model_module": "@jupyter-widgets/controls",
     "model_module_version": "1.5.0",
     "model_name": "ProgressStyleModel",
     "state": {
      "_model_module": "@jupyter-widgets/controls",
      "_model_module_version": "1.5.0",
      "_model_name": "ProgressStyleModel",
      "_view_count": null,
      "_view_module": "@jupyter-widgets/base",
      "_view_module_version": "1.2.0",
      "_view_name": "StyleView",
      "bar_color": null,
      "description_width": ""
     }
    },
    "944f3eeffffd4813bb2e393311790a1f": {
     "model_module": "@jupyter-widgets/controls",
     "model_module_version": "1.5.0",
     "model_name": "DescriptionStyleModel",
     "state": {
      "_model_module": "@jupyter-widgets/controls",
      "_model_module_version": "1.5.0",
      "_model_name": "DescriptionStyleModel",
      "_view_count": null,
      "_view_module": "@jupyter-widgets/base",
      "_view_module_version": "1.2.0",
      "_view_name": "StyleView",
      "description_width": ""
     }
    },
    "97b24936bcf646f595342b0f9c00487e": {
     "model_module": "@jupyter-widgets/base",
     "model_module_version": "1.2.0",
     "model_name": "LayoutModel",
     "state": {
      "_model_module": "@jupyter-widgets/base",
      "_model_module_version": "1.2.0",
      "_model_name": "LayoutModel",
      "_view_count": null,
      "_view_module": "@jupyter-widgets/base",
      "_view_module_version": "1.2.0",
      "_view_name": "LayoutView",
      "align_content": null,
      "align_items": null,
      "align_self": null,
      "border": null,
      "bottom": null,
      "display": null,
      "flex": null,
      "flex_flow": null,
      "grid_area": null,
      "grid_auto_columns": null,
      "grid_auto_flow": null,
      "grid_auto_rows": null,
      "grid_column": null,
      "grid_gap": null,
      "grid_row": null,
      "grid_template_areas": null,
      "grid_template_columns": null,
      "grid_template_rows": null,
      "height": null,
      "justify_content": null,
      "justify_items": null,
      "left": null,
      "margin": null,
      "max_height": null,
      "max_width": null,
      "min_height": null,
      "min_width": null,
      "object_fit": null,
      "object_position": null,
      "order": null,
      "overflow": null,
      "overflow_x": null,
      "overflow_y": null,
      "padding": null,
      "right": null,
      "top": null,
      "visibility": null,
      "width": null
     }
    },
    "a3cffa11427b4a9dbfda9365260c0cb1": {
     "model_module": "@jupyter-widgets/base",
     "model_module_version": "1.2.0",
     "model_name": "LayoutModel",
     "state": {
      "_model_module": "@jupyter-widgets/base",
      "_model_module_version": "1.2.0",
      "_model_name": "LayoutModel",
      "_view_count": null,
      "_view_module": "@jupyter-widgets/base",
      "_view_module_version": "1.2.0",
      "_view_name": "LayoutView",
      "align_content": null,
      "align_items": null,
      "align_self": null,
      "border": null,
      "bottom": null,
      "display": null,
      "flex": null,
      "flex_flow": null,
      "grid_area": null,
      "grid_auto_columns": null,
      "grid_auto_flow": null,
      "grid_auto_rows": null,
      "grid_column": null,
      "grid_gap": null,
      "grid_row": null,
      "grid_template_areas": null,
      "grid_template_columns": null,
      "grid_template_rows": null,
      "height": null,
      "justify_content": null,
      "justify_items": null,
      "left": null,
      "margin": null,
      "max_height": null,
      "max_width": null,
      "min_height": null,
      "min_width": null,
      "object_fit": null,
      "object_position": null,
      "order": null,
      "overflow": null,
      "overflow_x": null,
      "overflow_y": null,
      "padding": null,
      "right": null,
      "top": null,
      "visibility": null,
      "width": null
     }
    },
    "a7f83a4f2e0a426cb0a08ba9fbb49e22": {
     "model_module": "@jupyter-widgets/controls",
     "model_module_version": "1.5.0",
     "model_name": "DescriptionStyleModel",
     "state": {
      "_model_module": "@jupyter-widgets/controls",
      "_model_module_version": "1.5.0",
      "_model_name": "DescriptionStyleModel",
      "_view_count": null,
      "_view_module": "@jupyter-widgets/base",
      "_view_module_version": "1.2.0",
      "_view_name": "StyleView",
      "description_width": ""
     }
    },
    "ae3f2129f9f64127964be054722fcc2d": {
     "model_module": "@jupyter-widgets/controls",
     "model_module_version": "1.5.0",
     "model_name": "ProgressStyleModel",
     "state": {
      "_model_module": "@jupyter-widgets/controls",
      "_model_module_version": "1.5.0",
      "_model_name": "ProgressStyleModel",
      "_view_count": null,
      "_view_module": "@jupyter-widgets/base",
      "_view_module_version": "1.2.0",
      "_view_name": "StyleView",
      "bar_color": null,
      "description_width": ""
     }
    },
    "b678201d0c544270aa943485b05e9ef6": {
     "model_module": "@jupyter-widgets/base",
     "model_module_version": "1.2.0",
     "model_name": "LayoutModel",
     "state": {
      "_model_module": "@jupyter-widgets/base",
      "_model_module_version": "1.2.0",
      "_model_name": "LayoutModel",
      "_view_count": null,
      "_view_module": "@jupyter-widgets/base",
      "_view_module_version": "1.2.0",
      "_view_name": "LayoutView",
      "align_content": null,
      "align_items": null,
      "align_self": null,
      "border": null,
      "bottom": null,
      "display": null,
      "flex": null,
      "flex_flow": null,
      "grid_area": null,
      "grid_auto_columns": null,
      "grid_auto_flow": null,
      "grid_auto_rows": null,
      "grid_column": null,
      "grid_gap": null,
      "grid_row": null,
      "grid_template_areas": null,
      "grid_template_columns": null,
      "grid_template_rows": null,
      "height": null,
      "justify_content": null,
      "justify_items": null,
      "left": null,
      "margin": null,
      "max_height": null,
      "max_width": null,
      "min_height": null,
      "min_width": null,
      "object_fit": null,
      "object_position": null,
      "order": null,
      "overflow": null,
      "overflow_x": null,
      "overflow_y": null,
      "padding": null,
      "right": null,
      "top": null,
      "visibility": null,
      "width": null
     }
    },
    "b8d36bcb6b574067949235f92eebe61e": {
     "model_module": "@jupyter-widgets/controls",
     "model_module_version": "1.5.0",
     "model_name": "DescriptionStyleModel",
     "state": {
      "_model_module": "@jupyter-widgets/controls",
      "_model_module_version": "1.5.0",
      "_model_name": "DescriptionStyleModel",
      "_view_count": null,
      "_view_module": "@jupyter-widgets/base",
      "_view_module_version": "1.2.0",
      "_view_name": "StyleView",
      "description_width": ""
     }
    },
    "b93d24ebbab44623841412c1e8e7a776": {
     "model_module": "@jupyter-widgets/controls",
     "model_module_version": "1.5.0",
     "model_name": "ProgressStyleModel",
     "state": {
      "_model_module": "@jupyter-widgets/controls",
      "_model_module_version": "1.5.0",
      "_model_name": "ProgressStyleModel",
      "_view_count": null,
      "_view_module": "@jupyter-widgets/base",
      "_view_module_version": "1.2.0",
      "_view_name": "StyleView",
      "bar_color": null,
      "description_width": ""
     }
    },
    "bf8f2d978f434c4b9a78de86caea9305": {
     "model_module": "@jupyter-widgets/base",
     "model_module_version": "1.2.0",
     "model_name": "LayoutModel",
     "state": {
      "_model_module": "@jupyter-widgets/base",
      "_model_module_version": "1.2.0",
      "_model_name": "LayoutModel",
      "_view_count": null,
      "_view_module": "@jupyter-widgets/base",
      "_view_module_version": "1.2.0",
      "_view_name": "LayoutView",
      "align_content": null,
      "align_items": null,
      "align_self": null,
      "border": null,
      "bottom": null,
      "display": null,
      "flex": null,
      "flex_flow": null,
      "grid_area": null,
      "grid_auto_columns": null,
      "grid_auto_flow": null,
      "grid_auto_rows": null,
      "grid_column": null,
      "grid_gap": null,
      "grid_row": null,
      "grid_template_areas": null,
      "grid_template_columns": null,
      "grid_template_rows": null,
      "height": null,
      "justify_content": null,
      "justify_items": null,
      "left": null,
      "margin": null,
      "max_height": null,
      "max_width": null,
      "min_height": null,
      "min_width": null,
      "object_fit": null,
      "object_position": null,
      "order": null,
      "overflow": null,
      "overflow_x": null,
      "overflow_y": null,
      "padding": null,
      "right": null,
      "top": null,
      "visibility": null,
      "width": null
     }
    },
    "bfef281cb4894695a22e3c56b28acaeb": {
     "model_module": "@jupyter-widgets/base",
     "model_module_version": "1.2.0",
     "model_name": "LayoutModel",
     "state": {
      "_model_module": "@jupyter-widgets/base",
      "_model_module_version": "1.2.0",
      "_model_name": "LayoutModel",
      "_view_count": null,
      "_view_module": "@jupyter-widgets/base",
      "_view_module_version": "1.2.0",
      "_view_name": "LayoutView",
      "align_content": null,
      "align_items": null,
      "align_self": null,
      "border": null,
      "bottom": null,
      "display": null,
      "flex": null,
      "flex_flow": null,
      "grid_area": null,
      "grid_auto_columns": null,
      "grid_auto_flow": null,
      "grid_auto_rows": null,
      "grid_column": null,
      "grid_gap": null,
      "grid_row": null,
      "grid_template_areas": null,
      "grid_template_columns": null,
      "grid_template_rows": null,
      "height": null,
      "justify_content": null,
      "justify_items": null,
      "left": null,
      "margin": null,
      "max_height": null,
      "max_width": null,
      "min_height": null,
      "min_width": null,
      "object_fit": null,
      "object_position": null,
      "order": null,
      "overflow": null,
      "overflow_x": null,
      "overflow_y": null,
      "padding": null,
      "right": null,
      "top": null,
      "visibility": null,
      "width": null
     }
    },
    "c14652812df940608789e8839e4bc960": {
     "model_module": "@jupyter-widgets/base",
     "model_module_version": "1.2.0",
     "model_name": "LayoutModel",
     "state": {
      "_model_module": "@jupyter-widgets/base",
      "_model_module_version": "1.2.0",
      "_model_name": "LayoutModel",
      "_view_count": null,
      "_view_module": "@jupyter-widgets/base",
      "_view_module_version": "1.2.0",
      "_view_name": "LayoutView",
      "align_content": null,
      "align_items": null,
      "align_self": null,
      "border": null,
      "bottom": null,
      "display": null,
      "flex": null,
      "flex_flow": null,
      "grid_area": null,
      "grid_auto_columns": null,
      "grid_auto_flow": null,
      "grid_auto_rows": null,
      "grid_column": null,
      "grid_gap": null,
      "grid_row": null,
      "grid_template_areas": null,
      "grid_template_columns": null,
      "grid_template_rows": null,
      "height": null,
      "justify_content": null,
      "justify_items": null,
      "left": null,
      "margin": null,
      "max_height": null,
      "max_width": null,
      "min_height": null,
      "min_width": null,
      "object_fit": null,
      "object_position": null,
      "order": null,
      "overflow": null,
      "overflow_x": null,
      "overflow_y": null,
      "padding": null,
      "right": null,
      "top": null,
      "visibility": null,
      "width": null
     }
    },
    "c46b9cd0c9ee4b019dfa0c3d52754bbb": {
     "model_module": "@jupyter-widgets/base",
     "model_module_version": "1.2.0",
     "model_name": "LayoutModel",
     "state": {
      "_model_module": "@jupyter-widgets/base",
      "_model_module_version": "1.2.0",
      "_model_name": "LayoutModel",
      "_view_count": null,
      "_view_module": "@jupyter-widgets/base",
      "_view_module_version": "1.2.0",
      "_view_name": "LayoutView",
      "align_content": null,
      "align_items": null,
      "align_self": null,
      "border": null,
      "bottom": null,
      "display": null,
      "flex": null,
      "flex_flow": null,
      "grid_area": null,
      "grid_auto_columns": null,
      "grid_auto_flow": null,
      "grid_auto_rows": null,
      "grid_column": null,
      "grid_gap": null,
      "grid_row": null,
      "grid_template_areas": null,
      "grid_template_columns": null,
      "grid_template_rows": null,
      "height": null,
      "justify_content": null,
      "justify_items": null,
      "left": null,
      "margin": null,
      "max_height": null,
      "max_width": null,
      "min_height": null,
      "min_width": null,
      "object_fit": null,
      "object_position": null,
      "order": null,
      "overflow": null,
      "overflow_x": null,
      "overflow_y": null,
      "padding": null,
      "right": null,
      "top": null,
      "visibility": null,
      "width": null
     }
    },
    "c5ac9532f72b4e87a351c3e6683bba73": {
     "model_module": "@jupyter-widgets/controls",
     "model_module_version": "1.5.0",
     "model_name": "HTMLModel",
     "state": {
      "_dom_classes": [],
      "_model_module": "@jupyter-widgets/controls",
      "_model_module_version": "1.5.0",
      "_model_name": "HTMLModel",
      "_view_count": null,
      "_view_module": "@jupyter-widgets/controls",
      "_view_module_version": "1.5.0",
      "_view_name": "HTMLView",
      "description": "",
      "description_tooltip": null,
      "layout": "IPY_MODEL_97b24936bcf646f595342b0f9c00487e",
      "placeholder": "​",
      "style": "IPY_MODEL_00c3556bccb34ef993e8aa965c2f20a1",
      "value": " 456k/456k [00:00&lt;00:00, 1.39MB/s]"
     }
    },
    "c6496aeb50954571a06ed9f8a35221d7": {
     "model_module": "@jupyter-widgets/base",
     "model_module_version": "1.2.0",
     "model_name": "LayoutModel",
     "state": {
      "_model_module": "@jupyter-widgets/base",
      "_model_module_version": "1.2.0",
      "_model_name": "LayoutModel",
      "_view_count": null,
      "_view_module": "@jupyter-widgets/base",
      "_view_module_version": "1.2.0",
      "_view_name": "LayoutView",
      "align_content": null,
      "align_items": null,
      "align_self": null,
      "border": null,
      "bottom": null,
      "display": null,
      "flex": null,
      "flex_flow": null,
      "grid_area": null,
      "grid_auto_columns": null,
      "grid_auto_flow": null,
      "grid_auto_rows": null,
      "grid_column": null,
      "grid_gap": null,
      "grid_row": null,
      "grid_template_areas": null,
      "grid_template_columns": null,
      "grid_template_rows": null,
      "height": null,
      "justify_content": null,
      "justify_items": null,
      "left": null,
      "margin": null,
      "max_height": null,
      "max_width": null,
      "min_height": null,
      "min_width": null,
      "object_fit": null,
      "object_position": null,
      "order": null,
      "overflow": null,
      "overflow_x": null,
      "overflow_y": null,
      "padding": null,
      "right": null,
      "top": null,
      "visibility": null,
      "width": null
     }
    },
    "c90afa66a0444a989085fe443cecda13": {
     "model_module": "@jupyter-widgets/controls",
     "model_module_version": "1.5.0",
     "model_name": "ProgressStyleModel",
     "state": {
      "_model_module": "@jupyter-widgets/controls",
      "_model_module_version": "1.5.0",
      "_model_name": "ProgressStyleModel",
      "_view_count": null,
      "_view_module": "@jupyter-widgets/base",
      "_view_module_version": "1.2.0",
      "_view_name": "StyleView",
      "bar_color": null,
      "description_width": ""
     }
    },
    "cc52eb72120f492ca24fcbbfbc06338f": {
     "model_module": "@jupyter-widgets/base",
     "model_module_version": "1.2.0",
     "model_name": "LayoutModel",
     "state": {
      "_model_module": "@jupyter-widgets/base",
      "_model_module_version": "1.2.0",
      "_model_name": "LayoutModel",
      "_view_count": null,
      "_view_module": "@jupyter-widgets/base",
      "_view_module_version": "1.2.0",
      "_view_name": "LayoutView",
      "align_content": null,
      "align_items": null,
      "align_self": null,
      "border": null,
      "bottom": null,
      "display": null,
      "flex": null,
      "flex_flow": null,
      "grid_area": null,
      "grid_auto_columns": null,
      "grid_auto_flow": null,
      "grid_auto_rows": null,
      "grid_column": null,
      "grid_gap": null,
      "grid_row": null,
      "grid_template_areas": null,
      "grid_template_columns": null,
      "grid_template_rows": null,
      "height": null,
      "justify_content": null,
      "justify_items": null,
      "left": null,
      "margin": null,
      "max_height": null,
      "max_width": null,
      "min_height": null,
      "min_width": null,
      "object_fit": null,
      "object_position": null,
      "order": null,
      "overflow": null,
      "overflow_x": null,
      "overflow_y": null,
      "padding": null,
      "right": null,
      "top": null,
      "visibility": null,
      "width": null
     }
    },
    "cd60467ddb0e482cad5a545be4d6c40a": {
     "model_module": "@jupyter-widgets/controls",
     "model_module_version": "1.5.0",
     "model_name": "FloatProgressModel",
     "state": {
      "_dom_classes": [],
      "_model_module": "@jupyter-widgets/controls",
      "_model_module_version": "1.5.0",
      "_model_name": "FloatProgressModel",
      "_view_count": null,
      "_view_module": "@jupyter-widgets/controls",
      "_view_module_version": "1.5.0",
      "_view_name": "ProgressView",
      "bar_style": "success",
      "description": "",
      "description_tooltip": null,
      "layout": "IPY_MODEL_5b1fcf2fcf5549a99cd3b59954d3ad49",
      "max": 481,
      "min": 0,
      "orientation": "horizontal",
      "style": "IPY_MODEL_eea1947c4c394f72acf4d599aa8197f4",
      "value": 481
     }
    },
    "ce89bfcdc4594c008d66d92127bdb63f": {
     "model_module": "@jupyter-widgets/controls",
     "model_module_version": "1.5.0",
     "model_name": "HBoxModel",
     "state": {
      "_dom_classes": [],
      "_model_module": "@jupyter-widgets/controls",
      "_model_module_version": "1.5.0",
      "_model_name": "HBoxModel",
      "_view_count": null,
      "_view_module": "@jupyter-widgets/controls",
      "_view_module_version": "1.5.0",
      "_view_name": "HBoxView",
      "box_style": "",
      "children": [
       "IPY_MODEL_0af6d71274124046ae5dae752d76f7ae",
       "IPY_MODEL_0175446e45d8462eb16aa9a6a17e167f",
       "IPY_MODEL_cf599d329a8d4c8b95330a239f4452f7"
      ],
      "layout": "IPY_MODEL_328309400aac4c91a98caf926a5c4109"
     }
    },
    "cf599d329a8d4c8b95330a239f4452f7": {
     "model_module": "@jupyter-widgets/controls",
     "model_module_version": "1.5.0",
     "model_name": "HTMLModel",
     "state": {
      "_dom_classes": [],
      "_model_module": "@jupyter-widgets/controls",
      "_model_module_version": "1.5.0",
      "_model_name": "HTMLModel",
      "_view_count": null,
      "_view_module": "@jupyter-widgets/controls",
      "_view_module_version": "1.5.0",
      "_view_name": "HTMLView",
      "description": "",
      "description_tooltip": null,
      "layout": "IPY_MODEL_fa7ee721718a47bd929656352fbc8d08",
      "placeholder": "​",
      "style": "IPY_MODEL_35056b16df464a869239dc4a7271d13a",
      "value": " 1.36M/1.36M [00:00&lt;00:00, 1.08MB/s]"
     }
    },
    "cf84941c3b914b599f43a8d49561c6ea": {
     "model_module": "@jupyter-widgets/controls",
     "model_module_version": "1.5.0",
     "model_name": "DescriptionStyleModel",
     "state": {
      "_model_module": "@jupyter-widgets/controls",
      "_model_module_version": "1.5.0",
      "_model_name": "DescriptionStyleModel",
      "_view_count": null,
      "_view_module": "@jupyter-widgets/base",
      "_view_module_version": "1.2.0",
      "_view_name": "StyleView",
      "description_width": ""
     }
    },
    "d16b2438ca0843eb8753e03d6ce32d7d": {
     "model_module": "@jupyter-widgets/controls",
     "model_module_version": "1.5.0",
     "model_name": "FloatProgressModel",
     "state": {
      "_dom_classes": [],
      "_model_module": "@jupyter-widgets/controls",
      "_model_module_version": "1.5.0",
      "_model_name": "FloatProgressModel",
      "_view_count": null,
      "_view_module": "@jupyter-widgets/controls",
      "_view_module_version": "1.5.0",
      "_view_name": "ProgressView",
      "bar_style": "success",
      "description": "",
      "description_tooltip": null,
      "layout": "IPY_MODEL_d7d1b763e70d4caeb808a9c23c9101f7",
      "max": 481,
      "min": 0,
      "orientation": "horizontal",
      "style": "IPY_MODEL_f7ffd514652248849a14eaf150b85572",
      "value": 481
     }
    },
    "d733b75731134224b46d730b1ee667e5": {
     "model_module": "@jupyter-widgets/controls",
     "model_module_version": "1.5.0",
     "model_name": "FloatProgressModel",
     "state": {
      "_dom_classes": [],
      "_model_module": "@jupyter-widgets/controls",
      "_model_module_version": "1.5.0",
      "_model_name": "FloatProgressModel",
      "_view_count": null,
      "_view_module": "@jupyter-widgets/controls",
      "_view_module_version": "1.5.0",
      "_view_name": "ProgressView",
      "bar_style": "success",
      "description": "",
      "description_tooltip": null,
      "layout": "IPY_MODEL_43a99d95b1a849a493c363db6e2e3cef",
      "max": 1355863,
      "min": 0,
      "orientation": "horizontal",
      "style": "IPY_MODEL_93dba83af3504ffba18949a20f5aa08c",
      "value": 1355863
     }
    },
    "d7d1b763e70d4caeb808a9c23c9101f7": {
     "model_module": "@jupyter-widgets/base",
     "model_module_version": "1.2.0",
     "model_name": "LayoutModel",
     "state": {
      "_model_module": "@jupyter-widgets/base",
      "_model_module_version": "1.2.0",
      "_model_name": "LayoutModel",
      "_view_count": null,
      "_view_module": "@jupyter-widgets/base",
      "_view_module_version": "1.2.0",
      "_view_name": "LayoutView",
      "align_content": null,
      "align_items": null,
      "align_self": null,
      "border": null,
      "bottom": null,
      "display": null,
      "flex": null,
      "flex_flow": null,
      "grid_area": null,
      "grid_auto_columns": null,
      "grid_auto_flow": null,
      "grid_auto_rows": null,
      "grid_column": null,
      "grid_gap": null,
      "grid_row": null,
      "grid_template_areas": null,
      "grid_template_columns": null,
      "grid_template_rows": null,
      "height": null,
      "justify_content": null,
      "justify_items": null,
      "left": null,
      "margin": null,
      "max_height": null,
      "max_width": null,
      "min_height": null,
      "min_width": null,
      "object_fit": null,
      "object_position": null,
      "order": null,
      "overflow": null,
      "overflow_x": null,
      "overflow_y": null,
      "padding": null,
      "right": null,
      "top": null,
      "visibility": null,
      "width": null
     }
    },
    "da212c5e4dec4241b43d685abd265ca1": {
     "model_module": "@jupyter-widgets/base",
     "model_module_version": "1.2.0",
     "model_name": "LayoutModel",
     "state": {
      "_model_module": "@jupyter-widgets/base",
      "_model_module_version": "1.2.0",
      "_model_name": "LayoutModel",
      "_view_count": null,
      "_view_module": "@jupyter-widgets/base",
      "_view_module_version": "1.2.0",
      "_view_name": "LayoutView",
      "align_content": null,
      "align_items": null,
      "align_self": null,
      "border": null,
      "bottom": null,
      "display": null,
      "flex": null,
      "flex_flow": null,
      "grid_area": null,
      "grid_auto_columns": null,
      "grid_auto_flow": null,
      "grid_auto_rows": null,
      "grid_column": null,
      "grid_gap": null,
      "grid_row": null,
      "grid_template_areas": null,
      "grid_template_columns": null,
      "grid_template_rows": null,
      "height": null,
      "justify_content": null,
      "justify_items": null,
      "left": null,
      "margin": null,
      "max_height": null,
      "max_width": null,
      "min_height": null,
      "min_width": null,
      "object_fit": null,
      "object_position": null,
      "order": null,
      "overflow": null,
      "overflow_x": null,
      "overflow_y": null,
      "padding": null,
      "right": null,
      "top": null,
      "visibility": null,
      "width": null
     }
    },
    "dcd87f4e87f94d3a9bf402f62252696b": {
     "model_module": "@jupyter-widgets/base",
     "model_module_version": "1.2.0",
     "model_name": "LayoutModel",
     "state": {
      "_model_module": "@jupyter-widgets/base",
      "_model_module_version": "1.2.0",
      "_model_name": "LayoutModel",
      "_view_count": null,
      "_view_module": "@jupyter-widgets/base",
      "_view_module_version": "1.2.0",
      "_view_name": "LayoutView",
      "align_content": null,
      "align_items": null,
      "align_self": null,
      "border": null,
      "bottom": null,
      "display": null,
      "flex": null,
      "flex_flow": null,
      "grid_area": null,
      "grid_auto_columns": null,
      "grid_auto_flow": null,
      "grid_auto_rows": null,
      "grid_column": null,
      "grid_gap": null,
      "grid_row": null,
      "grid_template_areas": null,
      "grid_template_columns": null,
      "grid_template_rows": null,
      "height": null,
      "justify_content": null,
      "justify_items": null,
      "left": null,
      "margin": null,
      "max_height": null,
      "max_width": null,
      "min_height": null,
      "min_width": null,
      "object_fit": null,
      "object_position": null,
      "order": null,
      "overflow": null,
      "overflow_x": null,
      "overflow_y": null,
      "padding": null,
      "right": null,
      "top": null,
      "visibility": null,
      "width": null
     }
    },
    "e950cd0aa35d499896b12fecd39cb585": {
     "model_module": "@jupyter-widgets/controls",
     "model_module_version": "1.5.0",
     "model_name": "ProgressStyleModel",
     "state": {
      "_model_module": "@jupyter-widgets/controls",
      "_model_module_version": "1.5.0",
      "_model_name": "ProgressStyleModel",
      "_view_count": null,
      "_view_module": "@jupyter-widgets/base",
      "_view_module_version": "1.2.0",
      "_view_name": "StyleView",
      "bar_color": null,
      "description_width": ""
     }
    },
    "eabf87fa22c34effa679439406f84401": {
     "model_module": "@jupyter-widgets/controls",
     "model_module_version": "1.5.0",
     "model_name": "HTMLModel",
     "state": {
      "_dom_classes": [],
      "_model_module": "@jupyter-widgets/controls",
      "_model_module_version": "1.5.0",
      "_model_name": "HTMLModel",
      "_view_count": null,
      "_view_module": "@jupyter-widgets/controls",
      "_view_module_version": "1.5.0",
      "_view_name": "HTMLView",
      "description": "",
      "description_tooltip": null,
      "layout": "IPY_MODEL_5258d172ddec4c6d94a3a4a8198ca488",
      "placeholder": "​",
      "style": "IPY_MODEL_6cd81bac79914db0b0b68fe19d0ac5d6",
      "value": " 899k/899k [00:00&lt;00:00, 700kB/s]"
     }
    },
    "ed37b6eb86ab4c42a08ab0749332cc7c": {
     "model_module": "@jupyter-widgets/controls",
     "model_module_version": "1.5.0",
     "model_name": "HTMLModel",
     "state": {
      "_dom_classes": [],
      "_model_module": "@jupyter-widgets/controls",
      "_model_module_version": "1.5.0",
      "_model_name": "HTMLModel",
      "_view_count": null,
      "_view_module": "@jupyter-widgets/controls",
      "_view_module_version": "1.5.0",
      "_view_name": "HTMLView",
      "description": "",
      "description_tooltip": null,
      "layout": "IPY_MODEL_dcd87f4e87f94d3a9bf402f62252696b",
      "placeholder": "​",
      "style": "IPY_MODEL_6aa4dee4902e408f99bebc2c6df3704f",
      "value": "Downloading: 100%"
     }
    },
    "eea1947c4c394f72acf4d599aa8197f4": {
     "model_module": "@jupyter-widgets/controls",
     "model_module_version": "1.5.0",
     "model_name": "ProgressStyleModel",
     "state": {
      "_model_module": "@jupyter-widgets/controls",
      "_model_module_version": "1.5.0",
      "_model_name": "ProgressStyleModel",
      "_view_count": null,
      "_view_module": "@jupyter-widgets/base",
      "_view_module_version": "1.2.0",
      "_view_name": "StyleView",
      "bar_color": null,
      "description_width": ""
     }
    },
    "f0a013b1523c4f8fb28f813b821ed23f": {
     "model_module": "@jupyter-widgets/base",
     "model_module_version": "1.2.0",
     "model_name": "LayoutModel",
     "state": {
      "_model_module": "@jupyter-widgets/base",
      "_model_module_version": "1.2.0",
      "_model_name": "LayoutModel",
      "_view_count": null,
      "_view_module": "@jupyter-widgets/base",
      "_view_module_version": "1.2.0",
      "_view_name": "LayoutView",
      "align_content": null,
      "align_items": null,
      "align_self": null,
      "border": null,
      "bottom": null,
      "display": null,
      "flex": null,
      "flex_flow": null,
      "grid_area": null,
      "grid_auto_columns": null,
      "grid_auto_flow": null,
      "grid_auto_rows": null,
      "grid_column": null,
      "grid_gap": null,
      "grid_row": null,
      "grid_template_areas": null,
      "grid_template_columns": null,
      "grid_template_rows": null,
      "height": null,
      "justify_content": null,
      "justify_items": null,
      "left": null,
      "margin": null,
      "max_height": null,
      "max_width": null,
      "min_height": null,
      "min_width": null,
      "object_fit": null,
      "object_position": null,
      "order": null,
      "overflow": null,
      "overflow_x": null,
      "overflow_y": null,
      "padding": null,
      "right": null,
      "top": null,
      "visibility": null,
      "width": null
     }
    },
    "f2dbf734312c4eaba01f5af03b41bfd8": {
     "model_module": "@jupyter-widgets/controls",
     "model_module_version": "1.5.0",
     "model_name": "HBoxModel",
     "state": {
      "_dom_classes": [],
      "_model_module": "@jupyter-widgets/controls",
      "_model_module_version": "1.5.0",
      "_model_name": "HBoxModel",
      "_view_count": null,
      "_view_module": "@jupyter-widgets/controls",
      "_view_module_version": "1.5.0",
      "_view_name": "HBoxView",
      "box_style": "",
      "children": [
       "IPY_MODEL_12a469e0af4e4b4d8d8adce41abd3a32",
       "IPY_MODEL_d16b2438ca0843eb8753e03d6ce32d7d",
       "IPY_MODEL_57a7d177446b4ace94f32feb55b5852c"
      ],
      "layout": "IPY_MODEL_3d32696ce33440439a07e191b4659825"
     }
    },
    "f58d7fc4e5a246bc9c3eb0eb88182de0": {
     "model_module": "@jupyter-widgets/base",
     "model_module_version": "1.2.0",
     "model_name": "LayoutModel",
     "state": {
      "_model_module": "@jupyter-widgets/base",
      "_model_module_version": "1.2.0",
      "_model_name": "LayoutModel",
      "_view_count": null,
      "_view_module": "@jupyter-widgets/base",
      "_view_module_version": "1.2.0",
      "_view_name": "LayoutView",
      "align_content": null,
      "align_items": null,
      "align_self": null,
      "border": null,
      "bottom": null,
      "display": null,
      "flex": null,
      "flex_flow": null,
      "grid_area": null,
      "grid_auto_columns": null,
      "grid_auto_flow": null,
      "grid_auto_rows": null,
      "grid_column": null,
      "grid_gap": null,
      "grid_row": null,
      "grid_template_areas": null,
      "grid_template_columns": null,
      "grid_template_rows": null,
      "height": null,
      "justify_content": null,
      "justify_items": null,
      "left": null,
      "margin": null,
      "max_height": null,
      "max_width": null,
      "min_height": null,
      "min_width": null,
      "object_fit": null,
      "object_position": null,
      "order": null,
      "overflow": null,
      "overflow_x": null,
      "overflow_y": null,
      "padding": null,
      "right": null,
      "top": null,
      "visibility": null,
      "width": null
     }
    },
    "f5ff34b262374950a8e055e1ccf74a6a": {
     "model_module": "@jupyter-widgets/controls",
     "model_module_version": "1.5.0",
     "model_name": "HTMLModel",
     "state": {
      "_dom_classes": [],
      "_model_module": "@jupyter-widgets/controls",
      "_model_module_version": "1.5.0",
      "_model_name": "HTMLModel",
      "_view_count": null,
      "_view_module": "@jupyter-widgets/controls",
      "_view_module_version": "1.5.0",
      "_view_name": "HTMLView",
      "description": "",
      "description_tooltip": null,
      "layout": "IPY_MODEL_1d554a72d0474a2fa5a446e24afde28c",
      "placeholder": "​",
      "style": "IPY_MODEL_944f3eeffffd4813bb2e393311790a1f",
      "value": " 501M/501M [00:13&lt;00:00, 28.0MB/s]"
     }
    },
    "f7ffd514652248849a14eaf150b85572": {
     "model_module": "@jupyter-widgets/controls",
     "model_module_version": "1.5.0",
     "model_name": "ProgressStyleModel",
     "state": {
      "_model_module": "@jupyter-widgets/controls",
      "_model_module_version": "1.5.0",
      "_model_name": "ProgressStyleModel",
      "_view_count": null,
      "_view_module": "@jupyter-widgets/base",
      "_view_module_version": "1.2.0",
      "_view_name": "StyleView",
      "bar_color": null,
      "description_width": ""
     }
    },
    "f889f7691bab4019a6bb5acefb4eeebf": {
     "model_module": "@jupyter-widgets/controls",
     "model_module_version": "1.5.0",
     "model_name": "FloatProgressModel",
     "state": {
      "_dom_classes": [],
      "_model_module": "@jupyter-widgets/controls",
      "_model_module_version": "1.5.0",
      "_model_name": "FloatProgressModel",
      "_view_count": null,
      "_view_module": "@jupyter-widgets/controls",
      "_view_module_version": "1.5.0",
      "_view_name": "ProgressView",
      "bar_style": "success",
      "description": "",
      "description_tooltip": null,
      "layout": "IPY_MODEL_a3cffa11427b4a9dbfda9365260c0cb1",
      "max": 501200538,
      "min": 0,
      "orientation": "horizontal",
      "style": "IPY_MODEL_c90afa66a0444a989085fe443cecda13",
      "value": 501200538
     }
    },
    "f9b76fd89483478cb69e3a54548d7bdd": {
     "model_module": "@jupyter-widgets/base",
     "model_module_version": "1.2.0",
     "model_name": "LayoutModel",
     "state": {
      "_model_module": "@jupyter-widgets/base",
      "_model_module_version": "1.2.0",
      "_model_name": "LayoutModel",
      "_view_count": null,
      "_view_module": "@jupyter-widgets/base",
      "_view_module_version": "1.2.0",
      "_view_name": "LayoutView",
      "align_content": null,
      "align_items": null,
      "align_self": null,
      "border": null,
      "bottom": null,
      "display": null,
      "flex": null,
      "flex_flow": null,
      "grid_area": null,
      "grid_auto_columns": null,
      "grid_auto_flow": null,
      "grid_auto_rows": null,
      "grid_column": null,
      "grid_gap": null,
      "grid_row": null,
      "grid_template_areas": null,
      "grid_template_columns": null,
      "grid_template_rows": null,
      "height": null,
      "justify_content": null,
      "justify_items": null,
      "left": null,
      "margin": null,
      "max_height": null,
      "max_width": null,
      "min_height": null,
      "min_width": null,
      "object_fit": null,
      "object_position": null,
      "order": null,
      "overflow": null,
      "overflow_x": null,
      "overflow_y": null,
      "padding": null,
      "right": null,
      "top": null,
      "visibility": null,
      "width": null
     }
    },
    "fa7ee721718a47bd929656352fbc8d08": {
     "model_module": "@jupyter-widgets/base",
     "model_module_version": "1.2.0",
     "model_name": "LayoutModel",
     "state": {
      "_model_module": "@jupyter-widgets/base",
      "_model_module_version": "1.2.0",
      "_model_name": "LayoutModel",
      "_view_count": null,
      "_view_module": "@jupyter-widgets/base",
      "_view_module_version": "1.2.0",
      "_view_name": "LayoutView",
      "align_content": null,
      "align_items": null,
      "align_self": null,
      "border": null,
      "bottom": null,
      "display": null,
      "flex": null,
      "flex_flow": null,
      "grid_area": null,
      "grid_auto_columns": null,
      "grid_auto_flow": null,
      "grid_auto_rows": null,
      "grid_column": null,
      "grid_gap": null,
      "grid_row": null,
      "grid_template_areas": null,
      "grid_template_columns": null,
      "grid_template_rows": null,
      "height": null,
      "justify_content": null,
      "justify_items": null,
      "left": null,
      "margin": null,
      "max_height": null,
      "max_width": null,
      "min_height": null,
      "min_width": null,
      "object_fit": null,
      "object_position": null,
      "order": null,
      "overflow": null,
      "overflow_x": null,
      "overflow_y": null,
      "padding": null,
      "right": null,
      "top": null,
      "visibility": null,
      "width": null
     }
    },
    "faaf50ca4d9d43ae800dffa103b07875": {
     "model_module": "@jupyter-widgets/base",
     "model_module_version": "1.2.0",
     "model_name": "LayoutModel",
     "state": {
      "_model_module": "@jupyter-widgets/base",
      "_model_module_version": "1.2.0",
      "_model_name": "LayoutModel",
      "_view_count": null,
      "_view_module": "@jupyter-widgets/base",
      "_view_module_version": "1.2.0",
      "_view_name": "LayoutView",
      "align_content": null,
      "align_items": null,
      "align_self": null,
      "border": null,
      "bottom": null,
      "display": null,
      "flex": null,
      "flex_flow": null,
      "grid_area": null,
      "grid_auto_columns": null,
      "grid_auto_flow": null,
      "grid_auto_rows": null,
      "grid_column": null,
      "grid_gap": null,
      "grid_row": null,
      "grid_template_areas": null,
      "grid_template_columns": null,
      "grid_template_rows": null,
      "height": null,
      "justify_content": null,
      "justify_items": null,
      "left": null,
      "margin": null,
      "max_height": null,
      "max_width": null,
      "min_height": null,
      "min_width": null,
      "object_fit": null,
      "object_position": null,
      "order": null,
      "overflow": null,
      "overflow_x": null,
      "overflow_y": null,
      "padding": null,
      "right": null,
      "top": null,
      "visibility": null,
      "width": null
     }
    },
    "fc069e5049644e1f86636a6bc00687d5": {
     "model_module": "@jupyter-widgets/controls",
     "model_module_version": "1.5.0",
     "model_name": "DescriptionStyleModel",
     "state": {
      "_model_module": "@jupyter-widgets/controls",
      "_model_module_version": "1.5.0",
      "_model_name": "DescriptionStyleModel",
      "_view_count": null,
      "_view_module": "@jupyter-widgets/base",
      "_view_module_version": "1.2.0",
      "_view_name": "StyleView",
      "description_width": ""
     }
    },
    "fd80a0f9f21249d5a6754163fd8b66ed": {
     "model_module": "@jupyter-widgets/base",
     "model_module_version": "1.2.0",
     "model_name": "LayoutModel",
     "state": {
      "_model_module": "@jupyter-widgets/base",
      "_model_module_version": "1.2.0",
      "_model_name": "LayoutModel",
      "_view_count": null,
      "_view_module": "@jupyter-widgets/base",
      "_view_module_version": "1.2.0",
      "_view_name": "LayoutView",
      "align_content": null,
      "align_items": null,
      "align_self": null,
      "border": null,
      "bottom": null,
      "display": null,
      "flex": null,
      "flex_flow": null,
      "grid_area": null,
      "grid_auto_columns": null,
      "grid_auto_flow": null,
      "grid_auto_rows": null,
      "grid_column": null,
      "grid_gap": null,
      "grid_row": null,
      "grid_template_areas": null,
      "grid_template_columns": null,
      "grid_template_rows": null,
      "height": null,
      "justify_content": null,
      "justify_items": null,
      "left": null,
      "margin": null,
      "max_height": null,
      "max_width": null,
      "min_height": null,
      "min_width": null,
      "object_fit": null,
      "object_position": null,
      "order": null,
      "overflow": null,
      "overflow_x": null,
      "overflow_y": null,
      "padding": null,
      "right": null,
      "top": null,
      "visibility": null,
      "width": null
     }
    },
    "fdd23ee0ca814696ba45c6dbc650755f": {
     "model_module": "@jupyter-widgets/controls",
     "model_module_version": "1.5.0",
     "model_name": "DescriptionStyleModel",
     "state": {
      "_model_module": "@jupyter-widgets/controls",
      "_model_module_version": "1.5.0",
      "_model_name": "DescriptionStyleModel",
      "_view_count": null,
      "_view_module": "@jupyter-widgets/base",
      "_view_module_version": "1.2.0",
      "_view_name": "StyleView",
      "description_width": ""
     }
    }
   }
  }
 },
 "nbformat": 4,
 "nbformat_minor": 1
}
